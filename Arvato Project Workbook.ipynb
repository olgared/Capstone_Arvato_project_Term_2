{
 "cells": [
  {
   "cell_type": "markdown",
   "metadata": {},
   "source": [
    "# Capstone Project: Create a Customer Segmentation Report for Arvato Financial Services\n",
    "\n",
    "In this project, you will analyze demographics data for customers of a mail-order sales company in Germany, comparing it against demographics information for the general population. You'll use unsupervised learning techniques to perform customer segmentation, identifying the parts of the population that best describe the core customer base of the company. Then, you'll apply what you've learned on a third dataset with demographics information for targets of a marketing campaign for the company, and use a model to predict which individuals are most likely to convert into becoming customers for the company. The data that you will use has been provided by our partners at Bertelsmann Arvato Analytics, and represents a real-life data science task.\n",
    "\n",
    "If you completed the first term of this program, you will be familiar with the first part of this project, from the unsupervised learning project. The versions of those two datasets used in this project will include many more features and has not been pre-cleaned. You are also free to choose whatever approach you'd like to analyzing the data rather than follow pre-determined steps. In your work on this project, make sure that you carefully document your steps and decisions, since your main deliverable for this project will be a blog post reporting your findings."
   ]
  },
  {
   "cell_type": "code",
   "execution_count": 2,
   "metadata": {},
   "outputs": [],
   "source": [
    "# import libraries here; add more as necessary\n",
    "import numpy as np\n",
    "import pandas as pd\n",
    "import matplotlib.pyplot as plt\n",
    "\n",
    "from sklearn.preprocessing import Imputer, StandardScaler\n",
    "from sklearn.decomposition import PCA\n",
    "from sklearn.cluster import KMeans\n",
    "\n",
    "from sklearn.model_selection import GridSearchCV, train_test_split, cross_val_score\n",
    "from sklearn.ensemble import RandomForestClassifier, GradientBoostingClassifier, GradientBoostingRegressor, AdaBoostClassifier\n",
    "from sklearn.pipeline import Pipeline\n",
    "from sklearn.metrics import roc_auc_score\n",
    "from sklearn.pipeline import make_pipeline\n",
    "\n",
    "\n",
    "import re\n",
    "import seaborn as sns\n",
    "import time\n",
    "\n",
    "\n",
    "# magic word for producing visualizations in notebook\n",
    "%matplotlib inline\n",
    "\n"
   ]
  },
  {
   "cell_type": "markdown",
   "metadata": {},
   "source": [
    "## Part 0: Get to Know the Data\n",
    "\n",
    "There are four data files associated with this project:\n",
    "\n",
    "- `Udacity_AZDIAS_052018.csv`: Demographics data for the general population of Germany; 891 211 persons (rows) x 366 features (columns).\n",
    "- `Udacity_CUSTOMERS_052018.csv`: Demographics data for customers of a mail-order company; 191 652 persons (rows) x 369 features (columns).\n",
    "- `Udacity_MAILOUT_052018_TRAIN.csv`: Demographics data for individuals who were targets of a marketing campaign; 42 982 persons (rows) x 367 (columns).\n",
    "- `Udacity_MAILOUT_052018_TEST.csv`: Demographics data for individuals who were targets of a marketing campaign; 42 833 persons (rows) x 366 (columns).\n",
    "\n",
    "Each row of the demographics files represents a single person, but also includes information outside of individuals, including information about their household, building, and neighborhood. Use the information from the first two files to figure out how customers (\"CUSTOMERS\") are similar to or differ from the general population at large (\"AZDIAS\"), then use your analysis to make predictions on the other two files (\"MAILOUT\"), predicting which recipients are most likely to become a customer for the mail-order company.\n",
    "\n",
    "The \"CUSTOMERS\" file contains three extra columns ('CUSTOMER_GROUP', 'ONLINE_PURCHASE', and 'PRODUCT_GROUP'), which provide broad information about the customers depicted in the file. The original \"MAILOUT\" file included one additional column, \"RESPONSE\", which indicated whether or not each recipient became a customer of the company. For the \"TRAIN\" subset, this column has been retained, but in the \"TEST\" subset it has been removed; it is against that withheld column that your final predictions will be assessed in the Kaggle competition.\n",
    "\n",
    "Otherwise, all of the remaining columns are the same between the three data files. For more information about the columns depicted in the files, you can refer to two Excel spreadsheets provided in the workspace. [One of them](./DIAS Information Levels - Attributes 2017.xlsx) is a top-level list of attributes and descriptions, organized by informational category. [The other](./DIAS Attributes - Values 2017.xlsx) is a detailed mapping of data values for each feature in alphabetical order.\n",
    "\n",
    "In the below cell, we've provided some initial code to load in the first two datasets. Note for all of the `.csv` data files in this project that they're semicolon (`;`) delimited, so an additional argument in the [`read_csv()`](https://pandas.pydata.org/pandas-docs/stable/generated/pandas.read_csv.html) call has been included to read in the data properly. Also, considering the size of the datasets, it may take some time for them to load completely.\n",
    "\n",
    "You'll notice when the data is loaded in that a warning message will immediately pop up. Before you really start digging into the modeling and analysis, you're going to need to perform some cleaning. Take some time to browse the structure of the data and look over the informational spreadsheets to understand the data values. Make some decisions on which features to keep, which features to drop, and if any revisions need to be made on data formats. It'll be a good idea to create a function with pre-processing steps, since you'll need to clean all of the datasets before you work with them."
   ]
  },
  {
   "cell_type": "code",
   "execution_count": 3,
   "metadata": {},
   "outputs": [],
   "source": [
    "# load in the data\n",
    "azdias = pd.read_csv('../../data/Term2/capstone/arvato_data/Udacity_AZDIAS_052018.csv', sep=';', low_memory=False)\n",
    "#customers = pd.read_csv('../../data/Term2/capstone/arvato_data/Udacity_CUSTOMERS_052018.csv', sep=';')"
   ]
  },
  {
   "cell_type": "code",
   "execution_count": 3,
   "metadata": {},
   "outputs": [
    {
     "name": "stdout",
     "output_type": "stream",
     "text": [
      "Number of columns:  366\n",
      "Number of rows:  891221\n"
     ]
    },
    {
     "data": {
      "text/html": [
       "<div>\n",
       "<style scoped>\n",
       "    .dataframe tbody tr th:only-of-type {\n",
       "        vertical-align: middle;\n",
       "    }\n",
       "\n",
       "    .dataframe tbody tr th {\n",
       "        vertical-align: top;\n",
       "    }\n",
       "\n",
       "    .dataframe thead th {\n",
       "        text-align: right;\n",
       "    }\n",
       "</style>\n",
       "<table border=\"1\" class=\"dataframe\">\n",
       "  <thead>\n",
       "    <tr style=\"text-align: right;\">\n",
       "      <th></th>\n",
       "      <th>LNR</th>\n",
       "      <th>AGER_TYP</th>\n",
       "      <th>AKT_DAT_KL</th>\n",
       "      <th>ALTER_HH</th>\n",
       "      <th>ALTER_KIND1</th>\n",
       "      <th>ALTER_KIND2</th>\n",
       "      <th>ALTER_KIND3</th>\n",
       "      <th>ALTER_KIND4</th>\n",
       "      <th>ALTERSKATEGORIE_FEIN</th>\n",
       "      <th>ANZ_HAUSHALTE_AKTIV</th>\n",
       "      <th>...</th>\n",
       "      <th>VHN</th>\n",
       "      <th>VK_DHT4A</th>\n",
       "      <th>VK_DISTANZ</th>\n",
       "      <th>VK_ZG11</th>\n",
       "      <th>W_KEIT_KIND_HH</th>\n",
       "      <th>WOHNDAUER_2008</th>\n",
       "      <th>WOHNLAGE</th>\n",
       "      <th>ZABEOTYP</th>\n",
       "      <th>ANREDE_KZ</th>\n",
       "      <th>ALTERSKATEGORIE_GROB</th>\n",
       "    </tr>\n",
       "  </thead>\n",
       "  <tbody>\n",
       "    <tr>\n",
       "      <th>0</th>\n",
       "      <td>910215</td>\n",
       "      <td>-1</td>\n",
       "      <td>NaN</td>\n",
       "      <td>NaN</td>\n",
       "      <td>NaN</td>\n",
       "      <td>NaN</td>\n",
       "      <td>NaN</td>\n",
       "      <td>NaN</td>\n",
       "      <td>NaN</td>\n",
       "      <td>NaN</td>\n",
       "      <td>...</td>\n",
       "      <td>NaN</td>\n",
       "      <td>NaN</td>\n",
       "      <td>NaN</td>\n",
       "      <td>NaN</td>\n",
       "      <td>NaN</td>\n",
       "      <td>NaN</td>\n",
       "      <td>NaN</td>\n",
       "      <td>3</td>\n",
       "      <td>1</td>\n",
       "      <td>2</td>\n",
       "    </tr>\n",
       "    <tr>\n",
       "      <th>1</th>\n",
       "      <td>910220</td>\n",
       "      <td>-1</td>\n",
       "      <td>9.0</td>\n",
       "      <td>0.0</td>\n",
       "      <td>NaN</td>\n",
       "      <td>NaN</td>\n",
       "      <td>NaN</td>\n",
       "      <td>NaN</td>\n",
       "      <td>21.0</td>\n",
       "      <td>11.0</td>\n",
       "      <td>...</td>\n",
       "      <td>4.0</td>\n",
       "      <td>8.0</td>\n",
       "      <td>11.0</td>\n",
       "      <td>10.0</td>\n",
       "      <td>3.0</td>\n",
       "      <td>9.0</td>\n",
       "      <td>4.0</td>\n",
       "      <td>5</td>\n",
       "      <td>2</td>\n",
       "      <td>1</td>\n",
       "    </tr>\n",
       "    <tr>\n",
       "      <th>2</th>\n",
       "      <td>910225</td>\n",
       "      <td>-1</td>\n",
       "      <td>9.0</td>\n",
       "      <td>17.0</td>\n",
       "      <td>NaN</td>\n",
       "      <td>NaN</td>\n",
       "      <td>NaN</td>\n",
       "      <td>NaN</td>\n",
       "      <td>17.0</td>\n",
       "      <td>10.0</td>\n",
       "      <td>...</td>\n",
       "      <td>2.0</td>\n",
       "      <td>9.0</td>\n",
       "      <td>9.0</td>\n",
       "      <td>6.0</td>\n",
       "      <td>3.0</td>\n",
       "      <td>9.0</td>\n",
       "      <td>2.0</td>\n",
       "      <td>5</td>\n",
       "      <td>2</td>\n",
       "      <td>3</td>\n",
       "    </tr>\n",
       "    <tr>\n",
       "      <th>3</th>\n",
       "      <td>910226</td>\n",
       "      <td>2</td>\n",
       "      <td>1.0</td>\n",
       "      <td>13.0</td>\n",
       "      <td>NaN</td>\n",
       "      <td>NaN</td>\n",
       "      <td>NaN</td>\n",
       "      <td>NaN</td>\n",
       "      <td>13.0</td>\n",
       "      <td>1.0</td>\n",
       "      <td>...</td>\n",
       "      <td>0.0</td>\n",
       "      <td>7.0</td>\n",
       "      <td>10.0</td>\n",
       "      <td>11.0</td>\n",
       "      <td>NaN</td>\n",
       "      <td>9.0</td>\n",
       "      <td>7.0</td>\n",
       "      <td>3</td>\n",
       "      <td>2</td>\n",
       "      <td>4</td>\n",
       "    </tr>\n",
       "    <tr>\n",
       "      <th>4</th>\n",
       "      <td>910241</td>\n",
       "      <td>-1</td>\n",
       "      <td>1.0</td>\n",
       "      <td>20.0</td>\n",
       "      <td>NaN</td>\n",
       "      <td>NaN</td>\n",
       "      <td>NaN</td>\n",
       "      <td>NaN</td>\n",
       "      <td>14.0</td>\n",
       "      <td>3.0</td>\n",
       "      <td>...</td>\n",
       "      <td>2.0</td>\n",
       "      <td>3.0</td>\n",
       "      <td>5.0</td>\n",
       "      <td>4.0</td>\n",
       "      <td>2.0</td>\n",
       "      <td>9.0</td>\n",
       "      <td>3.0</td>\n",
       "      <td>4</td>\n",
       "      <td>1</td>\n",
       "      <td>3</td>\n",
       "    </tr>\n",
       "  </tbody>\n",
       "</table>\n",
       "<p>5 rows × 366 columns</p>\n",
       "</div>"
      ],
      "text/plain": [
       "      LNR  AGER_TYP  AKT_DAT_KL  ALTER_HH  ALTER_KIND1  ALTER_KIND2  \\\n",
       "0  910215        -1         NaN       NaN          NaN          NaN   \n",
       "1  910220        -1         9.0       0.0          NaN          NaN   \n",
       "2  910225        -1         9.0      17.0          NaN          NaN   \n",
       "3  910226         2         1.0      13.0          NaN          NaN   \n",
       "4  910241        -1         1.0      20.0          NaN          NaN   \n",
       "\n",
       "   ALTER_KIND3  ALTER_KIND4  ALTERSKATEGORIE_FEIN  ANZ_HAUSHALTE_AKTIV  \\\n",
       "0          NaN          NaN                   NaN                  NaN   \n",
       "1          NaN          NaN                  21.0                 11.0   \n",
       "2          NaN          NaN                  17.0                 10.0   \n",
       "3          NaN          NaN                  13.0                  1.0   \n",
       "4          NaN          NaN                  14.0                  3.0   \n",
       "\n",
       "          ...           VHN  VK_DHT4A  VK_DISTANZ  VK_ZG11  W_KEIT_KIND_HH  \\\n",
       "0         ...           NaN       NaN         NaN      NaN             NaN   \n",
       "1         ...           4.0       8.0        11.0     10.0             3.0   \n",
       "2         ...           2.0       9.0         9.0      6.0             3.0   \n",
       "3         ...           0.0       7.0        10.0     11.0             NaN   \n",
       "4         ...           2.0       3.0         5.0      4.0             2.0   \n",
       "\n",
       "   WOHNDAUER_2008  WOHNLAGE ZABEOTYP ANREDE_KZ ALTERSKATEGORIE_GROB  \n",
       "0             NaN       NaN        3         1                    2  \n",
       "1             9.0       4.0        5         2                    1  \n",
       "2             9.0       2.0        5         2                    3  \n",
       "3             9.0       7.0        3         2                    4  \n",
       "4             9.0       3.0        4         1                    3  \n",
       "\n",
       "[5 rows x 366 columns]"
      ]
     },
     "execution_count": 3,
     "metadata": {},
     "output_type": "execute_result"
    }
   ],
   "source": [
    "# Be sure to add in a lot more cells (both markdown and code) to document your\n",
    "# approach and findings!\n",
    "\n",
    "print('Number of columns: ', azdias.shape[1])\n",
    "print('Number of rows: ', azdias.shape[0])\n",
    "azdias.head()"
   ]
  },
  {
   "cell_type": "code",
   "execution_count": 4,
   "metadata": {},
   "outputs": [
    {
     "name": "stdout",
     "output_type": "stream",
     "text": [
      "<class 'pandas.core.frame.DataFrame'>\n",
      "RangeIndex: 891221 entries, 0 to 891220\n",
      "Columns: 366 entries, LNR to ALTERSKATEGORIE_GROB\n",
      "dtypes: float64(267), int64(93), object(6)\n",
      "memory usage: 2.4+ GB\n"
     ]
    }
   ],
   "source": [
    "# Get information about azdias data\n",
    "azdias.info()"
   ]
  },
  {
   "cell_type": "code",
   "execution_count": 5,
   "metadata": {},
   "outputs": [
    {
     "data": {
      "text/html": [
       "<div>\n",
       "<style scoped>\n",
       "    .dataframe tbody tr th:only-of-type {\n",
       "        vertical-align: middle;\n",
       "    }\n",
       "\n",
       "    .dataframe tbody tr th {\n",
       "        vertical-align: top;\n",
       "    }\n",
       "\n",
       "    .dataframe thead th {\n",
       "        text-align: right;\n",
       "    }\n",
       "</style>\n",
       "<table border=\"1\" class=\"dataframe\">\n",
       "  <thead>\n",
       "    <tr style=\"text-align: right;\">\n",
       "      <th></th>\n",
       "      <th>LNR</th>\n",
       "      <th>AGER_TYP</th>\n",
       "      <th>AKT_DAT_KL</th>\n",
       "      <th>ALTER_HH</th>\n",
       "      <th>ALTER_KIND1</th>\n",
       "      <th>ALTER_KIND2</th>\n",
       "      <th>ALTER_KIND3</th>\n",
       "      <th>ALTER_KIND4</th>\n",
       "      <th>ALTERSKATEGORIE_FEIN</th>\n",
       "      <th>ANZ_HAUSHALTE_AKTIV</th>\n",
       "      <th>...</th>\n",
       "      <th>VHN</th>\n",
       "      <th>VK_DHT4A</th>\n",
       "      <th>VK_DISTANZ</th>\n",
       "      <th>VK_ZG11</th>\n",
       "      <th>W_KEIT_KIND_HH</th>\n",
       "      <th>WOHNDAUER_2008</th>\n",
       "      <th>WOHNLAGE</th>\n",
       "      <th>ZABEOTYP</th>\n",
       "      <th>ANREDE_KZ</th>\n",
       "      <th>ALTERSKATEGORIE_GROB</th>\n",
       "    </tr>\n",
       "  </thead>\n",
       "  <tbody>\n",
       "    <tr>\n",
       "      <th>count</th>\n",
       "      <td>8.912210e+05</td>\n",
       "      <td>891221.000000</td>\n",
       "      <td>817722.000000</td>\n",
       "      <td>817722.000000</td>\n",
       "      <td>81058.000000</td>\n",
       "      <td>29499.000000</td>\n",
       "      <td>6170.000000</td>\n",
       "      <td>1205.000000</td>\n",
       "      <td>628274.000000</td>\n",
       "      <td>798073.000000</td>\n",
       "      <td>...</td>\n",
       "      <td>770025.000000</td>\n",
       "      <td>815304.000000</td>\n",
       "      <td>815304.000000</td>\n",
       "      <td>815304.000000</td>\n",
       "      <td>783619.000000</td>\n",
       "      <td>817722.000000</td>\n",
       "      <td>798073.000000</td>\n",
       "      <td>891221.000000</td>\n",
       "      <td>891221.000000</td>\n",
       "      <td>891221.000000</td>\n",
       "    </tr>\n",
       "    <tr>\n",
       "      <th>mean</th>\n",
       "      <td>6.372630e+05</td>\n",
       "      <td>-0.358435</td>\n",
       "      <td>4.421928</td>\n",
       "      <td>10.864126</td>\n",
       "      <td>11.745392</td>\n",
       "      <td>13.402658</td>\n",
       "      <td>14.476013</td>\n",
       "      <td>15.089627</td>\n",
       "      <td>13.700717</td>\n",
       "      <td>8.287263</td>\n",
       "      <td>...</td>\n",
       "      <td>2.417322</td>\n",
       "      <td>6.001214</td>\n",
       "      <td>7.532130</td>\n",
       "      <td>5.945972</td>\n",
       "      <td>3.933406</td>\n",
       "      <td>7.908791</td>\n",
       "      <td>4.052836</td>\n",
       "      <td>3.362438</td>\n",
       "      <td>1.522098</td>\n",
       "      <td>2.777398</td>\n",
       "    </tr>\n",
       "    <tr>\n",
       "      <th>std</th>\n",
       "      <td>2.572735e+05</td>\n",
       "      <td>1.198724</td>\n",
       "      <td>3.638805</td>\n",
       "      <td>7.639683</td>\n",
       "      <td>4.097660</td>\n",
       "      <td>3.243300</td>\n",
       "      <td>2.712427</td>\n",
       "      <td>2.452932</td>\n",
       "      <td>5.079849</td>\n",
       "      <td>15.628087</td>\n",
       "      <td>...</td>\n",
       "      <td>1.166572</td>\n",
       "      <td>2.856091</td>\n",
       "      <td>3.247789</td>\n",
       "      <td>2.771464</td>\n",
       "      <td>1.964701</td>\n",
       "      <td>1.923137</td>\n",
       "      <td>1.949539</td>\n",
       "      <td>1.352704</td>\n",
       "      <td>0.499512</td>\n",
       "      <td>1.068775</td>\n",
       "    </tr>\n",
       "    <tr>\n",
       "      <th>min</th>\n",
       "      <td>1.916530e+05</td>\n",
       "      <td>-1.000000</td>\n",
       "      <td>1.000000</td>\n",
       "      <td>0.000000</td>\n",
       "      <td>2.000000</td>\n",
       "      <td>2.000000</td>\n",
       "      <td>4.000000</td>\n",
       "      <td>7.000000</td>\n",
       "      <td>0.000000</td>\n",
       "      <td>0.000000</td>\n",
       "      <td>...</td>\n",
       "      <td>0.000000</td>\n",
       "      <td>1.000000</td>\n",
       "      <td>1.000000</td>\n",
       "      <td>1.000000</td>\n",
       "      <td>0.000000</td>\n",
       "      <td>1.000000</td>\n",
       "      <td>0.000000</td>\n",
       "      <td>1.000000</td>\n",
       "      <td>1.000000</td>\n",
       "      <td>1.000000</td>\n",
       "    </tr>\n",
       "    <tr>\n",
       "      <th>25%</th>\n",
       "      <td>4.144580e+05</td>\n",
       "      <td>-1.000000</td>\n",
       "      <td>1.000000</td>\n",
       "      <td>0.000000</td>\n",
       "      <td>8.000000</td>\n",
       "      <td>11.000000</td>\n",
       "      <td>13.000000</td>\n",
       "      <td>14.000000</td>\n",
       "      <td>11.000000</td>\n",
       "      <td>1.000000</td>\n",
       "      <td>...</td>\n",
       "      <td>2.000000</td>\n",
       "      <td>3.000000</td>\n",
       "      <td>5.000000</td>\n",
       "      <td>4.000000</td>\n",
       "      <td>2.000000</td>\n",
       "      <td>8.000000</td>\n",
       "      <td>3.000000</td>\n",
       "      <td>3.000000</td>\n",
       "      <td>1.000000</td>\n",
       "      <td>2.000000</td>\n",
       "    </tr>\n",
       "    <tr>\n",
       "      <th>50%</th>\n",
       "      <td>6.372630e+05</td>\n",
       "      <td>-1.000000</td>\n",
       "      <td>3.000000</td>\n",
       "      <td>13.000000</td>\n",
       "      <td>12.000000</td>\n",
       "      <td>14.000000</td>\n",
       "      <td>15.000000</td>\n",
       "      <td>15.000000</td>\n",
       "      <td>14.000000</td>\n",
       "      <td>4.000000</td>\n",
       "      <td>...</td>\n",
       "      <td>2.000000</td>\n",
       "      <td>6.000000</td>\n",
       "      <td>8.000000</td>\n",
       "      <td>6.000000</td>\n",
       "      <td>4.000000</td>\n",
       "      <td>9.000000</td>\n",
       "      <td>3.000000</td>\n",
       "      <td>3.000000</td>\n",
       "      <td>2.000000</td>\n",
       "      <td>3.000000</td>\n",
       "    </tr>\n",
       "    <tr>\n",
       "      <th>75%</th>\n",
       "      <td>8.600680e+05</td>\n",
       "      <td>-1.000000</td>\n",
       "      <td>9.000000</td>\n",
       "      <td>17.000000</td>\n",
       "      <td>15.000000</td>\n",
       "      <td>16.000000</td>\n",
       "      <td>17.000000</td>\n",
       "      <td>17.000000</td>\n",
       "      <td>17.000000</td>\n",
       "      <td>9.000000</td>\n",
       "      <td>...</td>\n",
       "      <td>3.000000</td>\n",
       "      <td>9.000000</td>\n",
       "      <td>10.000000</td>\n",
       "      <td>8.000000</td>\n",
       "      <td>6.000000</td>\n",
       "      <td>9.000000</td>\n",
       "      <td>5.000000</td>\n",
       "      <td>4.000000</td>\n",
       "      <td>2.000000</td>\n",
       "      <td>4.000000</td>\n",
       "    </tr>\n",
       "    <tr>\n",
       "      <th>max</th>\n",
       "      <td>1.082873e+06</td>\n",
       "      <td>3.000000</td>\n",
       "      <td>9.000000</td>\n",
       "      <td>21.000000</td>\n",
       "      <td>18.000000</td>\n",
       "      <td>18.000000</td>\n",
       "      <td>18.000000</td>\n",
       "      <td>18.000000</td>\n",
       "      <td>25.000000</td>\n",
       "      <td>595.000000</td>\n",
       "      <td>...</td>\n",
       "      <td>4.000000</td>\n",
       "      <td>11.000000</td>\n",
       "      <td>13.000000</td>\n",
       "      <td>11.000000</td>\n",
       "      <td>6.000000</td>\n",
       "      <td>9.000000</td>\n",
       "      <td>8.000000</td>\n",
       "      <td>6.000000</td>\n",
       "      <td>2.000000</td>\n",
       "      <td>9.000000</td>\n",
       "    </tr>\n",
       "  </tbody>\n",
       "</table>\n",
       "<p>8 rows × 360 columns</p>\n",
       "</div>"
      ],
      "text/plain": [
       "                LNR       AGER_TYP     AKT_DAT_KL       ALTER_HH  \\\n",
       "count  8.912210e+05  891221.000000  817722.000000  817722.000000   \n",
       "mean   6.372630e+05      -0.358435       4.421928      10.864126   \n",
       "std    2.572735e+05       1.198724       3.638805       7.639683   \n",
       "min    1.916530e+05      -1.000000       1.000000       0.000000   \n",
       "25%    4.144580e+05      -1.000000       1.000000       0.000000   \n",
       "50%    6.372630e+05      -1.000000       3.000000      13.000000   \n",
       "75%    8.600680e+05      -1.000000       9.000000      17.000000   \n",
       "max    1.082873e+06       3.000000       9.000000      21.000000   \n",
       "\n",
       "        ALTER_KIND1   ALTER_KIND2  ALTER_KIND3  ALTER_KIND4  \\\n",
       "count  81058.000000  29499.000000  6170.000000  1205.000000   \n",
       "mean      11.745392     13.402658    14.476013    15.089627   \n",
       "std        4.097660      3.243300     2.712427     2.452932   \n",
       "min        2.000000      2.000000     4.000000     7.000000   \n",
       "25%        8.000000     11.000000    13.000000    14.000000   \n",
       "50%       12.000000     14.000000    15.000000    15.000000   \n",
       "75%       15.000000     16.000000    17.000000    17.000000   \n",
       "max       18.000000     18.000000    18.000000    18.000000   \n",
       "\n",
       "       ALTERSKATEGORIE_FEIN  ANZ_HAUSHALTE_AKTIV          ...           \\\n",
       "count         628274.000000        798073.000000          ...            \n",
       "mean              13.700717             8.287263          ...            \n",
       "std                5.079849            15.628087          ...            \n",
       "min                0.000000             0.000000          ...            \n",
       "25%               11.000000             1.000000          ...            \n",
       "50%               14.000000             4.000000          ...            \n",
       "75%               17.000000             9.000000          ...            \n",
       "max               25.000000           595.000000          ...            \n",
       "\n",
       "                 VHN       VK_DHT4A     VK_DISTANZ        VK_ZG11  \\\n",
       "count  770025.000000  815304.000000  815304.000000  815304.000000   \n",
       "mean        2.417322       6.001214       7.532130       5.945972   \n",
       "std         1.166572       2.856091       3.247789       2.771464   \n",
       "min         0.000000       1.000000       1.000000       1.000000   \n",
       "25%         2.000000       3.000000       5.000000       4.000000   \n",
       "50%         2.000000       6.000000       8.000000       6.000000   \n",
       "75%         3.000000       9.000000      10.000000       8.000000   \n",
       "max         4.000000      11.000000      13.000000      11.000000   \n",
       "\n",
       "       W_KEIT_KIND_HH  WOHNDAUER_2008       WOHNLAGE       ZABEOTYP  \\\n",
       "count   783619.000000   817722.000000  798073.000000  891221.000000   \n",
       "mean         3.933406        7.908791       4.052836       3.362438   \n",
       "std          1.964701        1.923137       1.949539       1.352704   \n",
       "min          0.000000        1.000000       0.000000       1.000000   \n",
       "25%          2.000000        8.000000       3.000000       3.000000   \n",
       "50%          4.000000        9.000000       3.000000       3.000000   \n",
       "75%          6.000000        9.000000       5.000000       4.000000   \n",
       "max          6.000000        9.000000       8.000000       6.000000   \n",
       "\n",
       "           ANREDE_KZ  ALTERSKATEGORIE_GROB  \n",
       "count  891221.000000         891221.000000  \n",
       "mean        1.522098              2.777398  \n",
       "std         0.499512              1.068775  \n",
       "min         1.000000              1.000000  \n",
       "25%         1.000000              2.000000  \n",
       "50%         2.000000              3.000000  \n",
       "75%         2.000000              4.000000  \n",
       "max         2.000000              9.000000  \n",
       "\n",
       "[8 rows x 360 columns]"
      ]
     },
     "execution_count": 5,
     "metadata": {},
     "output_type": "execute_result"
    }
   ],
   "source": [
    "azdias.describe()"
   ]
  },
  {
   "cell_type": "markdown",
   "metadata": {},
   "source": [
    "### Identify missing or unknown data values\n",
    "\n",
    "In this part I will be using feature file provided for Term 1 - 'AZDIAS_Feature_Summary.csv' and feature file 'DIAS Attributes - Values 2017.xlsx' (Term 2) to find the meaning of missing or unknown values."
   ]
  },
  {
   "cell_type": "code",
   "execution_count": 3,
   "metadata": {},
   "outputs": [
    {
     "data": {
      "text/plain": [
       "count       366.000000\n",
       "mean      91510.718579\n",
       "std      108408.554865\n",
       "min           0.000000\n",
       "25%           0.000000\n",
       "50%      105800.000000\n",
       "75%      107151.500000\n",
       "max      890016.000000\n",
       "dtype: float64"
      ]
     },
     "execution_count": 3,
     "metadata": {},
     "output_type": "execute_result"
    }
   ],
   "source": [
    "# Identify missing or unknown data values in azdias data \n",
    "col_null = azdias.isnull().sum()\n",
    "\n",
    "# Find statistics about missing values \n",
    "col_null[col_null != 0]\n",
    "col_null.describe()\n",
    "#print(col_null.idxmax(), azdias['EXTSEL992'].isnull().sum()/azdias.shape[0])\n"
   ]
  },
  {
   "cell_type": "code",
   "execution_count": 4,
   "metadata": {},
   "outputs": [
    {
     "name": "stdout",
     "output_type": "stream",
     "text": [
      "Total number of missing data:  33492923\n"
     ]
    }
   ],
   "source": [
    "\n",
    "print(\"Total number of missing data: \", sum(col_null))\n"
   ]
  },
  {
   "cell_type": "code",
   "execution_count": 4,
   "metadata": {},
   "outputs": [
    {
     "data": {
      "image/png": "[encoded data removed]",
      "text/plain": [
       "<matplotlib.figure.Figure at 0x7fd8f65b29b0>"
      ]
     },
     "metadata": {
      "needs_background": "light"
     },
     "output_type": "display_data"
    }
   ],
   "source": [
    "# Perform an assessment of how much missing data there is in each column of the\n",
    "# dataset.\n",
    "col_null_updated = azdias.isnull().sum()[azdias.isnull().sum() != 0]\n",
    "plt.hist((col_null_updated/azdias.shape[0])*100, bins=25, alpha=0.75)\n",
    "plt.xlabel('Missing data(%)')\n",
    "plt.ylabel('Counts')\n",
    "plt.title('Missing Data in columns')\n",
    "plt.grid(False)\n",
    "plt.show()"
   ]
  },
  {
   "cell_type": "code",
   "execution_count": 9,
   "metadata": {},
   "outputs": [
    {
     "data": {
      "image/png": "[encoded data removed]",
      "text/plain": [
       "<matplotlib.figure.Figure at 0x7f14802b0d30>"
      ]
     },
     "metadata": {
      "needs_background": "light"
     },
     "output_type": "display_data"
    }
   ],
   "source": [
    "# Investigate patterns in the amount of missing data in each column.\n",
    "(col_null_updated/azdias.shape[0]*100).sort_values(ascending=False).plot.bar(figsize=(24,8), fontsize=8);"
   ]
  },
  {
   "cell_type": "code",
   "execution_count": 4,
   "metadata": {},
   "outputs": [
    {
     "data": {
      "text/plain": [
       "(85, 4)"
      ]
     },
     "execution_count": 4,
     "metadata": {},
     "output_type": "execute_result"
    }
   ],
   "source": [
    "# Load feature attributes files from Term 1 and Term 2 and find missing and unknown values in both files\n",
    "\n",
    "feat_list_old = pd.read_csv('AZDIAS_Feature_Summary.csv', sep=';')\n",
    "feat_list_old.shape\n"
   ]
  },
  {
   "cell_type": "code",
   "execution_count": 5,
   "metadata": {},
   "outputs": [],
   "source": [
    "# Keep only not empty missing values\n",
    "feat_old = feat_list_old[feat_list_old['missing_or_unknown'] != '[]']\n"
   ]
  },
  {
   "cell_type": "code",
   "execution_count": 6,
   "metadata": {},
   "outputs": [
    {
     "data": {
      "text/html": [
       "<div>\n",
       "<style scoped>\n",
       "    .dataframe tbody tr th:only-of-type {\n",
       "        vertical-align: middle;\n",
       "    }\n",
       "\n",
       "    .dataframe tbody tr th {\n",
       "        vertical-align: top;\n",
       "    }\n",
       "\n",
       "    .dataframe thead th {\n",
       "        text-align: right;\n",
       "    }\n",
       "</style>\n",
       "<table border=\"1\" class=\"dataframe\">\n",
       "  <thead>\n",
       "    <tr style=\"text-align: right;\">\n",
       "      <th></th>\n",
       "      <th>Attribute</th>\n",
       "      <th>Value</th>\n",
       "      <th>Meaning</th>\n",
       "    </tr>\n",
       "  </thead>\n",
       "  <tbody>\n",
       "    <tr>\n",
       "      <th>0</th>\n",
       "      <td>AGER_TYP</td>\n",
       "      <td>-1</td>\n",
       "      <td>unknown</td>\n",
       "    </tr>\n",
       "    <tr>\n",
       "      <th>1</th>\n",
       "      <td>NaN</td>\n",
       "      <td>0</td>\n",
       "      <td>no classification possible</td>\n",
       "    </tr>\n",
       "    <tr>\n",
       "      <th>2</th>\n",
       "      <td>NaN</td>\n",
       "      <td>1</td>\n",
       "      <td>passive elderly</td>\n",
       "    </tr>\n",
       "    <tr>\n",
       "      <th>3</th>\n",
       "      <td>NaN</td>\n",
       "      <td>2</td>\n",
       "      <td>cultural elderly</td>\n",
       "    </tr>\n",
       "    <tr>\n",
       "      <th>4</th>\n",
       "      <td>NaN</td>\n",
       "      <td>3</td>\n",
       "      <td>experience-driven elderly</td>\n",
       "    </tr>\n",
       "    <tr>\n",
       "      <th>5</th>\n",
       "      <td>ALTERSKATEGORIE_GROB</td>\n",
       "      <td>-1, 0</td>\n",
       "      <td>unknown</td>\n",
       "    </tr>\n",
       "    <tr>\n",
       "      <th>6</th>\n",
       "      <td>NaN</td>\n",
       "      <td>1</td>\n",
       "      <td>&lt; 30 years</td>\n",
       "    </tr>\n",
       "    <tr>\n",
       "      <th>7</th>\n",
       "      <td>NaN</td>\n",
       "      <td>2</td>\n",
       "      <td>30 - 45 years</td>\n",
       "    </tr>\n",
       "    <tr>\n",
       "      <th>8</th>\n",
       "      <td>NaN</td>\n",
       "      <td>3</td>\n",
       "      <td>46 - 60 years</td>\n",
       "    </tr>\n",
       "    <tr>\n",
       "      <th>9</th>\n",
       "      <td>NaN</td>\n",
       "      <td>4</td>\n",
       "      <td>&gt; 60 years</td>\n",
       "    </tr>\n",
       "  </tbody>\n",
       "</table>\n",
       "</div>"
      ],
      "text/plain": [
       "              Attribute  Value                     Meaning\n",
       "0              AGER_TYP     -1                     unknown\n",
       "1                   NaN      0  no classification possible\n",
       "2                   NaN      1             passive elderly\n",
       "3                   NaN      2            cultural elderly\n",
       "4                   NaN      3   experience-driven elderly\n",
       "5  ALTERSKATEGORIE_GROB  -1, 0                     unknown\n",
       "6                   NaN      1                  < 30 years\n",
       "7                   NaN      2               30 - 45 years\n",
       "8                   NaN      3               46 - 60 years\n",
       "9                   NaN      4                  > 60 years"
      ]
     },
     "execution_count": 6,
     "metadata": {},
     "output_type": "execute_result"
    }
   ],
   "source": [
    "# Closer look at Attributes file structure\n",
    "feat_info = pd.read_excel('DIAS Attributes - Values 2017.xlsx', usecols=\"B, D:E\")\n",
    "feat_info.head(10)"
   ]
  },
  {
   "cell_type": "code",
   "execution_count": 8,
   "metadata": {},
   "outputs": [
    {
     "data": {
      "text/plain": [
       "array(['BIP_FLAG', 'CAMEO_DEUINTL_2015', 'D19_BANKEN_DIREKT_RZ',\n",
       "       'D19_BANKEN_GROSS_RZ', 'D19_BANKEN_LOKAL_RZ', 'D19_BANKEN_REST_RZ',\n",
       "       'D19_BEKLEIDUNG_GEH_RZ', 'D19_BEKLEIDUNG_REST_RZ', 'D19_BILDUNG_RZ',\n",
       "       'D19_BIO_OEKO_RZ', 'D19_BUCH_RZ', 'D19_DIGIT_SERV_RZ',\n",
       "       'D19_DROGERIEARTIKEL_RZ', 'D19_ENERGIE_RZ', 'D19_FREIZEIT_RZ',\n",
       "       'D19_GARTEN_RZ', 'D19_HANDWERK_RZ', 'D19_HAUS_DEKO_RZ',\n",
       "       'D19_KINDERARTIKEL_RZ', 'D19_KK_KUNDENTYP', 'D19_KOSMETIK_RZ',\n",
       "       'D19_LEBENSMITTEL_RZ', 'D19_LOTTO_RZ', 'D19_NAHRUNGSERGAENZUNG_RZ',\n",
       "       'D19_RATGEBER_RZ', 'D19_REISEN_RZ', 'D19_SAMMELARTIKEL_RZ',\n",
       "       'D19_SCHUHE_RZ', 'D19_SONSTIGE_RZ', 'D19_TECHNIK_RZ',\n",
       "       'D19_TELKO_MOBILE_RZ', 'D19_TELKO_REST_RZ', 'D19_TIERARTIKEL_RZ',\n",
       "       'D19_VERSAND_REST_RZ', 'D19_VERSICHERUNGEN_RZ',\n",
       "       'D19_VOLLSORTIMENT_RZ', 'D19_WEIN_FEINKOST_RZ', 'GEOSCORE_KLS7',\n",
       "       'HAUSHALTSSTRUKTUR', 'KBA13_CCM_1400_2500', 'SOHO_FLAG',\n",
       "       'WACHSTUMSGEBIET_NB', 'nan'], \n",
       "      dtype='<U27')"
      ]
     },
     "execution_count": 8,
     "metadata": {},
     "output_type": "execute_result"
    }
   ],
   "source": [
    "np.setdiff1d(list(feat_info['Attribute'].unique()), azdias.columns)"
   ]
  },
  {
   "cell_type": "code",
   "execution_count": 7,
   "metadata": {},
   "outputs": [
    {
     "data": {
      "text/html": [
       "<div>\n",
       "<style scoped>\n",
       "    .dataframe tbody tr th:only-of-type {\n",
       "        vertical-align: middle;\n",
       "    }\n",
       "\n",
       "    .dataframe tbody tr th {\n",
       "        vertical-align: top;\n",
       "    }\n",
       "\n",
       "    .dataframe thead th {\n",
       "        text-align: right;\n",
       "    }\n",
       "</style>\n",
       "<table border=\"1\" class=\"dataframe\">\n",
       "  <thead>\n",
       "    <tr style=\"text-align: right;\">\n",
       "      <th></th>\n",
       "      <th>Attribute</th>\n",
       "      <th>Value</th>\n",
       "      <th>Meaning</th>\n",
       "    </tr>\n",
       "  </thead>\n",
       "  <tbody>\n",
       "    <tr>\n",
       "      <th>0</th>\n",
       "      <td>AGER_TYP</td>\n",
       "      <td>-1</td>\n",
       "      <td>unknown</td>\n",
       "    </tr>\n",
       "    <tr>\n",
       "      <th>1</th>\n",
       "      <td>AGER_TYP</td>\n",
       "      <td>0</td>\n",
       "      <td>no classification possible</td>\n",
       "    </tr>\n",
       "    <tr>\n",
       "      <th>2</th>\n",
       "      <td>ALTERSKATEGORIE_GROB</td>\n",
       "      <td>-1, 0</td>\n",
       "      <td>unknown</td>\n",
       "    </tr>\n",
       "    <tr>\n",
       "      <th>3</th>\n",
       "      <td>ALTER_HH</td>\n",
       "      <td>0</td>\n",
       "      <td>unknown / no main age detectable</td>\n",
       "    </tr>\n",
       "    <tr>\n",
       "      <th>4</th>\n",
       "      <td>ANREDE_KZ</td>\n",
       "      <td>-1, 0</td>\n",
       "      <td>unknown</td>\n",
       "    </tr>\n",
       "  </tbody>\n",
       "</table>\n",
       "</div>"
      ],
      "text/plain": [
       "              Attribute  Value                           Meaning\n",
       "0              AGER_TYP     -1                           unknown\n",
       "1              AGER_TYP      0        no classification possible\n",
       "2  ALTERSKATEGORIE_GROB  -1, 0                           unknown\n",
       "3              ALTER_HH      0  unknown / no main age detectable\n",
       "4             ANREDE_KZ  -1, 0                           unknown"
      ]
     },
     "execution_count": 7,
     "metadata": {},
     "output_type": "execute_result"
    }
   ],
   "source": [
    "# exctract only unknown values from the \"Meaning\" column and fill \"Attribute\" column with previous value \n",
    "#if we have two or more unknown values for that attribute\n",
    "feat_info_new_missing = feat_info.loc[(feat_info['Meaning'].str.contains(\"unknown\") | feat_info['Meaning'].str.contains(\"no \"))].reset_index(drop=True)\n",
    "feat_info_new_missing['Attribute'] = feat_info_new_missing['Attribute'].ffill()\n",
    "\n",
    "feat_info_new_missing.head()"
   ]
  },
  {
   "cell_type": "code",
   "execution_count": 23,
   "metadata": {},
   "outputs": [
    {
     "data": {
      "text/plain": [
       "array([2, 1, 3, 4, 9])"
      ]
     },
     "execution_count": 23,
     "metadata": {},
     "output_type": "execute_result"
    }
   ],
   "source": [
    "azdias['ALTERSKATEGORIE_GROB'].unique()"
   ]
  },
  {
   "cell_type": "code",
   "execution_count": 10,
   "metadata": {},
   "outputs": [
    {
     "data": {
      "text/html": [
       "<div>\n",
       "<style scoped>\n",
       "    .dataframe tbody tr th:only-of-type {\n",
       "        vertical-align: middle;\n",
       "    }\n",
       "\n",
       "    .dataframe tbody tr th {\n",
       "        vertical-align: top;\n",
       "    }\n",
       "\n",
       "    .dataframe thead th {\n",
       "        text-align: right;\n",
       "    }\n",
       "</style>\n",
       "<table border=\"1\" class=\"dataframe\">\n",
       "  <thead>\n",
       "    <tr style=\"text-align: right;\">\n",
       "      <th></th>\n",
       "      <th>attribute</th>\n",
       "      <th>information_level</th>\n",
       "      <th>type</th>\n",
       "      <th>missing_or_unknown</th>\n",
       "    </tr>\n",
       "  </thead>\n",
       "  <tbody>\n",
       "    <tr>\n",
       "      <th>0</th>\n",
       "      <td>AGER_TYP</td>\n",
       "      <td>person</td>\n",
       "      <td>categorical</td>\n",
       "      <td>[-1,0]</td>\n",
       "    </tr>\n",
       "    <tr>\n",
       "      <th>1</th>\n",
       "      <td>ALTERSKATEGORIE_GROB</td>\n",
       "      <td>person</td>\n",
       "      <td>ordinal</td>\n",
       "      <td>[-1,0,9]</td>\n",
       "    </tr>\n",
       "    <tr>\n",
       "      <th>2</th>\n",
       "      <td>ANREDE_KZ</td>\n",
       "      <td>person</td>\n",
       "      <td>categorical</td>\n",
       "      <td>[-1,0]</td>\n",
       "    </tr>\n",
       "    <tr>\n",
       "      <th>3</th>\n",
       "      <td>CJT_GESAMTTYP</td>\n",
       "      <td>person</td>\n",
       "      <td>categorical</td>\n",
       "      <td>[0]</td>\n",
       "    </tr>\n",
       "    <tr>\n",
       "      <th>4</th>\n",
       "      <td>FINANZ_MINIMALIST</td>\n",
       "      <td>person</td>\n",
       "      <td>ordinal</td>\n",
       "      <td>[-1]</td>\n",
       "    </tr>\n",
       "  </tbody>\n",
       "</table>\n",
       "</div>"
      ],
      "text/plain": [
       "              attribute information_level         type missing_or_unknown\n",
       "0              AGER_TYP            person  categorical             [-1,0]\n",
       "1  ALTERSKATEGORIE_GROB            person      ordinal           [-1,0,9]\n",
       "2             ANREDE_KZ            person  categorical             [-1,0]\n",
       "3         CJT_GESAMTTYP            person  categorical                [0]\n",
       "4     FINANZ_MINIMALIST            person      ordinal               [-1]"
      ]
     },
     "execution_count": 10,
     "metadata": {},
     "output_type": "execute_result"
    }
   ],
   "source": [
    "feat_old.head()"
   ]
  },
  {
   "cell_type": "code",
   "execution_count": 8,
   "metadata": {},
   "outputs": [
    {
     "data": {
      "text/plain": [
       "59"
      ]
     },
     "execution_count": 8,
     "metadata": {},
     "output_type": "execute_result"
    }
   ],
   "source": [
    "# Find what columns are from Term 1 file are in Term 2 file. \n",
    "feat_old_in_feat_info = np.intersect1d(feat_old['attribute'], feat_info_new_missing['Attribute'].unique())\n",
    "len(feat_old_in_feat_info)"
   ]
  },
  {
   "cell_type": "code",
   "execution_count": 20,
   "metadata": {},
   "outputs": [],
   "source": [
    "#feat_info_updatted = feat_info_new_missing[~feat_info_new_missing['Attribute'].isin(feat_old_in_feat_info)].reset_index(drop=True)\n",
    "#print(feat_info_updatted.shape)"
   ]
  },
  {
   "cell_type": "code",
   "execution_count": 12,
   "metadata": {},
   "outputs": [
    {
     "data": {
      "text/plain": [
       "6    -1\n",
       "7     0\n",
       "Name: Value, dtype: object"
      ]
     },
     "execution_count": 12,
     "metadata": {},
     "output_type": "execute_result"
    }
   ],
   "source": [
    "#test\n",
    "feat_info_new_missing.loc[feat_info_new_missing['Attribute']== 'BIP_FLAG', 'Value'].astype(str)"
   ]
  },
  {
   "cell_type": "code",
   "execution_count": 9,
   "metadata": {},
   "outputs": [
    {
     "data": {
      "text/html": [
       "<div>\n",
       "<style scoped>\n",
       "    .dataframe tbody tr th:only-of-type {\n",
       "        vertical-align: middle;\n",
       "    }\n",
       "\n",
       "    .dataframe tbody tr th {\n",
       "        vertical-align: top;\n",
       "    }\n",
       "\n",
       "    .dataframe thead th {\n",
       "        text-align: right;\n",
       "    }\n",
       "</style>\n",
       "<table border=\"1\" class=\"dataframe\">\n",
       "  <thead>\n",
       "    <tr style=\"text-align: right;\">\n",
       "      <th></th>\n",
       "      <th>attribute</th>\n",
       "      <th>missing_or_unknown</th>\n",
       "    </tr>\n",
       "  </thead>\n",
       "  <tbody>\n",
       "    <tr>\n",
       "      <th>0</th>\n",
       "      <td>AGER_TYP</td>\n",
       "      <td>[-1,0]</td>\n",
       "    </tr>\n",
       "    <tr>\n",
       "      <th>1</th>\n",
       "      <td>ALTERSKATEGORIE_GROB</td>\n",
       "      <td>[-1, 0]</td>\n",
       "    </tr>\n",
       "    <tr>\n",
       "      <th>2</th>\n",
       "      <td>ALTER_HH</td>\n",
       "      <td>[0]</td>\n",
       "    </tr>\n",
       "    <tr>\n",
       "      <th>3</th>\n",
       "      <td>ANREDE_KZ</td>\n",
       "      <td>[-1, 0]</td>\n",
       "    </tr>\n",
       "    <tr>\n",
       "      <th>4</th>\n",
       "      <td>BALLRAUM</td>\n",
       "      <td>[-1]</td>\n",
       "    </tr>\n",
       "  </tbody>\n",
       "</table>\n",
       "</div>"
      ],
      "text/plain": [
       "              attribute missing_or_unknown\n",
       "0              AGER_TYP             [-1,0]\n",
       "1  ALTERSKATEGORIE_GROB            [-1, 0]\n",
       "2              ALTER_HH                [0]\n",
       "3             ANREDE_KZ            [-1, 0]\n",
       "4              BALLRAUM               [-1]"
      ]
     },
     "execution_count": 9,
     "metadata": {},
     "output_type": "execute_result"
    }
   ],
   "source": [
    "# Combine unknown values in one cell for each attribute in the format of Term 1 file \n",
    "# and make Unknown values dataframe\n",
    "unknown_values = []\n",
    "for attribute in feat_info_new_missing['Attribute'].unique():\n",
    "    _ = feat_info_new_missing.loc[feat_info_new_missing['Attribute'] == attribute, 'Value'].astype(str).str.cat(sep=',')\n",
    "    unknown_values.append('['+_+']')   \n",
    "\n",
    "unknown_values = pd.concat([pd.Series(feat_info_new_missing['Attribute'].unique()), pd.Series(unknown_values)], axis=1)\n",
    "unknown_values.columns = ['attribute', 'missing_or_unknown']\n",
    "unknown_values.head()"
   ]
  },
  {
   "cell_type": "code",
   "execution_count": 10,
   "metadata": {},
   "outputs": [
    {
     "data": {
      "text/html": [
       "<div>\n",
       "<style scoped>\n",
       "    .dataframe tbody tr th:only-of-type {\n",
       "        vertical-align: middle;\n",
       "    }\n",
       "\n",
       "    .dataframe tbody tr th {\n",
       "        vertical-align: top;\n",
       "    }\n",
       "\n",
       "    .dataframe thead th {\n",
       "        text-align: right;\n",
       "    }\n",
       "</style>\n",
       "<table border=\"1\" class=\"dataframe\">\n",
       "  <thead>\n",
       "    <tr style=\"text-align: right;\">\n",
       "      <th></th>\n",
       "      <th>attribute</th>\n",
       "      <th>missing_or_unknown</th>\n",
       "    </tr>\n",
       "  </thead>\n",
       "  <tbody>\n",
       "    <tr>\n",
       "      <th>0</th>\n",
       "      <td>BIP_FLAG</td>\n",
       "      <td>[-1,0]</td>\n",
       "    </tr>\n",
       "    <tr>\n",
       "      <th>1</th>\n",
       "      <td>CAMEO_DEUINTL_2015</td>\n",
       "      <td>[-1]</td>\n",
       "    </tr>\n",
       "    <tr>\n",
       "      <th>2</th>\n",
       "      <td>D19_BANKEN_ANZ_12</td>\n",
       "      <td>[0]</td>\n",
       "    </tr>\n",
       "    <tr>\n",
       "      <th>3</th>\n",
       "      <td>D19_BANKEN_ANZ_24</td>\n",
       "      <td>[0,10]</td>\n",
       "    </tr>\n",
       "    <tr>\n",
       "      <th>4</th>\n",
       "      <td>D19_BANKEN_DIREKT_RZ</td>\n",
       "      <td>[0]</td>\n",
       "    </tr>\n",
       "    <tr>\n",
       "      <th>5</th>\n",
       "      <td>D19_BANKEN_GROSS_RZ</td>\n",
       "      <td>[0]</td>\n",
       "    </tr>\n",
       "    <tr>\n",
       "      <th>6</th>\n",
       "      <td>D19_BANKEN_LOKAL_RZ</td>\n",
       "      <td>[0,10,10]</td>\n",
       "    </tr>\n",
       "    <tr>\n",
       "      <th>7</th>\n",
       "      <td>D19_BANKEN_ONLINE_QUOTE_12</td>\n",
       "      <td>[0]</td>\n",
       "    </tr>\n",
       "    <tr>\n",
       "      <th>8</th>\n",
       "      <td>D19_BANKEN_REST_RZ</td>\n",
       "      <td>[0]</td>\n",
       "    </tr>\n",
       "    <tr>\n",
       "      <th>9</th>\n",
       "      <td>D19_BEKLEIDUNG_GEH_RZ</td>\n",
       "      <td>[0]</td>\n",
       "    </tr>\n",
       "  </tbody>\n",
       "</table>\n",
       "</div>"
      ],
      "text/plain": [
       "                    attribute missing_or_unknown\n",
       "0                    BIP_FLAG             [-1,0]\n",
       "1          CAMEO_DEUINTL_2015               [-1]\n",
       "2           D19_BANKEN_ANZ_12                [0]\n",
       "3           D19_BANKEN_ANZ_24             [0,10]\n",
       "4        D19_BANKEN_DIREKT_RZ                [0]\n",
       "5         D19_BANKEN_GROSS_RZ                [0]\n",
       "6         D19_BANKEN_LOKAL_RZ          [0,10,10]\n",
       "7  D19_BANKEN_ONLINE_QUOTE_12                [0]\n",
       "8          D19_BANKEN_REST_RZ                [0]\n",
       "9       D19_BEKLEIDUNG_GEH_RZ                [0]"
      ]
     },
     "execution_count": 10,
     "metadata": {},
     "output_type": "execute_result"
    }
   ],
   "source": [
    "# Keep only Term 2 attributes, not Term 1 attributes\n",
    "feat_info_updatted = unknown_values[~unknown_values['attribute'].isin(feat_old_in_feat_info)].reset_index(drop=True)\n",
    "feat_info_updatted.head(10)\n"
   ]
  },
  {
   "cell_type": "code",
   "execution_count": 11,
   "metadata": {},
   "outputs": [
    {
     "data": {
      "text/plain": [
       "((219, 2), (278, 2))"
      ]
     },
     "execution_count": 11,
     "metadata": {},
     "output_type": "execute_result"
    }
   ],
   "source": [
    "feat_info_updatted.shape, unknown_values.shape"
   ]
  },
  {
   "cell_type": "code",
   "execution_count": 12,
   "metadata": {},
   "outputs": [
    {
     "name": "stdout",
     "output_type": "stream",
     "text": [
      "(219, 2)\n"
     ]
    },
    {
     "data": {
      "text/html": [
       "<div>\n",
       "<style scoped>\n",
       "    .dataframe tbody tr th:only-of-type {\n",
       "        vertical-align: middle;\n",
       "    }\n",
       "\n",
       "    .dataframe tbody tr th {\n",
       "        vertical-align: top;\n",
       "    }\n",
       "\n",
       "    .dataframe thead th {\n",
       "        text-align: right;\n",
       "    }\n",
       "</style>\n",
       "<table border=\"1\" class=\"dataframe\">\n",
       "  <thead>\n",
       "    <tr style=\"text-align: right;\">\n",
       "      <th></th>\n",
       "      <th>attribute</th>\n",
       "      <th>missing_or_unknown</th>\n",
       "    </tr>\n",
       "  </thead>\n",
       "  <tbody>\n",
       "    <tr>\n",
       "      <th>0</th>\n",
       "      <td>BIP_FLAG</td>\n",
       "      <td>[-1,0]</td>\n",
       "    </tr>\n",
       "    <tr>\n",
       "      <th>1</th>\n",
       "      <td>CAMEO_DEUINTL_2015</td>\n",
       "      <td>[-1]</td>\n",
       "    </tr>\n",
       "    <tr>\n",
       "      <th>2</th>\n",
       "      <td>D19_BANKEN_ANZ_12</td>\n",
       "      <td>[0]</td>\n",
       "    </tr>\n",
       "    <tr>\n",
       "      <th>3</th>\n",
       "      <td>D19_BANKEN_ANZ_24</td>\n",
       "      <td>[0,10]</td>\n",
       "    </tr>\n",
       "    <tr>\n",
       "      <th>4</th>\n",
       "      <td>D19_BANKEN_DIREKT</td>\n",
       "      <td>[0]</td>\n",
       "    </tr>\n",
       "  </tbody>\n",
       "</table>\n",
       "</div>"
      ],
      "text/plain": [
       "            attribute missing_or_unknown\n",
       "0            BIP_FLAG             [-1,0]\n",
       "1  CAMEO_DEUINTL_2015               [-1]\n",
       "2   D19_BANKEN_ANZ_12                [0]\n",
       "3   D19_BANKEN_ANZ_24             [0,10]\n",
       "4   D19_BANKEN_DIREKT                [0]"
      ]
     },
     "execution_count": 12,
     "metadata": {},
     "output_type": "execute_result"
    }
   ],
   "source": [
    "\n",
    "feat_info_updatted['attribute']=feat_info_updatted['attribute'].apply(lambda x: re.sub('_RZ$', '', x))\n",
    "print(feat_info_updatted.shape)\n",
    "feat_info_updatted.head()"
   ]
  },
  {
   "cell_type": "code",
   "execution_count": 13,
   "metadata": {},
   "outputs": [
    {
     "data": {
      "text/html": [
       "<div>\n",
       "<style scoped>\n",
       "    .dataframe tbody tr th:only-of-type {\n",
       "        vertical-align: middle;\n",
       "    }\n",
       "\n",
       "    .dataframe tbody tr th {\n",
       "        vertical-align: top;\n",
       "    }\n",
       "\n",
       "    .dataframe thead th {\n",
       "        text-align: right;\n",
       "    }\n",
       "</style>\n",
       "<table border=\"1\" class=\"dataframe\">\n",
       "  <thead>\n",
       "    <tr style=\"text-align: right;\">\n",
       "      <th></th>\n",
       "      <th>attribute</th>\n",
       "      <th>missing_or_unknown</th>\n",
       "    </tr>\n",
       "  </thead>\n",
       "  <tbody>\n",
       "    <tr>\n",
       "      <th>0</th>\n",
       "      <td>AGER_TYP</td>\n",
       "      <td>[-1,0]</td>\n",
       "    </tr>\n",
       "    <tr>\n",
       "      <th>1</th>\n",
       "      <td>ALTERSKATEGORIE_GROB</td>\n",
       "      <td>[-1,0,9]</td>\n",
       "    </tr>\n",
       "    <tr>\n",
       "      <th>2</th>\n",
       "      <td>ALTER_HH</td>\n",
       "      <td>[0]</td>\n",
       "    </tr>\n",
       "    <tr>\n",
       "      <th>3</th>\n",
       "      <td>ANREDE_KZ</td>\n",
       "      <td>[-1,0]</td>\n",
       "    </tr>\n",
       "    <tr>\n",
       "      <th>4</th>\n",
       "      <td>ANZ_HAUSHALTE_AKTIV</td>\n",
       "      <td>[0]</td>\n",
       "    </tr>\n",
       "  </tbody>\n",
       "</table>\n",
       "</div>"
      ],
      "text/plain": [
       "              attribute missing_or_unknown\n",
       "0              AGER_TYP             [-1,0]\n",
       "1  ALTERSKATEGORIE_GROB           [-1,0,9]\n",
       "2              ALTER_HH                [0]\n",
       "3             ANREDE_KZ             [-1,0]\n",
       "4   ANZ_HAUSHALTE_AKTIV                [0]"
      ]
     },
     "execution_count": 13,
     "metadata": {},
     "output_type": "execute_result"
    }
   ],
   "source": [
    "# Combine both Term 1 and Term 2 attributes in one dataframe\n",
    "feat_info_all = pd.concat([feat_old, feat_info_updatted], join= 'inner').sort_values(by='attribute').reset_index(drop=True)\n",
    "feat_info_all.head()"
   ]
  },
  {
   "cell_type": "code",
   "execution_count": 16,
   "metadata": {},
   "outputs": [],
   "source": [
    "feat_info_all.shape\n",
    "feat_info_all.set_index('attribute', inplace=True)\n",
    "#feat_list_old.loc[feat_list_old['attribute'] == 'ANZ_HH_TITEL']"
   ]
  },
  {
   "cell_type": "markdown",
   "metadata": {},
   "source": [
    "## Convert missing or unknown values to NaNs\n",
    "\n",
    "\n",
    "In this part I use help functions from Term 1 to convert missing or unknown values to NaNs. Also, I take closer look at available description on columns in azdias data.\n"
   ]
  },
  {
   "cell_type": "code",
   "execution_count": 14,
   "metadata": {},
   "outputs": [],
   "source": [
    "# From Term 1\n",
    "# Help functions to convert missing or unknown values to NaNs\n",
    "def is_valid_decimal(s):\n",
    "    try:\n",
    "        int(s)\n",
    "    except ValueError:\n",
    "        return False\n",
    "    else:\n",
    "        return True\n",
    "    \n",
    "def convert_to_types(source):\n",
    "    return list(map(lambda x: int(x) if is_valid_decimal(x) else x, source[1:-1].split(',')))\n"
   ]
  },
  {
   "cell_type": "code",
   "execution_count": 33,
   "metadata": {},
   "outputs": [
    {
     "name": "stdout",
     "output_type": "stream",
     "text": [
      "False\n"
     ]
    },
    {
     "data": {
      "text/html": [
       "<div>\n",
       "<style scoped>\n",
       "    .dataframe tbody tr th:only-of-type {\n",
       "        vertical-align: middle;\n",
       "    }\n",
       "\n",
       "    .dataframe tbody tr th {\n",
       "        vertical-align: top;\n",
       "    }\n",
       "\n",
       "    .dataframe thead th {\n",
       "        text-align: right;\n",
       "    }\n",
       "</style>\n",
       "<table border=\"1\" class=\"dataframe\">\n",
       "  <thead>\n",
       "    <tr style=\"text-align: right;\">\n",
       "      <th></th>\n",
       "      <th>missing_or_unknown</th>\n",
       "    </tr>\n",
       "    <tr>\n",
       "      <th>attribute</th>\n",
       "      <th></th>\n",
       "    </tr>\n",
       "  </thead>\n",
       "  <tbody>\n",
       "    <tr>\n",
       "      <th>AGER_TYP</th>\n",
       "      <td>[-1,0]</td>\n",
       "    </tr>\n",
       "  </tbody>\n",
       "</table>\n",
       "</div>"
      ],
      "text/plain": [
       "          missing_or_unknown\n",
       "attribute                   \n",
       "AGER_TYP              [-1,0]"
      ]
     },
     "execution_count": 33,
     "metadata": {},
     "output_type": "execute_result"
    }
   ],
   "source": [
    "# test\n",
    "print('ANZ_HH_TITEL' in feat_old['attribute'])\n",
    "feat_info_all.head(1)"
   ]
  },
  {
   "cell_type": "code",
   "execution_count": 156,
   "metadata": {},
   "outputs": [
    {
     "data": {
      "text/plain": [
       "((294, 2), (85, 4), (75, 4), 366)"
      ]
     },
     "execution_count": 156,
     "metadata": {},
     "output_type": "execute_result"
    }
   ],
   "source": [
    "feat_info_all.shape, feat_list_old.shape, feat_old.shape, azdias.shape[1]"
   ]
  },
  {
   "cell_type": "code",
   "execution_count": 34,
   "metadata": {},
   "outputs": [],
   "source": [
    "# From Term 1\n",
    "# Convert missing or unknown to NaNs\n",
    "for column in azdias.columns:\n",
    "    if column in feat_info_all.index:\n",
    "        azdias[column] = azdias[column].replace(convert_to_types(feat_info_all.loc[column].missing_or_unknown), np.nan)\n",
    "    elif azdias[column].dtype == np.int64:\n",
    "        azdias[column]= azdias[column].astype(np.float64)\n",
    "    else:\n",
    "        continue                "
   ]
  },
  {
   "cell_type": "code",
   "execution_count": 35,
   "metadata": {},
   "outputs": [
    {
     "name": "stdout",
     "output_type": "stream",
     "text": [
      "Azdias columns with no description in the feature file: \n",
      " ['AKT_DAT_KL' 'ALTERSKATEGORIE_FEIN' 'ALTER_KIND1' 'ALTER_KIND2'\n",
      " 'ALTER_KIND3' 'ALTER_KIND4' 'ANZ_KINDER' 'ANZ_STATISTISCHE_HAUSHALTE'\n",
      " 'CJT_KATALOGNUTZER' 'CJT_TYP_1' 'CJT_TYP_2' 'CJT_TYP_3' 'CJT_TYP_4'\n",
      " 'CJT_TYP_5' 'CJT_TYP_6' 'D19_BUCH_CD' 'D19_KONSUMTYP_MAX'\n",
      " 'D19_LETZTER_KAUF_BRANCHE' 'D19_SOZIALES' 'D19_TELKO_ONLINE_QUOTE_12'\n",
      " 'D19_VERSI_DATUM' 'D19_VERSI_OFFLINE_DATUM' 'D19_VERSI_ONLINE_DATUM'\n",
      " 'D19_VERSI_ONLINE_QUOTE_12' 'DSL_FLAG' 'EINGEFUEGT_AM'\n",
      " 'EINGEZOGENAM_HH_JAHR' 'EXTSEL992' 'FIRMENDICHTE' 'GEMEINDETYP'\n",
      " 'HH_DELTA_FLAG' 'KBA13_ANTG1' 'KBA13_ANTG2' 'KBA13_ANTG3' 'KBA13_ANTG4'\n",
      " 'KBA13_BAUMAX' 'KBA13_CCM_1401_2500' 'KBA13_GBZ' 'KBA13_HHZ'\n",
      " 'KBA13_KMH_210' 'KOMBIALTER' 'KONSUMZELLE' 'LNR' 'MOBI_RASTER'\n",
      " 'RT_KEIN_ANREIZ' 'RT_SCHNAEPPCHEN' 'RT_UEBERGROESSE' 'STRUKTURTYP'\n",
      " 'UMFELD_ALT' 'UMFELD_JUNG' 'UNGLEICHENN_FLAG' 'VERDICHTUNGSRAUM' 'VHA'\n",
      " 'VHN' 'VK_DHT4A' 'VK_DISTANZ' 'VK_ZG11'] 57\n"
     ]
    }
   ],
   "source": [
    "# Find columns with no information an both attributes files\n",
    "#feat_list = pd.read_excel('DIAS Information Levels - Attributes 2017.xlsx', usecols=\"C\")\n",
    "\n",
    "\n",
    "azdias_columns_not_in_feat = np.setdiff1d(np.setdiff1d(azdias.columns, list(feat_info['Attribute'].unique())), feat_info_all.index)\n",
    "print(\"Azdias columns with no description in the feature file: \\n\", azdias_columns_not_in_feat, len(azdias_columns_not_in_feat))"
   ]
  },
  {
   "cell_type": "code",
   "execution_count": 36,
   "metadata": {},
   "outputs": [
    {
     "name": "stdout",
     "output_type": "stream",
     "text": [
      "{'KBA13_GBZ', 'KBA13_ANTG3', 'D19_KONSUMTYP_MAX', 'KOMBIALTER', 'RT_SCHNAEPPCHEN', 'VK_DHT4A', 'KBA13_KMH_210', 'RT_UEBERGROESSE', 'KONSUMZELLE', 'KBA13_ANTG2', 'UMFELD_ALT', 'EINGEFUEGT_AM', 'FIRMENDICHTE', 'DSL_FLAG', 'RT_KEIN_ANREIZ', 'UNGLEICHENN_FLAG', 'VK_ZG11', 'KBA13_ANTG4', 'UMFELD_JUNG', 'KBA13_CCM_1401_2500', 'ALTER_KIND1', 'LNR', 'D19_LETZTER_KAUF_BRANCHE', 'STRUKTURTYP', 'VHA', 'ALTERSKATEGORIE_FEIN', 'VERDICHTUNGSRAUM', 'D19_VERSI_OFFLINE_DATUM', 'ALTER_KIND4', 'EINGEZOGENAM_HH_JAHR', 'KBA13_HHZ', 'D19_TELKO_ONLINE_QUOTE_12', 'KBA13_BAUMAX', 'VK_DISTANZ', 'ANZ_STATISTISCHE_HAUSHALTE', 'D19_BUCH_CD', 'KBA13_ANTG1', 'MOBI_RASTER', 'ALTER_KIND3', 'D19_VERSI_DATUM', 'D19_VERSI_ONLINE_QUOTE_12', 'ALTER_KIND2', 'HH_DELTA_FLAG', 'VHN', 'ANZ_KINDER', 'D19_SOZIALES', 'AKT_DAT_KL', 'CJT_KATALOGNUTZER', 'D19_VERSI_ONLINE_DATUM', 'GEMEINDETYP', 'EXTSEL992'} 51\n"
     ]
    }
   ],
   "source": [
    "columns_no_info_to_drop = set(azdias_columns_not_in_feat) - set(['CJT_TYP_1', 'CJT_TYP_2', 'CJT_TYP_3', 'CJT_TYP_4', 'CJT_TYP_5','CJT_TYP_6'])\n",
    "print(columns_no_info_to_drop, len(columns_no_info_to_drop))"
   ]
  },
  {
   "cell_type": "markdown",
   "metadata": {},
   "source": [
    "**Above is a list of column names with no information on them in feature file. Ones which start with 'KBA13' are about different features of cars. Azdias data has plenty other columns with information about cars, so I think it is save to drop those. I think columns starting with 'CJT' are related to 'customer journey typology' and you can see levels of in in the feature file. Ones starting with 'D19' are about banking transactions. Once again, there are plenty columns about banking activity in Azdias data left.**"
   ]
  },
  {
   "cell_type": "code",
   "execution_count": 29,
   "metadata": {},
   "outputs": [
    {
     "name": "stdout",
     "output_type": "stream",
     "text": [
      "<class 'pandas.core.frame.DataFrame'>\n",
      "RangeIndex: 891221 entries, 0 to 891220\n",
      "Columns: 366 entries, LNR to ALTERSKATEGORIE_GROB\n",
      "dtypes: float64(360), object(6)\n",
      "memory usage: 2.4+ GB\n"
     ]
    }
   ],
   "source": [
    "azdias.info()"
   ]
  },
  {
   "cell_type": "code",
   "execution_count": 37,
   "metadata": {},
   "outputs": [
    {
     "data": {
      "text/html": [
       "<div>\n",
       "<style scoped>\n",
       "    .dataframe tbody tr th:only-of-type {\n",
       "        vertical-align: middle;\n",
       "    }\n",
       "\n",
       "    .dataframe tbody tr th {\n",
       "        vertical-align: top;\n",
       "    }\n",
       "\n",
       "    .dataframe thead th {\n",
       "        text-align: right;\n",
       "    }\n",
       "</style>\n",
       "<table border=\"1\" class=\"dataframe\">\n",
       "  <thead>\n",
       "    <tr style=\"text-align: right;\">\n",
       "      <th></th>\n",
       "      <th>LNR</th>\n",
       "      <th>AGER_TYP</th>\n",
       "      <th>AKT_DAT_KL</th>\n",
       "      <th>ALTER_HH</th>\n",
       "      <th>ALTER_KIND1</th>\n",
       "      <th>ALTER_KIND2</th>\n",
       "      <th>ALTER_KIND3</th>\n",
       "      <th>ALTER_KIND4</th>\n",
       "      <th>ALTERSKATEGORIE_FEIN</th>\n",
       "      <th>ANZ_HAUSHALTE_AKTIV</th>\n",
       "      <th>...</th>\n",
       "      <th>VHN</th>\n",
       "      <th>VK_DHT4A</th>\n",
       "      <th>VK_DISTANZ</th>\n",
       "      <th>VK_ZG11</th>\n",
       "      <th>W_KEIT_KIND_HH</th>\n",
       "      <th>WOHNDAUER_2008</th>\n",
       "      <th>WOHNLAGE</th>\n",
       "      <th>ZABEOTYP</th>\n",
       "      <th>ANREDE_KZ</th>\n",
       "      <th>ALTERSKATEGORIE_GROB</th>\n",
       "    </tr>\n",
       "  </thead>\n",
       "  <tbody>\n",
       "    <tr>\n",
       "      <th>0</th>\n",
       "      <td>910215.0</td>\n",
       "      <td>NaN</td>\n",
       "      <td>NaN</td>\n",
       "      <td>NaN</td>\n",
       "      <td>NaN</td>\n",
       "      <td>NaN</td>\n",
       "      <td>NaN</td>\n",
       "      <td>NaN</td>\n",
       "      <td>NaN</td>\n",
       "      <td>NaN</td>\n",
       "      <td>...</td>\n",
       "      <td>NaN</td>\n",
       "      <td>NaN</td>\n",
       "      <td>NaN</td>\n",
       "      <td>NaN</td>\n",
       "      <td>NaN</td>\n",
       "      <td>NaN</td>\n",
       "      <td>NaN</td>\n",
       "      <td>3.0</td>\n",
       "      <td>1.0</td>\n",
       "      <td>2.0</td>\n",
       "    </tr>\n",
       "    <tr>\n",
       "      <th>1</th>\n",
       "      <td>910220.0</td>\n",
       "      <td>NaN</td>\n",
       "      <td>9.0</td>\n",
       "      <td>NaN</td>\n",
       "      <td>NaN</td>\n",
       "      <td>NaN</td>\n",
       "      <td>NaN</td>\n",
       "      <td>NaN</td>\n",
       "      <td>21.0</td>\n",
       "      <td>11.0</td>\n",
       "      <td>...</td>\n",
       "      <td>4.0</td>\n",
       "      <td>8.0</td>\n",
       "      <td>11.0</td>\n",
       "      <td>10.0</td>\n",
       "      <td>3.0</td>\n",
       "      <td>9.0</td>\n",
       "      <td>4.0</td>\n",
       "      <td>5.0</td>\n",
       "      <td>2.0</td>\n",
       "      <td>1.0</td>\n",
       "    </tr>\n",
       "    <tr>\n",
       "      <th>2</th>\n",
       "      <td>910225.0</td>\n",
       "      <td>NaN</td>\n",
       "      <td>9.0</td>\n",
       "      <td>17.0</td>\n",
       "      <td>NaN</td>\n",
       "      <td>NaN</td>\n",
       "      <td>NaN</td>\n",
       "      <td>NaN</td>\n",
       "      <td>17.0</td>\n",
       "      <td>10.0</td>\n",
       "      <td>...</td>\n",
       "      <td>2.0</td>\n",
       "      <td>9.0</td>\n",
       "      <td>9.0</td>\n",
       "      <td>6.0</td>\n",
       "      <td>3.0</td>\n",
       "      <td>9.0</td>\n",
       "      <td>2.0</td>\n",
       "      <td>5.0</td>\n",
       "      <td>2.0</td>\n",
       "      <td>3.0</td>\n",
       "    </tr>\n",
       "    <tr>\n",
       "      <th>3</th>\n",
       "      <td>910226.0</td>\n",
       "      <td>2.0</td>\n",
       "      <td>1.0</td>\n",
       "      <td>13.0</td>\n",
       "      <td>NaN</td>\n",
       "      <td>NaN</td>\n",
       "      <td>NaN</td>\n",
       "      <td>NaN</td>\n",
       "      <td>13.0</td>\n",
       "      <td>1.0</td>\n",
       "      <td>...</td>\n",
       "      <td>0.0</td>\n",
       "      <td>7.0</td>\n",
       "      <td>10.0</td>\n",
       "      <td>11.0</td>\n",
       "      <td>NaN</td>\n",
       "      <td>9.0</td>\n",
       "      <td>7.0</td>\n",
       "      <td>3.0</td>\n",
       "      <td>2.0</td>\n",
       "      <td>4.0</td>\n",
       "    </tr>\n",
       "    <tr>\n",
       "      <th>4</th>\n",
       "      <td>910241.0</td>\n",
       "      <td>NaN</td>\n",
       "      <td>1.0</td>\n",
       "      <td>20.0</td>\n",
       "      <td>NaN</td>\n",
       "      <td>NaN</td>\n",
       "      <td>NaN</td>\n",
       "      <td>NaN</td>\n",
       "      <td>14.0</td>\n",
       "      <td>3.0</td>\n",
       "      <td>...</td>\n",
       "      <td>2.0</td>\n",
       "      <td>3.0</td>\n",
       "      <td>5.0</td>\n",
       "      <td>4.0</td>\n",
       "      <td>2.0</td>\n",
       "      <td>9.0</td>\n",
       "      <td>3.0</td>\n",
       "      <td>4.0</td>\n",
       "      <td>1.0</td>\n",
       "      <td>3.0</td>\n",
       "    </tr>\n",
       "  </tbody>\n",
       "</table>\n",
       "<p>5 rows × 366 columns</p>\n",
       "</div>"
      ],
      "text/plain": [
       "        LNR  AGER_TYP  AKT_DAT_KL  ALTER_HH  ALTER_KIND1  ALTER_KIND2  \\\n",
       "0  910215.0       NaN         NaN       NaN          NaN          NaN   \n",
       "1  910220.0       NaN         9.0       NaN          NaN          NaN   \n",
       "2  910225.0       NaN         9.0      17.0          NaN          NaN   \n",
       "3  910226.0       2.0         1.0      13.0          NaN          NaN   \n",
       "4  910241.0       NaN         1.0      20.0          NaN          NaN   \n",
       "\n",
       "   ALTER_KIND3  ALTER_KIND4  ALTERSKATEGORIE_FEIN  ANZ_HAUSHALTE_AKTIV  \\\n",
       "0          NaN          NaN                   NaN                  NaN   \n",
       "1          NaN          NaN                  21.0                 11.0   \n",
       "2          NaN          NaN                  17.0                 10.0   \n",
       "3          NaN          NaN                  13.0                  1.0   \n",
       "4          NaN          NaN                  14.0                  3.0   \n",
       "\n",
       "          ...           VHN  VK_DHT4A  VK_DISTANZ  VK_ZG11  W_KEIT_KIND_HH  \\\n",
       "0         ...           NaN       NaN         NaN      NaN             NaN   \n",
       "1         ...           4.0       8.0        11.0     10.0             3.0   \n",
       "2         ...           2.0       9.0         9.0      6.0             3.0   \n",
       "3         ...           0.0       7.0        10.0     11.0             NaN   \n",
       "4         ...           2.0       3.0         5.0      4.0             2.0   \n",
       "\n",
       "   WOHNDAUER_2008  WOHNLAGE ZABEOTYP ANREDE_KZ ALTERSKATEGORIE_GROB  \n",
       "0             NaN       NaN      3.0       1.0                  2.0  \n",
       "1             9.0       4.0      5.0       2.0                  1.0  \n",
       "2             9.0       2.0      5.0       2.0                  3.0  \n",
       "3             9.0       7.0      3.0       2.0                  4.0  \n",
       "4             9.0       3.0      4.0       1.0                  3.0  \n",
       "\n",
       "[5 rows x 366 columns]"
      ]
     },
     "execution_count": 37,
     "metadata": {},
     "output_type": "execute_result"
    }
   ],
   "source": [
    "# Look at azdias data, to make sure we have Nannns in place\n",
    "azdias.head()"
   ]
  },
  {
   "cell_type": "code",
   "execution_count": 38,
   "metadata": {},
   "outputs": [
    {
     "data": {
      "text/plain": [
       "(891221, 315)"
      ]
     },
     "execution_count": 38,
     "metadata": {},
     "output_type": "execute_result"
    }
   ],
   "source": [
    "# Drop columns with no info on\n",
    "azdias_dropped_columns_no_info_on = azdias.drop(columns=columns_no_info_to_drop)\n",
    "azdias_dropped_columns_no_info_on.shape"
   ]
  },
  {
   "cell_type": "code",
   "execution_count": 22,
   "metadata": {},
   "outputs": [],
   "source": [
    "#azdias_dropped_columns_no_info_on.to_csv('az_subset.csv', sep=',')"
   ]
  },
  {
   "cell_type": "code",
   "execution_count": 39,
   "metadata": {},
   "outputs": [
    {
     "data": {
      "text/html": [
       "<div>\n",
       "<style scoped>\n",
       "    .dataframe tbody tr th:only-of-type {\n",
       "        vertical-align: middle;\n",
       "    }\n",
       "\n",
       "    .dataframe tbody tr th {\n",
       "        vertical-align: top;\n",
       "    }\n",
       "\n",
       "    .dataframe thead th {\n",
       "        text-align: right;\n",
       "    }\n",
       "</style>\n",
       "<table border=\"1\" class=\"dataframe\">\n",
       "  <thead>\n",
       "    <tr style=\"text-align: right;\">\n",
       "      <th></th>\n",
       "      <th>AGER_TYP</th>\n",
       "      <th>ALTER_HH</th>\n",
       "      <th>ANZ_HAUSHALTE_AKTIV</th>\n",
       "      <th>ANZ_HH_TITEL</th>\n",
       "      <th>ANZ_PERSONEN</th>\n",
       "      <th>ANZ_TITEL</th>\n",
       "      <th>ARBEIT</th>\n",
       "      <th>BALLRAUM</th>\n",
       "      <th>CAMEO_DEU_2015</th>\n",
       "      <th>CAMEO_DEUG_2015</th>\n",
       "      <th>...</th>\n",
       "      <th>SHOPPER_TYP</th>\n",
       "      <th>SOHO_KZ</th>\n",
       "      <th>TITEL_KZ</th>\n",
       "      <th>VERS_TYP</th>\n",
       "      <th>W_KEIT_KIND_HH</th>\n",
       "      <th>WOHNDAUER_2008</th>\n",
       "      <th>WOHNLAGE</th>\n",
       "      <th>ZABEOTYP</th>\n",
       "      <th>ANREDE_KZ</th>\n",
       "      <th>ALTERSKATEGORIE_GROB</th>\n",
       "    </tr>\n",
       "  </thead>\n",
       "  <tbody>\n",
       "    <tr>\n",
       "      <th>891216</th>\n",
       "      <td>NaN</td>\n",
       "      <td>17.0</td>\n",
       "      <td>15.0</td>\n",
       "      <td>0.0</td>\n",
       "      <td>1.0</td>\n",
       "      <td>0.0</td>\n",
       "      <td>NaN</td>\n",
       "      <td>6.0</td>\n",
       "      <td>7A</td>\n",
       "      <td>7</td>\n",
       "      <td>...</td>\n",
       "      <td>3.0</td>\n",
       "      <td>0.0</td>\n",
       "      <td>NaN</td>\n",
       "      <td>1.0</td>\n",
       "      <td>3.0</td>\n",
       "      <td>4.0</td>\n",
       "      <td>3.0</td>\n",
       "      <td>4.0</td>\n",
       "      <td>2.0</td>\n",
       "      <td>3.0</td>\n",
       "    </tr>\n",
       "    <tr>\n",
       "      <th>891217</th>\n",
       "      <td>NaN</td>\n",
       "      <td>16.0</td>\n",
       "      <td>11.0</td>\n",
       "      <td>0.0</td>\n",
       "      <td>1.0</td>\n",
       "      <td>0.0</td>\n",
       "      <td>4.0</td>\n",
       "      <td>7.0</td>\n",
       "      <td>9D</td>\n",
       "      <td>9</td>\n",
       "      <td>...</td>\n",
       "      <td>NaN</td>\n",
       "      <td>0.0</td>\n",
       "      <td>NaN</td>\n",
       "      <td>NaN</td>\n",
       "      <td>6.0</td>\n",
       "      <td>9.0</td>\n",
       "      <td>5.0</td>\n",
       "      <td>6.0</td>\n",
       "      <td>1.0</td>\n",
       "      <td>2.0</td>\n",
       "    </tr>\n",
       "    <tr>\n",
       "      <th>891218</th>\n",
       "      <td>NaN</td>\n",
       "      <td>17.0</td>\n",
       "      <td>3.0</td>\n",
       "      <td>0.0</td>\n",
       "      <td>0.0</td>\n",
       "      <td>0.0</td>\n",
       "      <td>2.0</td>\n",
       "      <td>5.0</td>\n",
       "      <td>4C</td>\n",
       "      <td>4</td>\n",
       "      <td>...</td>\n",
       "      <td>2.0</td>\n",
       "      <td>0.0</td>\n",
       "      <td>NaN</td>\n",
       "      <td>1.0</td>\n",
       "      <td>NaN</td>\n",
       "      <td>5.0</td>\n",
       "      <td>7.0</td>\n",
       "      <td>4.0</td>\n",
       "      <td>2.0</td>\n",
       "      <td>2.0</td>\n",
       "    </tr>\n",
       "    <tr>\n",
       "      <th>891219</th>\n",
       "      <td>NaN</td>\n",
       "      <td>NaN</td>\n",
       "      <td>7.0</td>\n",
       "      <td>0.0</td>\n",
       "      <td>1.0</td>\n",
       "      <td>0.0</td>\n",
       "      <td>4.0</td>\n",
       "      <td>2.0</td>\n",
       "      <td>9D</td>\n",
       "      <td>9</td>\n",
       "      <td>...</td>\n",
       "      <td>0.0</td>\n",
       "      <td>0.0</td>\n",
       "      <td>NaN</td>\n",
       "      <td>2.0</td>\n",
       "      <td>1.0</td>\n",
       "      <td>9.0</td>\n",
       "      <td>5.0</td>\n",
       "      <td>5.0</td>\n",
       "      <td>1.0</td>\n",
       "      <td>1.0</td>\n",
       "    </tr>\n",
       "    <tr>\n",
       "      <th>891220</th>\n",
       "      <td>NaN</td>\n",
       "      <td>NaN</td>\n",
       "      <td>10.0</td>\n",
       "      <td>0.0</td>\n",
       "      <td>1.0</td>\n",
       "      <td>0.0</td>\n",
       "      <td>3.0</td>\n",
       "      <td>6.0</td>\n",
       "      <td>6B</td>\n",
       "      <td>6</td>\n",
       "      <td>...</td>\n",
       "      <td>2.0</td>\n",
       "      <td>0.0</td>\n",
       "      <td>NaN</td>\n",
       "      <td>1.0</td>\n",
       "      <td>6.0</td>\n",
       "      <td>3.0</td>\n",
       "      <td>4.0</td>\n",
       "      <td>3.0</td>\n",
       "      <td>1.0</td>\n",
       "      <td>4.0</td>\n",
       "    </tr>\n",
       "  </tbody>\n",
       "</table>\n",
       "<p>5 rows × 315 columns</p>\n",
       "</div>"
      ],
      "text/plain": [
       "        AGER_TYP  ALTER_HH  ANZ_HAUSHALTE_AKTIV  ANZ_HH_TITEL  ANZ_PERSONEN  \\\n",
       "891216       NaN      17.0                 15.0           0.0           1.0   \n",
       "891217       NaN      16.0                 11.0           0.0           1.0   \n",
       "891218       NaN      17.0                  3.0           0.0           0.0   \n",
       "891219       NaN       NaN                  7.0           0.0           1.0   \n",
       "891220       NaN       NaN                 10.0           0.0           1.0   \n",
       "\n",
       "        ANZ_TITEL  ARBEIT  BALLRAUM CAMEO_DEU_2015 CAMEO_DEUG_2015  \\\n",
       "891216        0.0     NaN       6.0             7A               7   \n",
       "891217        0.0     4.0       7.0             9D               9   \n",
       "891218        0.0     2.0       5.0             4C               4   \n",
       "891219        0.0     4.0       2.0             9D               9   \n",
       "891220        0.0     3.0       6.0             6B               6   \n",
       "\n",
       "                ...          SHOPPER_TYP  SOHO_KZ  TITEL_KZ  VERS_TYP  \\\n",
       "891216          ...                  3.0      0.0       NaN       1.0   \n",
       "891217          ...                  NaN      0.0       NaN       NaN   \n",
       "891218          ...                  2.0      0.0       NaN       1.0   \n",
       "891219          ...                  0.0      0.0       NaN       2.0   \n",
       "891220          ...                  2.0      0.0       NaN       1.0   \n",
       "\n",
       "        W_KEIT_KIND_HH  WOHNDAUER_2008  WOHNLAGE  ZABEOTYP  ANREDE_KZ  \\\n",
       "891216             3.0             4.0       3.0       4.0        2.0   \n",
       "891217             6.0             9.0       5.0       6.0        1.0   \n",
       "891218             NaN             5.0       7.0       4.0        2.0   \n",
       "891219             1.0             9.0       5.0       5.0        1.0   \n",
       "891220             6.0             3.0       4.0       3.0        1.0   \n",
       "\n",
       "        ALTERSKATEGORIE_GROB  \n",
       "891216                   3.0  \n",
       "891217                   2.0  \n",
       "891218                   2.0  \n",
       "891219                   1.0  \n",
       "891220                   4.0  \n",
       "\n",
       "[5 rows x 315 columns]"
      ]
     },
     "execution_count": 39,
     "metadata": {},
     "output_type": "execute_result"
    }
   ],
   "source": [
    "azdias_dropped_columns_no_info_on.tail()"
   ]
  },
  {
   "cell_type": "code",
   "execution_count": 40,
   "metadata": {},
   "outputs": [
    {
     "data": {
      "image/png": "[encoded data removed]",
      "text/plain": [
       "<matplotlib.figure.Figure at 0x7f832841f940>"
      ]
     },
     "metadata": {
      "needs_background": "light"
     },
     "output_type": "display_data"
    }
   ],
   "source": [
    "# Plot percentage of missing data in each column\n",
    "col_dropped = azdias_dropped_columns_no_info_on.isnull().sum()\n",
    "col_null_updated = col_dropped[col_dropped != 0]\n",
    "(col_null_updated/azdias_dropped_columns_no_info_on.shape[0]*100).sort_values(ascending=False).head(100).plot.bar(figsize=(24,8), fontsize=8, color='b');"
   ]
  },
  {
   "cell_type": "code",
   "execution_count": 35,
   "metadata": {},
   "outputs": [
    {
     "data": {
      "text/plain": [
       "nan"
      ]
     },
     "execution_count": 35,
     "metadata": {},
     "output_type": "execute_result"
    }
   ],
   "source": [
    "#test\n",
    "azdias_dropped_columns_no_info_on['CAMEO_DEUG_2015'][2511]"
   ]
  },
  {
   "cell_type": "code",
   "execution_count": 41,
   "metadata": {},
   "outputs": [
    {
     "name": "stdout",
     "output_type": "stream",
     "text": [
      "51 ['AGER_TYP', 'D19_BANKEN_ANZ_12', 'D19_BANKEN_ANZ_24', 'D19_BANKEN_DIREKT', 'D19_BANKEN_GROSS', 'D19_BANKEN_LOKAL', 'D19_BANKEN_ONLINE_QUOTE_12', 'D19_BANKEN_REST', 'D19_BEKLEIDUNG_GEH', 'D19_BEKLEIDUNG_REST', 'D19_BILDUNG', 'D19_BIO_OEKO', 'D19_DIGIT_SERV', 'D19_DROGERIEARTIKEL', 'D19_ENERGIE', 'D19_FREIZEIT', 'D19_GARTEN', 'D19_GESAMT_ANZ_12', 'D19_GESAMT_ANZ_24', 'D19_GESAMT_ONLINE_QUOTE_12', 'D19_HANDWERK', 'D19_HAUS_DEKO', 'D19_KINDERARTIKEL', 'D19_KOSMETIK', 'D19_LEBENSMITTEL', 'D19_LOTTO', 'D19_NAHRUNGSERGAENZUNG', 'D19_RATGEBER', 'D19_REISEN', 'D19_SAMMELARTIKEL', 'D19_SCHUHE', 'D19_SONSTIGE', 'D19_TECHNIK', 'D19_TELKO_ANZ_12', 'D19_TELKO_ANZ_24', 'D19_TELKO_MOBILE', 'D19_TELKO_REST', 'D19_TIERARTIKEL', 'D19_VERSAND_ANZ_12', 'D19_VERSAND_ANZ_24', 'D19_VERSAND_ONLINE_QUOTE_12', 'D19_VERSAND_REST', 'D19_VERSI_ANZ_12', 'D19_VERSI_ANZ_24', 'D19_VERSICHERUNGEN', 'D19_VOLLSORTIMENT', 'D19_WEIN_FEINKOST', 'GEBURTSJAHR', 'KBA05_BAUMAX', 'KK_KUNDENTYP', 'TITEL_KZ']\n",
      "53 ['AGER_TYP', 'ALTER_HH', 'D19_BANKEN_ANZ_12', 'D19_BANKEN_ANZ_24', 'D19_BANKEN_DIREKT', 'D19_BANKEN_GROSS', 'D19_BANKEN_LOKAL', 'D19_BANKEN_ONLINE_QUOTE_12', 'D19_BANKEN_REST', 'D19_BEKLEIDUNG_GEH', 'D19_BEKLEIDUNG_REST', 'D19_BILDUNG', 'D19_BIO_OEKO', 'D19_DIGIT_SERV', 'D19_DROGERIEARTIKEL', 'D19_ENERGIE', 'D19_FREIZEIT', 'D19_GARTEN', 'D19_GESAMT_ANZ_12', 'D19_GESAMT_ANZ_24', 'D19_GESAMT_ONLINE_QUOTE_12', 'D19_HANDWERK', 'D19_HAUS_DEKO', 'D19_KINDERARTIKEL', 'D19_KOSMETIK', 'D19_LEBENSMITTEL', 'D19_LOTTO', 'D19_NAHRUNGSERGAENZUNG', 'D19_RATGEBER', 'D19_REISEN', 'D19_SAMMELARTIKEL', 'D19_SCHUHE', 'D19_SONSTIGE', 'D19_TECHNIK', 'D19_TELKO_ANZ_12', 'D19_TELKO_ANZ_24', 'D19_TELKO_MOBILE', 'D19_TELKO_REST', 'D19_TIERARTIKEL', 'D19_VERSAND_ANZ_12', 'D19_VERSAND_ANZ_24', 'D19_VERSAND_ONLINE_QUOTE_12', 'D19_VERSAND_REST', 'D19_VERSI_ANZ_12', 'D19_VERSI_ANZ_24', 'D19_VERSICHERUNGEN', 'D19_VOLLSORTIMENT', 'D19_WEIN_FEINKOST', 'GEBURTSJAHR', 'KBA05_BAUMAX', 'KBA05_MAXVORB', 'KK_KUNDENTYP', 'TITEL_KZ']\n"
     ]
    }
   ],
   "source": [
    "# Compare list of columns missing more than 30% and 40% of data \n",
    "to_drop_30 = [column for column in azdias_dropped_columns_no_info_on.columns if (azdias_dropped_columns_no_info_on[column].isnull().sum()/azdias_dropped_columns_no_info_on.shape[0]) * 100 > 30]\n",
    "to_drop_40 = [column for column in azdias_dropped_columns_no_info_on.columns if (azdias_dropped_columns_no_info_on[column].isnull().sum()/azdias_dropped_columns_no_info_on.shape[0]) * 100 > 40]\n",
    "print(len(to_drop_40), to_drop_40)\n",
    "print(len(to_drop_30), to_drop_30)"
   ]
  },
  {
   "cell_type": "markdown",
   "metadata": {},
   "source": [
    "'AGER_TYP' is types of eldery people, 'GEBURTSJAHR' is a year of birth, 'TITEL_KZ' is a title, 'ALTER_HH' is birthdate of head of household, 'KK_KUNDENTYP' is consumer pattern over past 12 months and 'KBA05_BAUMAX' - most common building type. And again banking activity columns. "
   ]
  },
  {
   "cell_type": "code",
   "execution_count": 42,
   "metadata": {},
   "outputs": [],
   "source": [
    "# Drop columns missing more than 30% of data\n",
    "azdias_col_clean = azdias_dropped_columns_no_info_on.drop(to_drop_30, axis=1)"
   ]
  },
  {
   "cell_type": "code",
   "execution_count": 43,
   "metadata": {},
   "outputs": [
    {
     "data": {
      "text/plain": [
       "(891221, 262)"
      ]
     },
     "execution_count": 43,
     "metadata": {},
     "output_type": "execute_result"
    }
   ],
   "source": [
    "azdias_col_clean.shape"
   ]
  },
  {
   "cell_type": "code",
   "execution_count": 44,
   "metadata": {},
   "outputs": [
    {
     "data": {
      "text/plain": [
       "count    891221.000000\n",
       "mean         28.069824\n",
       "std          65.479406\n",
       "min           0.000000\n",
       "25%           0.000000\n",
       "50%           0.000000\n",
       "75%           4.000000\n",
       "max         219.000000\n",
       "dtype: float64"
      ]
     },
     "execution_count": 44,
     "metadata": {},
     "output_type": "execute_result"
    }
   ],
   "source": [
    "# Now rows with missing data\n",
    "rows_null = azdias_col_clean.isnull().sum(axis=1)\n",
    "rows_null.describe()"
   ]
  },
  {
   "cell_type": "code",
   "execution_count": 45,
   "metadata": {},
   "outputs": [
    {
     "data": {
      "image/png": "[encoded data removed]",
      "text/plain": [
       "<matplotlib.figure.Figure at 0x7f83285b29e8>"
      ]
     },
     "metadata": {
      "needs_background": "light"
     },
     "output_type": "display_data"
    }
   ],
   "source": [
    "# Plot missing data in rows\n",
    "plt.hist(rows_null, bins=20, alpha=0.75)\n",
    "plt.xlabel('Missing data(entry)')\n",
    "plt.ylabel('Row Count')\n",
    "plt.title('Missing Data in rows')\n",
    "plt.grid(False)\n",
    "plt.show()"
   ]
  },
  {
   "cell_type": "code",
   "execution_count": 46,
   "metadata": {},
   "outputs": [
    {
     "name": "stdout",
     "output_type": "stream",
     "text": [
      "Percentage of complete rows: 54.63%\n",
      "17.27\n",
      "13.32\n",
      "11.87\n"
     ]
    }
   ],
   "source": [
    "pct =round(len(rows_null[rows_null == 0])/(azdias_col_clean.shape[0])*100,2)\n",
    "print(\"Percentage of complete rows: {}%\".format(pct))\n",
    "print(round(len(rows_null[rows_null >= 50])/(azdias_col_clean.shape[0])*100,2))\n",
    "print(round(len(rows_null[rows_null >= 65])/(azdias_col_clean.shape[0])*100,2))\n",
    "print(round(len(rows_null[rows_null >= 100])/(azdias_col_clean.shape[0])*100,2))"
   ]
  },
  {
   "cell_type": "code",
   "execution_count": 47,
   "metadata": {},
   "outputs": [],
   "source": [
    "# Write code to divide the data into two subsets based on the number of missing\n",
    "# values in each row.\n",
    "low_null = azdias_col_clean[azdias_col_clean.isnull().sum(axis=1) < 65]\n",
    "high_null = azdias_col_clean[azdias_col_clean.isnull().sum(axis=1) >= 65]"
   ]
  },
  {
   "cell_type": "code",
   "execution_count": 44,
   "metadata": {},
   "outputs": [],
   "source": [
    "#low_null.to_csv('az_subset.csv', sep=',')"
   ]
  },
  {
   "cell_type": "code",
   "execution_count": 48,
   "metadata": {},
   "outputs": [],
   "source": [
    "col_to_compare = list(np.random.choice(low_null.columns, 4))\n",
    "#col_to_compare = ['LP_STATUS_GROB', 'FINANZ_ANLEGER', 'SOHO_KZ', 'LP_FAMILIE_GROB', 'KONSUMNAEHE', 'RETOURTYP_BK_S', 'KBA05_MOTOR']"
   ]
  },
  {
   "cell_type": "code",
   "execution_count": 49,
   "metadata": {},
   "outputs": [],
   "source": [
    "def show_plot(column):\n",
    "    \n",
    "    plt.figure(figsize=(16,4))\n",
    "    plt.subplot(121)\n",
    "    sns.countplot(x=low_null[column], data = low_null, color='lightgreen')\n",
    "    plt.title('Data to keep')\n",
    "    \n",
    "    plt.subplot(122)\n",
    "    sns.countplot(x=high_null[column], data = high_null, color='grey')\n",
    "    plt.title('Data to drop')\n",
    "    \n",
    "    plt.suptitle(column)\n",
    "    \n",
    "    plt.show()"
   ]
  },
  {
   "cell_type": "code",
   "execution_count": 50,
   "metadata": {},
   "outputs": [
    {
     "data": {
      "image/png": "[encoded data removed]",
      "text/plain": [
       "<matplotlib.figure.Figure at 0x7f8328697940>"
      ]
     },
     "metadata": {
      "needs_background": "light"
     },
     "output_type": "display_data"
    },
    {
     "data": {
      "image/png": "[encoded data removed]",
      "text/plain": [
       "<matplotlib.figure.Figure at 0x7f83285ea3c8>"
      ]
     },
     "metadata": {
      "needs_background": "light"
     },
     "output_type": "display_data"
    },
    {
     "data": {
      "image/png": "[encoded data removed]",
      "text/plain": [
       "<matplotlib.figure.Figure at 0x7f8326a95710>"
      ]
     },
     "metadata": {
      "needs_background": "light"
     },
     "output_type": "display_data"
    },
    {
     "data": {
      "image/png": "[encoded data removed]",
      "text/plain": [
       "<matplotlib.figure.Figure at 0x7f832584cfd0>"
      ]
     },
     "metadata": {
      "needs_background": "light"
     },
     "output_type": "display_data"
    }
   ],
   "source": [
    "for column in col_to_compare:\n",
    "    show_plot(column)"
   ]
  },
  {
   "cell_type": "markdown",
   "metadata": {},
   "source": [
    "\n",
    "As we can see above the percentage of complete rows is 54.63%. Rows missing more than 50 values account for 17.27% of the data, and missing more than 65 for 13.32%. I decided to split the data set by rows missing 65 and more values. In that case we will lose only 13.32% of the data. To see how related two new subsets are to each other are I randomly choose columns and compare them.\n",
    "\n",
    "We can see a nice correlation. Unfortunately, it is not always a case. Therefore we can be sure what for some important features as a region or a wealth, life stage and status we will have the same picture with only 86.68% of the data. But we might introduce a bias for some others.\n",
    "\n"
   ]
  },
  {
   "cell_type": "code",
   "execution_count": 51,
   "metadata": {},
   "outputs": [
    {
     "data": {
      "text/html": [
       "<div>\n",
       "<style scoped>\n",
       "    .dataframe tbody tr th:only-of-type {\n",
       "        vertical-align: middle;\n",
       "    }\n",
       "\n",
       "    .dataframe tbody tr th {\n",
       "        vertical-align: top;\n",
       "    }\n",
       "\n",
       "    .dataframe thead th {\n",
       "        text-align: right;\n",
       "    }\n",
       "</style>\n",
       "<table border=\"1\" class=\"dataframe\">\n",
       "  <thead>\n",
       "    <tr style=\"text-align: right;\">\n",
       "      <th></th>\n",
       "      <th>CAMEO_DEU_2015</th>\n",
       "      <th>CAMEO_DEUG_2015</th>\n",
       "      <th>CAMEO_INTL_2015</th>\n",
       "      <th>OST_WEST_KZ</th>\n",
       "    </tr>\n",
       "  </thead>\n",
       "  <tbody>\n",
       "    <tr>\n",
       "      <th>1</th>\n",
       "      <td>8A</td>\n",
       "      <td>8</td>\n",
       "      <td>51</td>\n",
       "      <td>W</td>\n",
       "    </tr>\n",
       "  </tbody>\n",
       "</table>\n",
       "</div>"
      ],
      "text/plain": [
       "  CAMEO_DEU_2015 CAMEO_DEUG_2015 CAMEO_INTL_2015 OST_WEST_KZ\n",
       "1             8A               8              51           W"
      ]
     },
     "execution_count": 51,
     "metadata": {},
     "output_type": "execute_result"
    }
   ],
   "source": [
    "low_null.select_dtypes(include=['object']).head(1)"
   ]
  },
  {
   "cell_type": "code",
   "execution_count": 52,
   "metadata": {},
   "outputs": [],
   "source": [
    "# from Term 1\n",
    "drop_multi =['FINANZTYP', 'GEBAEUDETYP', 'LP_FAMILIE_FEIN', 'LP_STATUS_FEIN','CAMEO_DEU_2015']\n",
    "low_null = low_null.drop(drop_multi, axis=1)"
   ]
  },
  {
   "cell_type": "code",
   "execution_count": 15,
   "metadata": {},
   "outputs": [],
   "source": [
    "# Help functions from Term 1\n",
    "# make an interval-type variable for decade\n",
    "def add_decade(x):\n",
    "    if x in (1,2):\n",
    "        return 1\n",
    "    if x in (3,4):\n",
    "        return 2\n",
    "    if x in (5,6,7):\n",
    "        return 3\n",
    "    if x in (8,9):\n",
    "        return 4\n",
    "    if x in (10,11,12,13):\n",
    "        return 5\n",
    "    if x in (14,15):\n",
    "        return 6\n",
    "    \n",
    "# make a binary variable for movement, 0 - mainstream, 1- avantgarde\n",
    "def add_movement(x):\n",
    "    if x in (1,3,5,8,10,12,14):\n",
    "        return 0\n",
    "    if x in (2,4,6,7,9,11,13,15): \n",
    "        return 1"
   ]
  },
  {
   "cell_type": "code",
   "execution_count": 54,
   "metadata": {},
   "outputs": [],
   "source": [
    "low_null['DECADE'] = low_null['PRAEGENDE_JUGENDJAHRE'].apply(add_decade)\n",
    "low_null['MOVEMENT'] = low_null['PRAEGENDE_JUGENDJAHRE'].apply(add_movement)"
   ]
  },
  {
   "cell_type": "code",
   "execution_count": 16,
   "metadata": {},
   "outputs": [],
   "source": [
    "# Investigate \"CAMEO_INTL_2015\" and engineer two new variables.\n",
    "\n",
    "def add_wealth(x):\n",
    "    if pd.isnull(x):\n",
    "        return x\n",
    "    else:\n",
    "        return int(str(x)[0])\n",
    "def add_life_stage(x):\n",
    "    if pd.isnull(x):\n",
    "        return x\n",
    "    else:\n",
    "        return int(str(x)[1])"
   ]
  },
  {
   "cell_type": "code",
   "execution_count": 56,
   "metadata": {},
   "outputs": [],
   "source": [
    "low_null['CAMEO_INTL_2015_WEALTH'] = low_null['CAMEO_INTL_2015'].apply(add_wealth)\n",
    "low_null['CAMEO_INTL_2015_LIFE_STAGE'] = low_null['CAMEO_INTL_2015'].apply(add_life_stage)"
   ]
  },
  {
   "cell_type": "code",
   "execution_count": 57,
   "metadata": {},
   "outputs": [],
   "source": [
    "low_null['OST_WEST_KZ']=low_null['OST_WEST_KZ'].map({'W': 1, 'O': 0})\n",
    "low_null = pd.get_dummies(low_null, columns = ['CJT_GESAMTTYP', 'GFK_URLAUBERTYP', 'LP_FAMILIE_GROB', \n",
    "                                               'LP_STATUS_GROB', 'NATIONALITAET_KZ', 'SHOPPER_TYP', 'ZABEOTYP', 'CAMEO_DEUG_2015'])\n"
   ]
  },
  {
   "cell_type": "code",
   "execution_count": 59,
   "metadata": {},
   "outputs": [],
   "source": [
    "low_null = low_null.drop(['PRAEGENDE_JUGENDJAHRE','CAMEO_INTL_2015'], axis = 1)"
   ]
  },
  {
   "cell_type": "code",
   "execution_count": 60,
   "metadata": {},
   "outputs": [
    {
     "data": {
      "text/html": [
       "<div>\n",
       "<style scoped>\n",
       "    .dataframe tbody tr th:only-of-type {\n",
       "        vertical-align: middle;\n",
       "    }\n",
       "\n",
       "    .dataframe tbody tr th {\n",
       "        vertical-align: top;\n",
       "    }\n",
       "\n",
       "    .dataframe thead th {\n",
       "        text-align: right;\n",
       "    }\n",
       "</style>\n",
       "<table border=\"1\" class=\"dataframe\">\n",
       "  <thead>\n",
       "    <tr style=\"text-align: right;\">\n",
       "      <th></th>\n",
       "      <th>ANZ_HAUSHALTE_AKTIV</th>\n",
       "      <th>ANZ_HH_TITEL</th>\n",
       "      <th>ANZ_PERSONEN</th>\n",
       "      <th>ANZ_TITEL</th>\n",
       "      <th>ARBEIT</th>\n",
       "      <th>BALLRAUM</th>\n",
       "      <th>CJT_TYP_1</th>\n",
       "      <th>CJT_TYP_2</th>\n",
       "      <th>CJT_TYP_3</th>\n",
       "      <th>CJT_TYP_4</th>\n",
       "      <th>...</th>\n",
       "      <th>ZABEOTYP_6.0</th>\n",
       "      <th>CAMEO_DEUG_2015_1</th>\n",
       "      <th>CAMEO_DEUG_2015_2</th>\n",
       "      <th>CAMEO_DEUG_2015_3</th>\n",
       "      <th>CAMEO_DEUG_2015_4</th>\n",
       "      <th>CAMEO_DEUG_2015_5</th>\n",
       "      <th>CAMEO_DEUG_2015_6</th>\n",
       "      <th>CAMEO_DEUG_2015_7</th>\n",
       "      <th>CAMEO_DEUG_2015_8</th>\n",
       "      <th>CAMEO_DEUG_2015_9</th>\n",
       "    </tr>\n",
       "  </thead>\n",
       "  <tbody>\n",
       "    <tr>\n",
       "      <th>1</th>\n",
       "      <td>11.0</td>\n",
       "      <td>0.0</td>\n",
       "      <td>2.0</td>\n",
       "      <td>0.0</td>\n",
       "      <td>3.0</td>\n",
       "      <td>6.0</td>\n",
       "      <td>5.0</td>\n",
       "      <td>5.0</td>\n",
       "      <td>2.0</td>\n",
       "      <td>3.0</td>\n",
       "      <td>...</td>\n",
       "      <td>0</td>\n",
       "      <td>0</td>\n",
       "      <td>0</td>\n",
       "      <td>0</td>\n",
       "      <td>0</td>\n",
       "      <td>0</td>\n",
       "      <td>0</td>\n",
       "      <td>0</td>\n",
       "      <td>1</td>\n",
       "      <td>0</td>\n",
       "    </tr>\n",
       "    <tr>\n",
       "      <th>2</th>\n",
       "      <td>10.0</td>\n",
       "      <td>0.0</td>\n",
       "      <td>1.0</td>\n",
       "      <td>0.0</td>\n",
       "      <td>3.0</td>\n",
       "      <td>2.0</td>\n",
       "      <td>4.0</td>\n",
       "      <td>4.0</td>\n",
       "      <td>1.0</td>\n",
       "      <td>3.0</td>\n",
       "      <td>...</td>\n",
       "      <td>0</td>\n",
       "      <td>0</td>\n",
       "      <td>0</td>\n",
       "      <td>0</td>\n",
       "      <td>1</td>\n",
       "      <td>0</td>\n",
       "      <td>0</td>\n",
       "      <td>0</td>\n",
       "      <td>0</td>\n",
       "      <td>0</td>\n",
       "    </tr>\n",
       "    <tr>\n",
       "      <th>3</th>\n",
       "      <td>1.0</td>\n",
       "      <td>0.0</td>\n",
       "      <td>0.0</td>\n",
       "      <td>0.0</td>\n",
       "      <td>2.0</td>\n",
       "      <td>4.0</td>\n",
       "      <td>2.0</td>\n",
       "      <td>2.0</td>\n",
       "      <td>4.0</td>\n",
       "      <td>4.0</td>\n",
       "      <td>...</td>\n",
       "      <td>0</td>\n",
       "      <td>0</td>\n",
       "      <td>1</td>\n",
       "      <td>0</td>\n",
       "      <td>0</td>\n",
       "      <td>0</td>\n",
       "      <td>0</td>\n",
       "      <td>0</td>\n",
       "      <td>0</td>\n",
       "      <td>0</td>\n",
       "    </tr>\n",
       "    <tr>\n",
       "      <th>4</th>\n",
       "      <td>3.0</td>\n",
       "      <td>0.0</td>\n",
       "      <td>4.0</td>\n",
       "      <td>0.0</td>\n",
       "      <td>4.0</td>\n",
       "      <td>2.0</td>\n",
       "      <td>3.0</td>\n",
       "      <td>3.0</td>\n",
       "      <td>3.0</td>\n",
       "      <td>4.0</td>\n",
       "      <td>...</td>\n",
       "      <td>0</td>\n",
       "      <td>0</td>\n",
       "      <td>0</td>\n",
       "      <td>0</td>\n",
       "      <td>0</td>\n",
       "      <td>0</td>\n",
       "      <td>1</td>\n",
       "      <td>0</td>\n",
       "      <td>0</td>\n",
       "      <td>0</td>\n",
       "    </tr>\n",
       "    <tr>\n",
       "      <th>5</th>\n",
       "      <td>5.0</td>\n",
       "      <td>0.0</td>\n",
       "      <td>1.0</td>\n",
       "      <td>0.0</td>\n",
       "      <td>2.0</td>\n",
       "      <td>6.0</td>\n",
       "      <td>2.0</td>\n",
       "      <td>1.0</td>\n",
       "      <td>5.0</td>\n",
       "      <td>5.0</td>\n",
       "      <td>...</td>\n",
       "      <td>0</td>\n",
       "      <td>0</td>\n",
       "      <td>0</td>\n",
       "      <td>0</td>\n",
       "      <td>0</td>\n",
       "      <td>0</td>\n",
       "      <td>0</td>\n",
       "      <td>0</td>\n",
       "      <td>1</td>\n",
       "      <td>0</td>\n",
       "    </tr>\n",
       "  </tbody>\n",
       "</table>\n",
       "<p>5 rows × 301 columns</p>\n",
       "</div>"
      ],
      "text/plain": [
       "   ANZ_HAUSHALTE_AKTIV  ANZ_HH_TITEL  ANZ_PERSONEN  ANZ_TITEL  ARBEIT  \\\n",
       "1                 11.0           0.0           2.0        0.0     3.0   \n",
       "2                 10.0           0.0           1.0        0.0     3.0   \n",
       "3                  1.0           0.0           0.0        0.0     2.0   \n",
       "4                  3.0           0.0           4.0        0.0     4.0   \n",
       "5                  5.0           0.0           1.0        0.0     2.0   \n",
       "\n",
       "   BALLRAUM  CJT_TYP_1  CJT_TYP_2  CJT_TYP_3  CJT_TYP_4        ...          \\\n",
       "1       6.0        5.0        5.0        2.0        3.0        ...           \n",
       "2       2.0        4.0        4.0        1.0        3.0        ...           \n",
       "3       4.0        2.0        2.0        4.0        4.0        ...           \n",
       "4       2.0        3.0        3.0        3.0        4.0        ...           \n",
       "5       6.0        2.0        1.0        5.0        5.0        ...           \n",
       "\n",
       "   ZABEOTYP_6.0  CAMEO_DEUG_2015_1  CAMEO_DEUG_2015_2  CAMEO_DEUG_2015_3  \\\n",
       "1             0                  0                  0                  0   \n",
       "2             0                  0                  0                  0   \n",
       "3             0                  0                  1                  0   \n",
       "4             0                  0                  0                  0   \n",
       "5             0                  0                  0                  0   \n",
       "\n",
       "   CAMEO_DEUG_2015_4  CAMEO_DEUG_2015_5  CAMEO_DEUG_2015_6  CAMEO_DEUG_2015_7  \\\n",
       "1                  0                  0                  0                  0   \n",
       "2                  1                  0                  0                  0   \n",
       "3                  0                  0                  0                  0   \n",
       "4                  0                  0                  1                  0   \n",
       "5                  0                  0                  0                  0   \n",
       "\n",
       "   CAMEO_DEUG_2015_8  CAMEO_DEUG_2015_9  \n",
       "1                  1                  0  \n",
       "2                  0                  0  \n",
       "3                  0                  0  \n",
       "4                  0                  0  \n",
       "5                  1                  0  \n",
       "\n",
       "[5 rows x 301 columns]"
      ]
     },
     "execution_count": 60,
     "metadata": {},
     "output_type": "execute_result"
    }
   ],
   "source": [
    "low_null.head()"
   ]
  },
  {
   "cell_type": "code",
   "execution_count": 61,
   "metadata": {},
   "outputs": [
    {
     "data": {
      "text/plain": [
       "array([dtype('uint8'), dtype('int64'), dtype('float64')], dtype=object)"
      ]
     },
     "execution_count": 61,
     "metadata": {},
     "output_type": "execute_result"
    }
   ],
   "source": [
    "np.unique(low_null.dtypes.values)\n"
   ]
  },
  {
   "cell_type": "code",
   "execution_count": 40,
   "metadata": {},
   "outputs": [],
   "source": [
    "# Cleaning function\n",
    "def clean_data(df):\n",
    "    \"\"\"\n",
    "    Perform feature trimming, re-encoding, and engineering for demographics\n",
    "    data\n",
    "    \n",
    "    INPUT: Demographics DataFrame\n",
    "    OUTPUT: Trimmed and cleaned demographics DataFrame\n",
    "    \"\"\"\n",
    "    #feat_info_all.set_index('attribute', inplace=True)\n",
    "    # Put in code here to execute all main cleaning steps:\n",
    "    # convert missing value codes into NaNs, ...\n",
    "    \n",
    "    for column in df.columns:\n",
    "        if column in feat_info_all.index:\n",
    "            df[column] = df[column].replace(convert_to_types(feat_info_all.loc[column].missing_or_unknown), np.nan)\n",
    "        elif df[column].dtype == np.int64:\n",
    "            df[column]= df[column].astype(np.float64)\n",
    "        else:\n",
    "            continue  \n",
    "        \n",
    "    to_drop_no_info_columns = ['MOBI_RASTER', 'EINGEZOGENAM_HH_JAHR', 'EXTSEL992', 'STRUKTURTYP', 'UMFELD_ALT',\n",
    "                               'D19_KONSUMTYP_MAX', 'ANZ_STATISTISCHE_HAUSHALTE', 'ALTER_KIND3', 'GEMEINDETYP',\n",
    "                               'VHA', 'KBA13_GBZ', 'FIRMENDICHTE', 'RT_SCHNAEPPCHEN', 'D19_VERSI_ONLINE_QUOTE_12',\n",
    "                               'KBA13_CCM_1401_2500', 'DSL_FLAG', 'AKT_DAT_KL', 'KOMBIALTER', \n",
    "                               'D19_VERSI_ONLINE_DATUM', 'KBA13_BAUMAX', 'KBA13_ANTG2', 'D19_BUCH_CD',\n",
    "                               'ALTER_KIND1', 'D19_VERSI_DATUM', 'EINGEFUEGT_AM', 'KBA13_ANTG1',\n",
    "                               'RT_UEBERGROESSE', 'D19_TELKO_ONLINE_QUOTE_12', 'VERDICHTUNGSRAUM', 'LNR',\n",
    "                               'D19_SOZIALES', 'KBA13_ANTG3', 'VK_DHT4A', 'VK_ZG11', 'KBA13_ANTG4', 'VHN',\n",
    "                               'ALTER_KIND2', 'ANZ_KINDER', 'D19_VERSI_OFFLINE_DATUM', 'UNGLEICHENN_FLAG',\n",
    "                               'ALTERSKATEGORIE_FEIN', 'RT_KEIN_ANREIZ', 'KBA13_KMH_210', \n",
    "                               'D19_LETZTER_KAUF_BRANCHE', 'ALTER_KIND4', 'KONSUMZELLE', 'UMFELD_JUNG',\n",
    "                               'HH_DELTA_FLAG', 'VK_DISTANZ', 'KBA13_HHZ', 'CJT_KATALOGNUTZER']    \n",
    "            \n",
    "    to_drop_30 = ['AGER_TYP', 'ALTER_HH', 'D19_BANKEN_ANZ_12', 'D19_BANKEN_ANZ_24', 'D19_BANKEN_DIREKT',\n",
    "                  'D19_BANKEN_GROSS', 'D19_BANKEN_LOKAL', 'D19_BANKEN_ONLINE_QUOTE_12', 'D19_BANKEN_REST',\n",
    "                  'D19_BEKLEIDUNG_GEH', 'D19_BEKLEIDUNG_REST', 'D19_BILDUNG', 'D19_BIO_OEKO', 'D19_DIGIT_SERV',\n",
    "                  'D19_DROGERIEARTIKEL', 'D19_ENERGIE', 'D19_FREIZEIT', 'D19_GARTEN', 'D19_GESAMT_ANZ_12',\n",
    "                  'D19_GESAMT_ANZ_24', 'D19_GESAMT_ONLINE_QUOTE_12', 'D19_HANDWERK', 'D19_HAUS_DEKO',\n",
    "                  'D19_KINDERARTIKEL', 'D19_KOSMETIK', 'D19_LEBENSMITTEL', 'D19_LOTTO', 'D19_NAHRUNGSERGAENZUNG',\n",
    "                  'D19_RATGEBER', 'D19_REISEN', 'D19_SAMMELARTIKEL', 'D19_SCHUHE', 'D19_SONSTIGE', 'D19_TECHNIK',\n",
    "                  'D19_TELKO_ANZ_12', 'D19_TELKO_ANZ_24', 'D19_TELKO_MOBILE', 'D19_TELKO_REST', 'D19_TIERARTIKEL',\n",
    "                  'D19_VERSAND_ANZ_12', 'D19_VERSAND_ANZ_24', 'D19_VERSAND_ONLINE_QUOTE_12', 'D19_VERSAND_REST',\n",
    "                  'D19_VERSI_ANZ_12', 'D19_VERSI_ANZ_24', 'D19_VERSICHERUNGEN', 'D19_VOLLSORTIMENT',\n",
    "                  'D19_WEIN_FEINKOST', 'GEBURTSJAHR', 'KBA05_BAUMAX', 'KBA05_MAXVORB', 'KK_KUNDENTYP', 'TITEL_KZ']\n",
    "    \n",
    "    to_drop_multi = ['FINANZTYP', 'GEBAEUDETYP', 'LP_FAMILIE_FEIN', 'LP_STATUS_FEIN','CAMEO_DEU_2015']\n",
    "    \n",
    "    multi_to_dummies = ['CJT_GESAMTTYP', 'GFK_URLAUBERTYP', 'LP_FAMILIE_GROB', 'LP_STATUS_GROB', 'NATIONALITAET_KZ',\n",
    "                       'SHOPPER_TYP', 'ZABEOTYP', 'CAMEO_DEUG_2015']\n",
    "    \n",
    "\n",
    "    # remove selected columns and rows, ...\n",
    "    \n",
    "    df = df.drop(to_drop_no_info_columns, axis=1)\n",
    "    df = df.drop(to_drop_30, axis=1)\n",
    "              \n",
    "    df = df[df.isnull().sum(axis=1) < 65]\n",
    "    df = df.drop(to_drop_multi, axis=1)\n",
    "    \n",
    "    # select, re-encode, and engineer column values.\n",
    "    df['OST_WEST_KZ'] = df['OST_WEST_KZ'].map({'W': 1, 'O': 0})\n",
    "    df = pd.get_dummies(df, columns=multi_to_dummies)\n",
    "    \n",
    "    df['DECADE'] = df['PRAEGENDE_JUGENDJAHRE'].apply(add_decade)\n",
    "    df['MOVEMENT'] = df['PRAEGENDE_JUGENDJAHRE'].apply(add_movement)\n",
    "\n",
    "    df['CAMEO_INTL_2015_WEALTH'] = df['CAMEO_INTL_2015'].apply(add_wealth)\n",
    "    df['CAMEO_INTL_2015_LIFE_STAGE'] = df['CAMEO_INTL_2015'].apply(add_life_stage)\n",
    "    \n",
    "    df = df.drop(['PRAEGENDE_JUGENDJAHRE','CAMEO_INTL_2015'], axis = 1)\n",
    "    \n",
    "    # Return the cleaned dataframe.\n",
    "    return df\n",
    "    "
   ]
  },
  {
   "cell_type": "markdown",
   "metadata": {},
   "source": [
    "## Part 1: Customer Segmentation Report\n",
    "\n",
    "The main bulk of your analysis will come in this part of the project. Here, you should use unsupervised learning techniques to describe the relationship between the demographics of the company's existing customers and the general population of Germany. By the end of this part, you should be able to describe parts of the general population that are more likely to be part of the mail-order company's main customer base, and which parts of the general population are less so."
   ]
  },
  {
   "cell_type": "code",
   "execution_count": 18,
   "metadata": {},
   "outputs": [
    {
     "data": {
      "text/plain": [
       "(772523, 301)"
      ]
     },
     "execution_count": 18,
     "metadata": {},
     "output_type": "execute_result"
    }
   ],
   "source": [
    "azdias_clean = clean_data(azdias)\n",
    "#azdias_clean = low_null.copy()\n",
    "azdias_clean.shape"
   ]
  },
  {
   "cell_type": "code",
   "execution_count": 19,
   "metadata": {},
   "outputs": [],
   "source": [
    "feat_info_all.to_csv('feature_all.csv', sep=',')"
   ]
  },
  {
   "cell_type": "code",
   "execution_count": 20,
   "metadata": {},
   "outputs": [
    {
     "data": {
      "text/html": [
       "<div>\n",
       "<style scoped>\n",
       "    .dataframe tbody tr th:only-of-type {\n",
       "        vertical-align: middle;\n",
       "    }\n",
       "\n",
       "    .dataframe tbody tr th {\n",
       "        vertical-align: top;\n",
       "    }\n",
       "\n",
       "    .dataframe thead th {\n",
       "        text-align: right;\n",
       "    }\n",
       "</style>\n",
       "<table border=\"1\" class=\"dataframe\">\n",
       "  <thead>\n",
       "    <tr style=\"text-align: right;\">\n",
       "      <th></th>\n",
       "      <th>ANZ_HAUSHALTE_AKTIV</th>\n",
       "      <th>ANZ_HH_TITEL</th>\n",
       "      <th>ANZ_PERSONEN</th>\n",
       "      <th>ANZ_TITEL</th>\n",
       "      <th>ARBEIT</th>\n",
       "      <th>BALLRAUM</th>\n",
       "      <th>CJT_TYP_1</th>\n",
       "      <th>CJT_TYP_2</th>\n",
       "      <th>CJT_TYP_3</th>\n",
       "      <th>CJT_TYP_4</th>\n",
       "      <th>...</th>\n",
       "      <th>CAMEO_DEUG_2015_4</th>\n",
       "      <th>CAMEO_DEUG_2015_5</th>\n",
       "      <th>CAMEO_DEUG_2015_6</th>\n",
       "      <th>CAMEO_DEUG_2015_7</th>\n",
       "      <th>CAMEO_DEUG_2015_8</th>\n",
       "      <th>CAMEO_DEUG_2015_9</th>\n",
       "      <th>DECADE</th>\n",
       "      <th>MOVEMENT</th>\n",
       "      <th>CAMEO_INTL_2015_WEALTH</th>\n",
       "      <th>CAMEO_INTL_2015_LIFE_STAGE</th>\n",
       "    </tr>\n",
       "  </thead>\n",
       "  <tbody>\n",
       "    <tr>\n",
       "      <th>1</th>\n",
       "      <td>11.0</td>\n",
       "      <td>0.0</td>\n",
       "      <td>2.0</td>\n",
       "      <td>0.0</td>\n",
       "      <td>3.0</td>\n",
       "      <td>6.0</td>\n",
       "      <td>5.0</td>\n",
       "      <td>5.0</td>\n",
       "      <td>2.0</td>\n",
       "      <td>3.0</td>\n",
       "      <td>...</td>\n",
       "      <td>0</td>\n",
       "      <td>0</td>\n",
       "      <td>0</td>\n",
       "      <td>0</td>\n",
       "      <td>1</td>\n",
       "      <td>0</td>\n",
       "      <td>6.0</td>\n",
       "      <td>0.0</td>\n",
       "      <td>5.0</td>\n",
       "      <td>1.0</td>\n",
       "    </tr>\n",
       "    <tr>\n",
       "      <th>2</th>\n",
       "      <td>10.0</td>\n",
       "      <td>0.0</td>\n",
       "      <td>1.0</td>\n",
       "      <td>0.0</td>\n",
       "      <td>3.0</td>\n",
       "      <td>2.0</td>\n",
       "      <td>4.0</td>\n",
       "      <td>4.0</td>\n",
       "      <td>1.0</td>\n",
       "      <td>3.0</td>\n",
       "      <td>...</td>\n",
       "      <td>1</td>\n",
       "      <td>0</td>\n",
       "      <td>0</td>\n",
       "      <td>0</td>\n",
       "      <td>0</td>\n",
       "      <td>0</td>\n",
       "      <td>6.0</td>\n",
       "      <td>1.0</td>\n",
       "      <td>2.0</td>\n",
       "      <td>4.0</td>\n",
       "    </tr>\n",
       "    <tr>\n",
       "      <th>3</th>\n",
       "      <td>1.0</td>\n",
       "      <td>0.0</td>\n",
       "      <td>0.0</td>\n",
       "      <td>0.0</td>\n",
       "      <td>2.0</td>\n",
       "      <td>4.0</td>\n",
       "      <td>2.0</td>\n",
       "      <td>2.0</td>\n",
       "      <td>4.0</td>\n",
       "      <td>4.0</td>\n",
       "      <td>...</td>\n",
       "      <td>0</td>\n",
       "      <td>0</td>\n",
       "      <td>0</td>\n",
       "      <td>0</td>\n",
       "      <td>0</td>\n",
       "      <td>0</td>\n",
       "      <td>4.0</td>\n",
       "      <td>0.0</td>\n",
       "      <td>1.0</td>\n",
       "      <td>2.0</td>\n",
       "    </tr>\n",
       "    <tr>\n",
       "      <th>4</th>\n",
       "      <td>3.0</td>\n",
       "      <td>0.0</td>\n",
       "      <td>4.0</td>\n",
       "      <td>0.0</td>\n",
       "      <td>4.0</td>\n",
       "      <td>2.0</td>\n",
       "      <td>3.0</td>\n",
       "      <td>3.0</td>\n",
       "      <td>3.0</td>\n",
       "      <td>4.0</td>\n",
       "      <td>...</td>\n",
       "      <td>0</td>\n",
       "      <td>0</td>\n",
       "      <td>1</td>\n",
       "      <td>0</td>\n",
       "      <td>0</td>\n",
       "      <td>0</td>\n",
       "      <td>4.0</td>\n",
       "      <td>0.0</td>\n",
       "      <td>4.0</td>\n",
       "      <td>3.0</td>\n",
       "    </tr>\n",
       "    <tr>\n",
       "      <th>5</th>\n",
       "      <td>5.0</td>\n",
       "      <td>0.0</td>\n",
       "      <td>1.0</td>\n",
       "      <td>0.0</td>\n",
       "      <td>2.0</td>\n",
       "      <td>6.0</td>\n",
       "      <td>2.0</td>\n",
       "      <td>1.0</td>\n",
       "      <td>5.0</td>\n",
       "      <td>5.0</td>\n",
       "      <td>...</td>\n",
       "      <td>0</td>\n",
       "      <td>0</td>\n",
       "      <td>0</td>\n",
       "      <td>0</td>\n",
       "      <td>1</td>\n",
       "      <td>0</td>\n",
       "      <td>2.0</td>\n",
       "      <td>0.0</td>\n",
       "      <td>5.0</td>\n",
       "      <td>4.0</td>\n",
       "    </tr>\n",
       "  </tbody>\n",
       "</table>\n",
       "<p>5 rows × 301 columns</p>\n",
       "</div>"
      ],
      "text/plain": [
       "   ANZ_HAUSHALTE_AKTIV  ANZ_HH_TITEL  ANZ_PERSONEN  ANZ_TITEL  ARBEIT  \\\n",
       "1                 11.0           0.0           2.0        0.0     3.0   \n",
       "2                 10.0           0.0           1.0        0.0     3.0   \n",
       "3                  1.0           0.0           0.0        0.0     2.0   \n",
       "4                  3.0           0.0           4.0        0.0     4.0   \n",
       "5                  5.0           0.0           1.0        0.0     2.0   \n",
       "\n",
       "   BALLRAUM  CJT_TYP_1  CJT_TYP_2  CJT_TYP_3  CJT_TYP_4  \\\n",
       "1       6.0        5.0        5.0        2.0        3.0   \n",
       "2       2.0        4.0        4.0        1.0        3.0   \n",
       "3       4.0        2.0        2.0        4.0        4.0   \n",
       "4       2.0        3.0        3.0        3.0        4.0   \n",
       "5       6.0        2.0        1.0        5.0        5.0   \n",
       "\n",
       "              ...              CAMEO_DEUG_2015_4  CAMEO_DEUG_2015_5  \\\n",
       "1             ...                              0                  0   \n",
       "2             ...                              1                  0   \n",
       "3             ...                              0                  0   \n",
       "4             ...                              0                  0   \n",
       "5             ...                              0                  0   \n",
       "\n",
       "   CAMEO_DEUG_2015_6  CAMEO_DEUG_2015_7  CAMEO_DEUG_2015_8  CAMEO_DEUG_2015_9  \\\n",
       "1                  0                  0                  1                  0   \n",
       "2                  0                  0                  0                  0   \n",
       "3                  0                  0                  0                  0   \n",
       "4                  1                  0                  0                  0   \n",
       "5                  0                  0                  1                  0   \n",
       "\n",
       "   DECADE  MOVEMENT  CAMEO_INTL_2015_WEALTH  CAMEO_INTL_2015_LIFE_STAGE  \n",
       "1     6.0       0.0                     5.0                         1.0  \n",
       "2     6.0       1.0                     2.0                         4.0  \n",
       "3     4.0       0.0                     1.0                         2.0  \n",
       "4     4.0       0.0                     4.0                         3.0  \n",
       "5     2.0       0.0                     5.0                         4.0  \n",
       "\n",
       "[5 rows x 301 columns]"
      ]
     },
     "execution_count": 20,
     "metadata": {},
     "output_type": "execute_result"
    }
   ],
   "source": [
    "azdias_clean.head()"
   ]
  },
  {
   "cell_type": "code",
   "execution_count": 21,
   "metadata": {},
   "outputs": [],
   "source": [
    "# Apply Imputer and StandardScaler to be able to use PCA analysis later\n",
    "\n",
    "imputer = Imputer(strategy='most_frequent')\n",
    "azdias_imputed = imputer.fit_transform(azdias_clean)\n",
    "\n",
    "scaler = StandardScaler()\n",
    "azdias_scaled = scaler.fit_transform(azdias_imputed)\n"
   ]
  },
  {
   "cell_type": "code",
   "execution_count": 22,
   "metadata": {},
   "outputs": [],
   "source": [
    "# Apply PCA to the data.\n",
    "pca = PCA()\n",
    "azdias_pca = pca.fit_transform(azdias_scaled)"
   ]
  },
  {
   "cell_type": "code",
   "execution_count": 23,
   "metadata": {},
   "outputs": [],
   "source": [
    "# From Term 1\n",
    "def scree_plot(pca):\n",
    "    '''\n",
    "    Creates a scree plot associated with the principal components \n",
    "    \n",
    "    INPUT: pca - the result of instantian of PCA in scikit learn\n",
    "            \n",
    "    OUTPUT:\n",
    "            None\n",
    "    '''\n",
    "    num_components = len(pca.explained_variance_ratio_)\n",
    "    ind = np.arange(num_components)\n",
    "    vals = pca.explained_variance_ratio_\n",
    " \n",
    "    plt.figure(figsize=(20, 8))\n",
    "    ax = plt.subplot(111)\n",
    "    cumvals = np.cumsum(vals)\n",
    "    ax.bar(ind, vals)\n",
    "    ax.plot(ind, cumvals)\n",
    "    for i in range(num_components):\n",
    "        ax.annotate(r\"%s\" % ((str(vals[i]*100)[:3])), (ind[i], vals[i]), va=\"bottom\", ha=\"center\", fontsize=8)\n",
    " \n",
    "    \n",
    "    ax.xaxis.set_tick_params(width=0)\n",
    "    ax.yaxis.set_tick_params(width=2, length=12)\n",
    " \n",
    "    ax.set_xlabel(\"Principal Component\")\n",
    "    ax.set_ylabel(\"Variance Explained (%)\")\n",
    "    plt.title('Explained Variance Per Principal Component')"
   ]
  },
  {
   "cell_type": "code",
   "execution_count": 24,
   "metadata": {},
   "outputs": [
    {
     "data": {
      "image/png": "[encoded data removed]",
      "text/plain": [
       "<matplotlib.figure.Figure at 0x7f71b5277f98>"
      ]
     },
     "metadata": {
      "needs_background": "light"
     },
     "output_type": "display_data"
    }
   ],
   "source": [
    "# Investigate the variance accounted for by each principal component.\n",
    "scree_plot(pca)"
   ]
  },
  {
   "cell_type": "code",
   "execution_count": 25,
   "metadata": {},
   "outputs": [
    {
     "name": "stdout",
     "output_type": "stream",
     "text": [
      "0.86 0.96 0.9 0.84\n"
     ]
    }
   ],
   "source": [
    "# Find the percentage of data explained by number of principal components\n",
    "first_120 = round(pca.explained_variance_ratio_[:120].sum(),2)\n",
    "first_150 = round(pca.explained_variance_ratio_[:150].sum(),2)\n",
    "first_200 = round(pca.explained_variance_ratio_[:200].sum(),2)\n",
    "first_131 = round(pca.explained_variance_ratio_[:131].sum(),2)\n",
    "print(first_131, first_200, first_150, first_120)"
   ]
  },
  {
   "cell_type": "code",
   "execution_count": 27,
   "metadata": {},
   "outputs": [],
   "source": [
    "# Apply PCA to the data.\n",
    "pca = PCA(131)\n",
    "azdias_pca = pca.fit_transform(azdias_scaled)"
   ]
  },
  {
   "cell_type": "code",
   "execution_count": 28,
   "metadata": {},
   "outputs": [],
   "source": [
    "def pca_results(full_dataset, pca):\n",
    "    '''\n",
    "    Create a DataFrame of the PCA results\n",
    "    Includes dimension feature weights and explained variance\n",
    "    Visualizes the PCA results\n",
    "    '''\n",
    "\n",
    "    # Dimension indexing\n",
    "    dimensions = ['Dimension {}'.format(i) for i in range(1,len(pca.components_)+1)]\n",
    "\n",
    "    # PCA components\n",
    "    components = pd.DataFrame(np.round(pca.components_, 4), columns = full_dataset.columns)\n",
    "    components.index = dimensions\n",
    "    \n",
    "    # PCA explained variance\n",
    "    ratios = pca.explained_variance_ratio_.reshape(len(pca.components_), 1)\n",
    "    variance_ratios = pd.DataFrame(np.round(ratios, 4), columns = ['Explained Variance'])\n",
    "    variance_ratios.index = dimensions\n",
    "    \n",
    "    # Return a concatenated DataFrame\n",
    "    return pd.concat([variance_ratios, components], axis = 1)\n",
    "\n",
    "    \n",
    "\n",
    "def plot_dim(pca_results, pca, dim):\n",
    "    # Create a bar plot visualization\n",
    "    fig, ax = plt.subplots(figsize = (14,8))\n",
    "    \n",
    "    # Plot the feature weights as a function of the components\n",
    "    dim_name = 'Dimension ' + str(dim)\n",
    "    dim_ratio = round(pca_results(azdias_clean, pca).loc[dim_name][0]*100,2)\n",
    "    \n",
    "    components = pca_results(azdias_clean, pca).loc[dim_name][1:].sort_values(ascending=False)\n",
    "    components_ = pd.concat([components.head(6), components.tail(6)])\n",
    "    components_.plot(ax = ax, kind = 'bar');\n",
    "    ax.set_ylabel(\"Feature Weights\")\n",
    "    plt.suptitle(\"{}: {}% Variance Explained\".format(dim_name, dim_ratio), fontsize=18)\n",
    "\n",
    "\n",
    "    plt.show()"
   ]
  },
  {
   "cell_type": "code",
   "execution_count": 29,
   "metadata": {},
   "outputs": [
    {
     "data": {
      "image/png": "[encoded data removed]",
      "text/plain": [
       "<matplotlib.figure.Figure at 0x7f71b4bf9668>"
      ]
     },
     "metadata": {
      "needs_background": "light"
     },
     "output_type": "display_data"
    },
    {
     "data": {
      "text/html": [
       "<div>\n",
       "<style scoped>\n",
       "    .dataframe tbody tr th:only-of-type {\n",
       "        vertical-align: middle;\n",
       "    }\n",
       "\n",
       "    .dataframe tbody tr th {\n",
       "        vertical-align: top;\n",
       "    }\n",
       "\n",
       "    .dataframe thead th {\n",
       "        text-align: right;\n",
       "    }\n",
       "</style>\n",
       "<table border=\"1\" class=\"dataframe\">\n",
       "  <thead>\n",
       "    <tr style=\"text-align: right;\">\n",
       "      <th></th>\n",
       "      <th>Explained Variance</th>\n",
       "      <th>ANZ_HAUSHALTE_AKTIV</th>\n",
       "      <th>ANZ_HH_TITEL</th>\n",
       "      <th>ANZ_PERSONEN</th>\n",
       "      <th>ANZ_TITEL</th>\n",
       "      <th>ARBEIT</th>\n",
       "      <th>BALLRAUM</th>\n",
       "      <th>CJT_TYP_1</th>\n",
       "      <th>CJT_TYP_2</th>\n",
       "      <th>CJT_TYP_3</th>\n",
       "      <th>...</th>\n",
       "      <th>CAMEO_DEUG_2015_4</th>\n",
       "      <th>CAMEO_DEUG_2015_5</th>\n",
       "      <th>CAMEO_DEUG_2015_6</th>\n",
       "      <th>CAMEO_DEUG_2015_7</th>\n",
       "      <th>CAMEO_DEUG_2015_8</th>\n",
       "      <th>CAMEO_DEUG_2015_9</th>\n",
       "      <th>DECADE</th>\n",
       "      <th>MOVEMENT</th>\n",
       "      <th>CAMEO_INTL_2015_WEALTH</th>\n",
       "      <th>CAMEO_INTL_2015_LIFE_STAGE</th>\n",
       "    </tr>\n",
       "  </thead>\n",
       "  <tbody>\n",
       "    <tr>\n",
       "      <th>Dimension 1</th>\n",
       "      <td>0.0747</td>\n",
       "      <td>0.0801</td>\n",
       "      <td>0.0119</td>\n",
       "      <td>-0.0649</td>\n",
       "      <td>-0.0064</td>\n",
       "      <td>0.1112</td>\n",
       "      <td>-0.0535</td>\n",
       "      <td>0.0611</td>\n",
       "      <td>0.0817</td>\n",
       "      <td>-0.0710</td>\n",
       "      <td>...</td>\n",
       "      <td>-0.0534</td>\n",
       "      <td>-0.0179</td>\n",
       "      <td>0.0025</td>\n",
       "      <td>0.0224</td>\n",
       "      <td>0.0736</td>\n",
       "      <td>0.0938</td>\n",
       "      <td>0.0491</td>\n",
       "      <td>-0.0949</td>\n",
       "      <td>0.1486</td>\n",
       "      <td>-0.0846</td>\n",
       "    </tr>\n",
       "    <tr>\n",
       "      <th>Dimension 2</th>\n",
       "      <td>0.0548</td>\n",
       "      <td>0.0468</td>\n",
       "      <td>0.0309</td>\n",
       "      <td>-0.0319</td>\n",
       "      <td>0.0093</td>\n",
       "      <td>-0.0063</td>\n",
       "      <td>-0.1098</td>\n",
       "      <td>0.0527</td>\n",
       "      <td>0.0710</td>\n",
       "      <td>-0.0693</td>\n",
       "      <td>...</td>\n",
       "      <td>-0.0322</td>\n",
       "      <td>0.0220</td>\n",
       "      <td>-0.0112</td>\n",
       "      <td>0.0118</td>\n",
       "      <td>0.0128</td>\n",
       "      <td>0.0224</td>\n",
       "      <td>0.0417</td>\n",
       "      <td>0.0461</td>\n",
       "      <td>0.0217</td>\n",
       "      <td>-0.0313</td>\n",
       "    </tr>\n",
       "    <tr>\n",
       "      <th>Dimension 3</th>\n",
       "      <td>0.0460</td>\n",
       "      <td>0.0319</td>\n",
       "      <td>0.0220</td>\n",
       "      <td>-0.0638</td>\n",
       "      <td>0.0076</td>\n",
       "      <td>0.0437</td>\n",
       "      <td>-0.0296</td>\n",
       "      <td>-0.2048</td>\n",
       "      <td>-0.2002</td>\n",
       "      <td>0.1697</td>\n",
       "      <td>...</td>\n",
       "      <td>-0.0295</td>\n",
       "      <td>-0.0029</td>\n",
       "      <td>0.0121</td>\n",
       "      <td>0.0053</td>\n",
       "      <td>0.0269</td>\n",
       "      <td>0.0058</td>\n",
       "      <td>-0.2128</td>\n",
       "      <td>0.0098</td>\n",
       "      <td>0.0342</td>\n",
       "      <td>0.0230</td>\n",
       "    </tr>\n",
       "    <tr>\n",
       "      <th>Dimension 4</th>\n",
       "      <td>0.0278</td>\n",
       "      <td>0.0051</td>\n",
       "      <td>0.0152</td>\n",
       "      <td>0.0986</td>\n",
       "      <td>0.0124</td>\n",
       "      <td>0.1297</td>\n",
       "      <td>-0.0301</td>\n",
       "      <td>0.0009</td>\n",
       "      <td>0.0048</td>\n",
       "      <td>-0.0185</td>\n",
       "      <td>...</td>\n",
       "      <td>-0.0364</td>\n",
       "      <td>-0.0000</td>\n",
       "      <td>0.0078</td>\n",
       "      <td>-0.0039</td>\n",
       "      <td>0.0162</td>\n",
       "      <td>-0.0268</td>\n",
       "      <td>0.0081</td>\n",
       "      <td>0.0959</td>\n",
       "      <td>-0.0148</td>\n",
       "      <td>0.0569</td>\n",
       "    </tr>\n",
       "    <tr>\n",
       "      <th>Dimension 5</th>\n",
       "      <td>0.0242</td>\n",
       "      <td>-0.0034</td>\n",
       "      <td>-0.0021</td>\n",
       "      <td>0.1346</td>\n",
       "      <td>0.0078</td>\n",
       "      <td>0.0041</td>\n",
       "      <td>-0.0918</td>\n",
       "      <td>-0.0509</td>\n",
       "      <td>-0.0375</td>\n",
       "      <td>0.0223</td>\n",
       "      <td>...</td>\n",
       "      <td>-0.0043</td>\n",
       "      <td>-0.0042</td>\n",
       "      <td>-0.0142</td>\n",
       "      <td>-0.0034</td>\n",
       "      <td>0.0088</td>\n",
       "      <td>0.0273</td>\n",
       "      <td>-0.0441</td>\n",
       "      <td>0.0759</td>\n",
       "      <td>0.0154</td>\n",
       "      <td>-0.0317</td>\n",
       "    </tr>\n",
       "  </tbody>\n",
       "</table>\n",
       "<p>5 rows × 302 columns</p>\n",
       "</div>"
      ],
      "text/plain": [
       "             Explained Variance  ANZ_HAUSHALTE_AKTIV  ANZ_HH_TITEL  \\\n",
       "Dimension 1              0.0747               0.0801        0.0119   \n",
       "Dimension 2              0.0548               0.0468        0.0309   \n",
       "Dimension 3              0.0460               0.0319        0.0220   \n",
       "Dimension 4              0.0278               0.0051        0.0152   \n",
       "Dimension 5              0.0242              -0.0034       -0.0021   \n",
       "\n",
       "             ANZ_PERSONEN  ANZ_TITEL  ARBEIT  BALLRAUM  CJT_TYP_1  CJT_TYP_2  \\\n",
       "Dimension 1       -0.0649    -0.0064  0.1112   -0.0535     0.0611     0.0817   \n",
       "Dimension 2       -0.0319     0.0093 -0.0063   -0.1098     0.0527     0.0710   \n",
       "Dimension 3       -0.0638     0.0076  0.0437   -0.0296    -0.2048    -0.2002   \n",
       "Dimension 4        0.0986     0.0124  0.1297   -0.0301     0.0009     0.0048   \n",
       "Dimension 5        0.1346     0.0078  0.0041   -0.0918    -0.0509    -0.0375   \n",
       "\n",
       "             CJT_TYP_3             ...              CAMEO_DEUG_2015_4  \\\n",
       "Dimension 1    -0.0710             ...                        -0.0534   \n",
       "Dimension 2    -0.0693             ...                        -0.0322   \n",
       "Dimension 3     0.1697             ...                        -0.0295   \n",
       "Dimension 4    -0.0185             ...                        -0.0364   \n",
       "Dimension 5     0.0223             ...                        -0.0043   \n",
       "\n",
       "             CAMEO_DEUG_2015_5  CAMEO_DEUG_2015_6  CAMEO_DEUG_2015_7  \\\n",
       "Dimension 1            -0.0179             0.0025             0.0224   \n",
       "Dimension 2             0.0220            -0.0112             0.0118   \n",
       "Dimension 3            -0.0029             0.0121             0.0053   \n",
       "Dimension 4            -0.0000             0.0078            -0.0039   \n",
       "Dimension 5            -0.0042            -0.0142            -0.0034   \n",
       "\n",
       "             CAMEO_DEUG_2015_8  CAMEO_DEUG_2015_9  DECADE  MOVEMENT  \\\n",
       "Dimension 1             0.0736             0.0938  0.0491   -0.0949   \n",
       "Dimension 2             0.0128             0.0224  0.0417    0.0461   \n",
       "Dimension 3             0.0269             0.0058 -0.2128    0.0098   \n",
       "Dimension 4             0.0162            -0.0268  0.0081    0.0959   \n",
       "Dimension 5             0.0088             0.0273 -0.0441    0.0759   \n",
       "\n",
       "             CAMEO_INTL_2015_WEALTH  CAMEO_INTL_2015_LIFE_STAGE  \n",
       "Dimension 1                  0.1486                     -0.0846  \n",
       "Dimension 2                  0.0217                     -0.0313  \n",
       "Dimension 3                  0.0342                      0.0230  \n",
       "Dimension 4                 -0.0148                      0.0569  \n",
       "Dimension 5                  0.0154                     -0.0317  \n",
       "\n",
       "[5 rows x 302 columns]"
      ]
     },
     "execution_count": 29,
     "metadata": {},
     "output_type": "execute_result"
    }
   ],
   "source": [
    "# Map weights for the first principal component to corresponding feature names\n",
    "# and then print the linked values, sorted by weight.\n",
    "# HINT: Try defining a function here or in a new cell that you can reuse in the\n",
    "# other cells.\n",
    "plot_dim(pca_results, pca, 1)\n",
    "pca_results(azdias_clean, pca).head()"
   ]
  },
  {
   "cell_type": "markdown",
   "metadata": {},
   "source": [
    "## Dimension 1:\n",
    "\n",
    "### Positive\n",
    "\n",
    "\n",
    " HH_EINKOMMEN_SCORE - is net income score (1 - is highest, and 6-lowest)\n",
    " \n",
    " \n",
    " LP_STATUS_GROB -social status rough (1 - low-income, 7-8 - houseowners, 10 - top-earners)\n",
    " \n",
    " \n",
    " PLZ8_ANTG - share of family houses with levels of houses ANTG1 - ANTG4 (1-2, 3-5, 6-10, >10)\n",
    "\n",
    "### Negative\n",
    "\n",
    " PLZ8_ANTG1 - 1-2 family houses ( from None to very high share)\n",
    " \n",
    " MOBI_REGIO - moving patterns\n",
    " \n",
    " FINANZ_MINIMALIST - low financial interest (Gfk-Typology based on a representative household panel combined via a statistical modell with AZ DIAS data). Levels: 1 - is high, 5- very low \n",
    " \n",
    "\n",
    "\n",
    "**Dimension 1 is about net income and a place of living.**"
   ]
  },
  {
   "cell_type": "code",
   "execution_count": 30,
   "metadata": {},
   "outputs": [
    {
     "data": {
      "image/png": "[encoded data removed]",
      "text/plain": [
       "<matplotlib.figure.Figure at 0x7f71b4b81208>"
      ]
     },
     "metadata": {
      "needs_background": "light"
     },
     "output_type": "display_data"
    }
   ],
   "source": [
    "plot_dim(pca_results, pca, 2)"
   ]
  },
  {
   "cell_type": "markdown",
   "metadata": {},
   "source": [
    "## Dimension 2:\n",
    "\n",
    "### Positive\n",
    "\n",
    "\n",
    "People who own German-made cars\n",
    "\n",
    "### Negative \n",
    "\n",
    "The number of cars with 5 seats own by people under 21 y.o. or older than 50 y.o.**\n",
    "\n",
    "\n",
    "**Dimension 2 is about car owners and their prefereces**"
   ]
  },
  {
   "cell_type": "code",
   "execution_count": 31,
   "metadata": {},
   "outputs": [
    {
     "data": {
      "image/png": "[encoded data removed]",
      "text/plain": [
       "<matplotlib.figure.Figure at 0x7f71b4af9588>"
      ]
     },
     "metadata": {
      "needs_background": "light"
     },
     "output_type": "display_data"
    }
   ],
   "source": [
    "plot_dim(pca_results, pca, 3)"
   ]
  },
  {
   "cell_type": "markdown",
   "metadata": {},
   "source": [
    "## Dimension 3:\n",
    "\n",
    "\n",
    "### Positive\n",
    "\n",
    "ALTERSKATEGORIE_GROB - age classification through prename analysis  (from 1 - <30 years to 4 - >60 years)\n",
    "\n",
    "FINANZ_VORSORGER - Be Prepared (Gfk-Typology based on a representative household panel combined via a statistical modell with AZ DIAS data). Levels: 1 - is high, 5- very low \n",
    "\n",
    "CJT_TYP_4 - CJT_TYP_6 - customer journey typology ( 4: advertising interested Online-shopper, 5: Advertising- and Cross-Channel-Enthusiast, 6: Advertising-Enthusiast with restricted Cross-Channel-Behavior) \n",
    "\n",
    "ZABEOTYP_3 - fair supplied, typification of energy consumers\n",
    "\n",
    "\n",
    "### Negative\n",
    "\n",
    "DECADE is a part of dominating movement in the person's youth (avantgarde or mainstream) and about years of persons youth. Starting from 40ies to 90ies.\n",
    "\n",
    "CJT_TYP_1 and CJT_TYP_2 - customer journey typology (1: Advertising- and Consumption minimalist, 2: Advertising- and Consumption traditionalist\n",
    "\n",
    "SEMIO_PFLICHT - affinity indicating in what way the person is dutyfull traditional minded ( from 1 - highest affinity to 7- lowest affinity)\n",
    "\n",
    "\n",
    "FINANZ_SPARER - Money saver (Gfk-Typology based on a representative household panel combined via a statistical modell with AZ DIAS data). Levels: 1 - is high, 5- very low \n",
    "\n",
    "FINANZ_ANLEGER - Investor (Gfk-Typology based on a representative household panel combined via a statistical modell with AZ DIAS data). Levels: 1 - is high, 5- very low \n",
    "\n",
    "\n",
    "**Dimension 3 is more about financial type of person - people who are ready to spend vs. people traditionally minded, money savors.**\n"
   ]
  },
  {
   "cell_type": "code",
   "execution_count": 32,
   "metadata": {},
   "outputs": [
    {
     "data": {
      "image/png": "[encoded data removed]",
      "text/plain": [
       "<matplotlib.figure.Figure at 0x7f71b4a7e240>"
      ]
     },
     "metadata": {
      "needs_background": "light"
     },
     "output_type": "display_data"
    }
   ],
   "source": [
    "plot_dim(pca_results, pca, 4)"
   ]
  },
  {
   "cell_type": "markdown",
   "metadata": {},
   "source": [
    "## Dimension 4:\n",
    "\n",
    "### Positive\n",
    "\n",
    " ONLINE_AFFINITAET - online affinity (from low to highest)\n",
    " \n",
    " KBA13_VORB_0 - share of cars with no preowner - PLZ8, KBA5_VORB_0 - share of cars with no preowner. Levels: 1-low to 5 - very high\n",
    " \n",
    " KBA13_HERST_SONST -  share of other cars within the PLZ8. Levels: 1-low to 5 - very high\n",
    " \n",
    " KBA13_FAB_SONSTIGE  - share of other Manufacturers within the PLZ8. Levels: 1-low to 5 - very high\n",
    " \n",
    " \n",
    " ### Negative\n",
    " \n",
    " OST_WEST_KZ - flag indicating the former GDR/FRG (OST: 0, WEST: 1)\n",
    " \n",
    " D19_GESAMT_DATUM - actuality of the last transaction with the complete file TOTAL (1- highest activity within the last 12 months, 10 - elder than 3 years)\n",
    " \n",
    " D19_GESAMT_ONLINE_DATUM - actuality of the last transaction with the complete file ONLINE (1- highest activity within the last 12 months, 10 - elder than 3 years)\n",
    " \n",
    " D19_VERSAND_DATUM - actuality of the last transaction for the segment mail-order TOTAL (1- highest activity within the last 12 months, 10 - elder than 3 years)\n",
    " \n",
    " KBA13_SITZE_6 - number of cars with more than 5 seats in the PLZ8 (from none to very high)\n",
    " \n",
    " D19_KONSUMTYP - consumption type (6 - inactive)\n",
    " \n",
    "**Dimension 4 is about person online active with preferences of buying new cars from not major car producers (may be the cost less), opposite is a person with very low financial activity. I'm not sure what kind of role plays WEST-OST flag.**"
   ]
  },
  {
   "cell_type": "code",
   "execution_count": 33,
   "metadata": {},
   "outputs": [],
   "source": [
    "def get_kmeans_score(data, center):\n",
    "    '''\n",
    "    returns the kmeans score regarding SSE for points to centers\n",
    "    INPUT:\n",
    "        data - the dataset you want to fit kmeans to\n",
    "        center - the number of centers you want (the k value)\n",
    "    OUTPUT:\n",
    "        score - the SSE score for the kmeans model fit to the data\n",
    "    '''\n",
    "    #instantiate kmeans\n",
    "    kmeans = KMeans(n_clusters=center)\n",
    "\n",
    "    # Then fit the model to your data using the fit method\n",
    "    model = kmeans.fit(data)\n",
    "    \n",
    "    # Obtain a score related to the model fit\n",
    "    score = np.abs(model.score(data))\n",
    "    \n",
    "    return score"
   ]
  },
  {
   "cell_type": "code",
   "execution_count": 34,
   "metadata": {},
   "outputs": [],
   "source": [
    "azdias_pca_sample = azdias_pca[np.random.choice(azdias_pca.shape[0], int(azdias_pca.shape[0]/4), replace=False)]"
   ]
  },
  {
   "cell_type": "code",
   "execution_count": 35,
   "metadata": {},
   "outputs": [
    {
     "name": "stdout",
     "output_type": "stream",
     "text": [
      "Time: 26.75 mins\n"
     ]
    }
   ],
   "source": [
    "# Over a number of different cluster counts...\n",
    "start_time = time.time()\n",
    "scores = []\n",
    "centers = list(range(1,16))\n",
    "\n",
    "# run k-means clustering on the data and compute the average within-cluster distances.\n",
    "for center in centers:\n",
    "    scores.append(get_kmeans_score(azdias_pca_sample, center))    \n",
    "    \n",
    "print('Time: {} mins'.format(round((time.time() - start_time)/60,2)))    \n"
   ]
  },
  {
   "cell_type": "code",
   "execution_count": 36,
   "metadata": {},
   "outputs": [
    {
     "data": {
      "text/plain": [
       "Text(0.5,1,'SSE vs. K')"
      ]
     },
     "execution_count": 36,
     "metadata": {},
     "output_type": "execute_result"
    },
    {
     "data": {
      "image/png": "[encoded data removed]",
      "text/plain": [
       "<matplotlib.figure.Figure at 0x7f71b4ae1940>"
      ]
     },
     "metadata": {
      "needs_background": "light"
     },
     "output_type": "display_data"
    }
   ],
   "source": [
    "plt.plot(centers, scores, linestyle='--', marker='o', color='b')\n",
    "plt.xlabel('K')\n",
    "plt.ylabel('SSE')\n",
    "plt.title('SSE vs. K')"
   ]
  },
  {
   "cell_type": "markdown",
   "metadata": {},
   "source": [
    "**Using 'elbow-method' we can safely assume that K should be between 4 and 6, after 6 distance between clusters is smaller. I decided to use K=5.**\n"
   ]
  },
  {
   "cell_type": "code",
   "execution_count": 37,
   "metadata": {},
   "outputs": [],
   "source": [
    "# Re-fit the k-means model with the selected number of clusters and obtain\n",
    "# cluster predictions for the general population demographics data.\n",
    "kmeans_5 = KMeans(n_clusters=5, random_state = 42)\n",
    "model_predict = kmeans_5.fit_predict(azdias_pca)"
   ]
  },
  {
   "cell_type": "code",
   "execution_count": 38,
   "metadata": {},
   "outputs": [],
   "source": [
    "# Read customers data and drop columns 'CUSTOMER_GROUP', 'ONLINE_PURCHASE', 'PRODUCT_GROUP' \n",
    "# which don't exist in general population data\n",
    "customers = pd.read_csv('../../data/Term2/capstone/arvato_data/Udacity_CUSTOMERS_052018.csv', sep=';', low_memory=False)\n",
    "customers.drop(['CUSTOMER_GROUP', 'ONLINE_PURCHASE', 'PRODUCT_GROUP'], axis=1, inplace=True)"
   ]
  },
  {
   "cell_type": "code",
   "execution_count": 41,
   "metadata": {},
   "outputs": [],
   "source": [
    "# Clean customers data\n",
    "customers_clean =clean_data(customers)"
   ]
  },
  {
   "cell_type": "code",
   "execution_count": 42,
   "metadata": {},
   "outputs": [
    {
     "name": "stdout",
     "output_type": "stream",
     "text": [
      "0.72\n"
     ]
    }
   ],
   "source": [
    "# Percentage of customers data to keep\n",
    "list(set(azdias_clean.columns) - set(customers_clean))\n",
    "customers_clean.shape\n",
    "print(round(customers_clean.shape[0]/customers.shape[0],2))\n"
   ]
  },
  {
   "cell_type": "code",
   "execution_count": 43,
   "metadata": {},
   "outputs": [],
   "source": [
    "# Perfom the same steps for PCA as we did for azdias\n",
    "\n",
    "customers_imputed = imputer.fit_transform(customers_clean)\n",
    "\n",
    "customers_scaled = scaler.fit_transform(customers_imputed)\n",
    "\n",
    "customers_pca = pca.fit_transform(customers_scaled)"
   ]
  },
  {
   "cell_type": "code",
   "execution_count": 44,
   "metadata": {},
   "outputs": [],
   "source": [
    "# Compare the proportion of data in each cluster for the customer data to the\n",
    "# proportion of data in each cluster for the general population.\n",
    "customers_predict = kmeans_5.fit_predict(customers_pca)\n",
    "\n"
   ]
  },
  {
   "cell_type": "code",
   "execution_count": 45,
   "metadata": {},
   "outputs": [
    {
     "name": "stdout",
     "output_type": "stream",
     "text": [
      "0    204381\n",
      "1    166454\n",
      "2    103729\n",
      "3    190986\n",
      "4    106973\n",
      "dtype: int64\n",
      "0    20674\n",
      "1    31486\n",
      "2    40511\n",
      "3    18909\n",
      "4    27167\n",
      "dtype: int64\n",
      "118698\n"
     ]
    }
   ],
   "source": [
    "general_p = pd.Series(model_predict)\n",
    "customers_p = pd.Series(customers_predict)\n",
    "\n",
    "azdias_missing_p = azdias.shape[0] - azdias_clean.shape[0]\n",
    "customers_missing_p = customers.shape[0]- customers_clean.shape[0]\n",
    "\n",
    "general_clusters=general_p.value_counts().sort_index()\n",
    "customer_clusters = customers_p.value_counts().sort_index()\n",
    "print(general_clusters)\n",
    "print(customer_clusters)\n",
    "print(azdias_missing_p)"
   ]
  },
  {
   "cell_type": "code",
   "execution_count": 46,
   "metadata": {},
   "outputs": [
    {
     "data": {
      "text/html": [
       "<div>\n",
       "<style scoped>\n",
       "    .dataframe tbody tr th:only-of-type {\n",
       "        vertical-align: middle;\n",
       "    }\n",
       "\n",
       "    .dataframe tbody tr th {\n",
       "        vertical-align: top;\n",
       "    }\n",
       "\n",
       "    .dataframe thead th {\n",
       "        text-align: right;\n",
       "    }\n",
       "</style>\n",
       "<table border=\"1\" class=\"dataframe\">\n",
       "  <thead>\n",
       "    <tr style=\"text-align: right;\">\n",
       "      <th></th>\n",
       "      <th>cluster</th>\n",
       "      <th>general</th>\n",
       "      <th>customer</th>\n",
       "    </tr>\n",
       "  </thead>\n",
       "  <tbody>\n",
       "    <tr>\n",
       "      <th>0</th>\n",
       "      <td>-1</td>\n",
       "      <td>118698</td>\n",
       "      <td>52905</td>\n",
       "    </tr>\n",
       "    <tr>\n",
       "      <th>1</th>\n",
       "      <td>0</td>\n",
       "      <td>204381</td>\n",
       "      <td>20674</td>\n",
       "    </tr>\n",
       "    <tr>\n",
       "      <th>2</th>\n",
       "      <td>1</td>\n",
       "      <td>166454</td>\n",
       "      <td>31486</td>\n",
       "    </tr>\n",
       "    <tr>\n",
       "      <th>3</th>\n",
       "      <td>2</td>\n",
       "      <td>103729</td>\n",
       "      <td>40511</td>\n",
       "    </tr>\n",
       "    <tr>\n",
       "      <th>4</th>\n",
       "      <td>3</td>\n",
       "      <td>190986</td>\n",
       "      <td>18909</td>\n",
       "    </tr>\n",
       "    <tr>\n",
       "      <th>5</th>\n",
       "      <td>4</td>\n",
       "      <td>106973</td>\n",
       "      <td>27167</td>\n",
       "    </tr>\n",
       "  </tbody>\n",
       "</table>\n",
       "</div>"
      ],
      "text/plain": [
       "  cluster  general  customer\n",
       "0      -1   118698     52905\n",
       "1       0   204381     20674\n",
       "2       1   166454     31486\n",
       "3       2   103729     40511\n",
       "4       3   190986     18909\n",
       "5       4   106973     27167"
      ]
     },
     "execution_count": 46,
     "metadata": {},
     "output_type": "execute_result"
    }
   ],
   "source": [
    "# Adding row for cluster [-1] to represent data from high_null rows\n",
    "df = pd.concat([general_clusters, customer_clusters], axis=1).reset_index()\n",
    "df.columns = ['cluster', 'general', 'customer']\n",
    "df.loc[-1] = ['-1', azdias_missing_p, customers_missing_p]\n",
    "df.index = df.index+1\n",
    "df.sort_index(inplace=True)\n",
    "df\n"
   ]
  },
  {
   "cell_type": "code",
   "execution_count": 47,
   "metadata": {},
   "outputs": [
    {
     "data": {
      "image/png": "[encoded data removed]",
      "text/plain": [
       "<matplotlib.figure.Figure at 0x7f71f0c68860>"
      ]
     },
     "metadata": {
      "needs_background": "light"
     },
     "output_type": "display_data"
    }
   ],
   "source": [
    "# Compare clusters with general and customers data\n",
    "df['general %'] = round(df['general']/df['general'].sum()*100,2)\n",
    "df['customers %'] = round(df['customer']/df['customer'].sum()*100,2)\n",
    "\n",
    "\n",
    "df.plot(x='cluster', y = ['general %', 'customers %'], kind='bar', figsize=(9,6))\n",
    "plt.ylabel('% of persons in each cluster')\n",
    "plt.show()"
   ]
  },
  {
   "cell_type": "code",
   "execution_count": 48,
   "metadata": {},
   "outputs": [
    {
     "data": {
      "text/plain": [
       "4      1.441072\n",
       "1      0.834102\n",
       "5      0.191338\n",
       "11     0.165981\n",
       "26     0.141946\n",
       "17     0.135536\n",
       "18     0.109013\n",
       "51     0.103206\n",
       "25     0.098879\n",
       "12     0.074889\n",
       "36     0.061377\n",
       "67     0.050258\n",
       "39     0.049684\n",
       "40     0.045842\n",
       "55     0.045442\n",
       "42     0.043569\n",
       "79     0.042074\n",
       "33     0.039365\n",
       "30     0.038776\n",
       "58     0.037709\n",
       "88     0.032542\n",
       "90     0.032178\n",
       "63     0.028810\n",
       "66     0.026546\n",
       "75     0.025609\n",
       "120    0.025297\n",
       "99     0.024182\n",
       "69     0.024097\n",
       "97     0.021419\n",
       "103    0.021055\n",
       "         ...   \n",
       "82    -0.033113\n",
       "80    -0.033511\n",
       "74    -0.033756\n",
       "29    -0.035009\n",
       "27    -0.035466\n",
       "47    -0.038386\n",
       "109   -0.041475\n",
       "15    -0.041769\n",
       "113   -0.046607\n",
       "59    -0.046989\n",
       "111   -0.047453\n",
       "117   -0.057734\n",
       "37    -0.058182\n",
       "38    -0.060736\n",
       "43    -0.062501\n",
       "96    -0.067516\n",
       "21    -0.075940\n",
       "35    -0.095535\n",
       "14    -0.175392\n",
       "19    -0.179213\n",
       "23    -0.187016\n",
       "20    -0.188686\n",
       "13    -0.254480\n",
       "16    -0.290301\n",
       "8     -0.363096\n",
       "10    -0.396513\n",
       "9     -0.422439\n",
       "6     -0.471508\n",
       "2     -1.543204\n",
       "3     -1.576386\n",
       "Length: 131, dtype: float64"
      ]
     },
     "execution_count": 48,
     "metadata": {},
     "output_type": "execute_result"
    }
   ],
   "source": [
    "# Find corresponding pca dimension for cluster 2 with customers overpresented\n",
    "cl_2 = kmeans_5.cluster_centers_[2]\n",
    "cl_2 = pd.Series(cl_2)\n",
    "cl_2.index = cl_2.index+1\n",
    "cl_2.sort_values(ascending=False)"
   ]
  },
  {
   "cell_type": "code",
   "execution_count": 52,
   "metadata": {},
   "outputs": [
    {
     "data": {
      "text/plain": [
       "ANZ_HAUSHALTE_AKTIV    1.621721\n",
       "ANZ_HH_TITEL           0.024668\n",
       "ANZ_PERSONEN           2.388510\n",
       "ANZ_TITEL              0.024985\n",
       "ARBEIT                 2.908965\n",
       "dtype: float64"
      ]
     },
     "execution_count": 52,
     "metadata": {},
     "output_type": "execute_result"
    }
   ],
   "source": [
    "# What kinds of people are part of a cluster that is overrepresented in the\n",
    "# customer data compared to the general population?\n",
    "\n",
    "c_2_c = scaler.inverse_transform(pca.inverse_transform(cl_2))\n",
    "c_2_c = pd.Series(c_2_c)\n",
    "c_2_c.index = azdias_clean.columns\n",
    "c_2_c.head()"
   ]
  },
  {
   "cell_type": "code",
   "execution_count": 53,
   "metadata": {},
   "outputs": [
    {
     "data": {
      "image/png": "[encoded data removed]",
      "text/plain": [
       "<matplotlib.figure.Figure at 0x7f71b5049b00>"
      ]
     },
     "metadata": {
      "needs_background": "light"
     },
     "output_type": "display_data"
    }
   ],
   "source": [
    "plot_dim(pca_results, pca, 4)"
   ]
  },
  {
   "cell_type": "markdown",
   "metadata": {},
   "source": [
    "### Discussion\n",
    "\n",
    "Person is dreamily, cultural minded, familiar minded with opposite person is critical minded, eventful orientated, dominant minded"
   ]
  },
  {
   "cell_type": "code",
   "execution_count": 54,
   "metadata": {},
   "outputs": [
    {
     "data": {
      "text/plain": [
       "1      7.339935\n",
       "10     0.585951\n",
       "3      0.388223\n",
       "13     0.358112\n",
       "9      0.302368\n",
       "8      0.282566\n",
       "16     0.271365\n",
       "5      0.213532\n",
       "19     0.192763\n",
       "23     0.189277\n",
       "38     0.128504\n",
       "24     0.123842\n",
       "43     0.116032\n",
       "21     0.112056\n",
       "35     0.067271\n",
       "111    0.066206\n",
       "37     0.065485\n",
       "96     0.060246\n",
       "25     0.057883\n",
       "82     0.056408\n",
       "56     0.055107\n",
       "113    0.054596\n",
       "47     0.054169\n",
       "110    0.049765\n",
       "53     0.049618\n",
       "117    0.046587\n",
       "71     0.045883\n",
       "109    0.045390\n",
       "45     0.044450\n",
       "94     0.041886\n",
       "         ...   \n",
       "126   -0.027275\n",
       "101   -0.027823\n",
       "85    -0.027860\n",
       "61    -0.027977\n",
       "55    -0.030855\n",
       "99    -0.030995\n",
       "42    -0.035303\n",
       "78    -0.035447\n",
       "63    -0.037917\n",
       "27    -0.039264\n",
       "83    -0.041414\n",
       "52    -0.042820\n",
       "116   -0.044577\n",
       "84    -0.045155\n",
       "115   -0.053920\n",
       "48    -0.057830\n",
       "11    -0.058312\n",
       "39    -0.059724\n",
       "30    -0.065460\n",
       "44    -0.067273\n",
       "18    -0.067333\n",
       "51    -0.076351\n",
       "33    -0.094584\n",
       "36    -0.097300\n",
       "26    -0.165965\n",
       "17    -0.189806\n",
       "14    -0.203356\n",
       "2     -0.248328\n",
       "12    -0.284964\n",
       "4     -0.345816\n",
       "Length: 131, dtype: float64"
      ]
     },
     "execution_count": 54,
     "metadata": {},
     "output_type": "execute_result"
    }
   ],
   "source": [
    "# What kinds of people are part of a cluster that is underrepresented in the\n",
    "# customer data compared to the general population?\n",
    "\n",
    "cl_0 = kmeans_5.cluster_centers_[0]\n",
    "cl_0 = pd.Series(cl_0)\n",
    "cl_0.index = cl_0.index+1\n",
    "cl_0.sort_values(ascending=False) "
   ]
  },
  {
   "cell_type": "code",
   "execution_count": 55,
   "metadata": {},
   "outputs": [
    {
     "data": {
      "image/png": "[encoded data removed]",
      "text/plain": [
       "<matplotlib.figure.Figure at 0x7f71b47c3a20>"
      ]
     },
     "metadata": {
      "needs_background": "light"
     },
     "output_type": "display_data"
    }
   ],
   "source": [
    "plot_dim(pca_results, pca, 1)"
   ]
  },
  {
   "cell_type": "markdown",
   "metadata": {},
   "source": [
    "### Discussion\n",
    "\n",
    "Person who ownes upper middle class cars and upper class cars (BMW5er, BMW7er etc.), sports cars"
   ]
  },
  {
   "cell_type": "code",
   "execution_count": 56,
   "metadata": {},
   "outputs": [
    {
     "data": {
      "text/plain": [
       "3      5.458328\n",
       "5      0.647577\n",
       "17     0.332237\n",
       "19     0.322402\n",
       "34     0.186382\n",
       "33     0.181502\n",
       "18     0.162781\n",
       "32     0.156914\n",
       "12     0.155802\n",
       "10     0.153339\n",
       "27     0.132459\n",
       "46     0.117904\n",
       "7      0.100131\n",
       "44     0.096274\n",
       "38     0.087904\n",
       "31     0.078718\n",
       "47     0.074584\n",
       "29     0.073859\n",
       "40     0.072726\n",
       "70     0.071257\n",
       "50     0.068901\n",
       "37     0.066515\n",
       "49     0.064360\n",
       "43     0.063684\n",
       "42     0.055813\n",
       "51     0.054968\n",
       "58     0.049385\n",
       "117    0.048932\n",
       "97     0.047646\n",
       "82     0.046613\n",
       "         ...   \n",
       "118   -0.041594\n",
       "59    -0.042345\n",
       "56    -0.043528\n",
       "120   -0.044205\n",
       "23    -0.044383\n",
       "53    -0.045348\n",
       "79    -0.045585\n",
       "14    -0.057794\n",
       "76    -0.060004\n",
       "62    -0.060633\n",
       "26    -0.067781\n",
       "16    -0.068389\n",
       "66    -0.082674\n",
       "24    -0.085235\n",
       "92    -0.086739\n",
       "75    -0.090726\n",
       "110   -0.098226\n",
       "21    -0.107563\n",
       "22    -0.118748\n",
       "15    -0.126807\n",
       "9     -0.130829\n",
       "41    -0.151872\n",
       "20    -0.171751\n",
       "11    -0.206710\n",
       "45    -0.212221\n",
       "6     -0.408154\n",
       "13    -0.464448\n",
       "8     -0.849552\n",
       "2     -1.066433\n",
       "1     -1.785470\n",
       "Length: 131, dtype: float64"
      ]
     },
     "execution_count": 56,
     "metadata": {},
     "output_type": "execute_result"
    }
   ],
   "source": [
    "cl_3 = kmeans_5.cluster_centers_[3]\n",
    "cl_3 = pd.Series(cl_3)\n",
    "cl_3.index = cl_3.index+1\n",
    "cl_3.sort_values(ascending=False) "
   ]
  },
  {
   "cell_type": "code",
   "execution_count": 57,
   "metadata": {},
   "outputs": [
    {
     "data": {
      "image/png": "[encoded data removed]",
      "text/plain": [
       "<matplotlib.figure.Figure at 0x7f71b5049c88>"
      ]
     },
     "metadata": {
      "needs_background": "light"
     },
     "output_type": "display_data"
    }
   ],
   "source": [
    "plot_dim(pca_results, pca, 3)"
   ]
  },
  {
   "cell_type": "markdown",
   "metadata": {},
   "source": []
  },
  {
   "cell_type": "markdown",
   "metadata": {},
   "source": [
    "## Part 2: Supervised Learning Model\n",
    "\n",
    "Now that you've found which parts of the population are more likely to be customers of the mail-order company, it's time to build a prediction model. Each of the rows in the \"MAILOUT\" data files represents an individual that was targeted for a mailout campaign. Ideally, we should be able to use the demographic information from each individual to decide whether or not it will be worth it to include that person in the campaign.\n",
    "\n",
    "The \"MAILOUT\" data has been split into two approximately equal parts, each with almost 43 000 data rows. In this part, you can verify your model with the \"TRAIN\" partition, which includes a column, \"RESPONSE\", that states whether or not a person became a customer of the company following the campaign. In the next part, you'll need to create predictions on the \"TEST\" partition, where the \"RESPONSE\" column has been withheld."
   ]
  },
  {
   "cell_type": "code",
   "execution_count": 58,
   "metadata": {},
   "outputs": [],
   "source": [
    "mailout_train = pd.read_csv('../../data/Term2/capstone/arvato_data/Udacity_MAILOUT_052018_TRAIN.csv', sep=';', low_memory=False)"
   ]
  },
  {
   "cell_type": "code",
   "execution_count": 59,
   "metadata": {},
   "outputs": [
    {
     "name": "stdout",
     "output_type": "stream",
     "text": [
      "Success rate for a mail-out campaign is 1.24%\n"
     ]
    }
   ],
   "source": [
    "# Find percentage of success for a mail-out campaing \n",
    "n_yes = mailout_train[mailout_train['RESPONSE'] == 1].shape[0]\n",
    "n_no = mailout_train[mailout_train['RESPONSE'] == 0].shape[0]\n",
    "success_rate = round(n_yes/ mailout_train.shape[0] * 100, 2)\n",
    "print('Success rate for a mail-out campaign is {}%'.format(success_rate))\n"
   ]
  },
  {
   "cell_type": "code",
   "execution_count": 3,
   "metadata": {},
   "outputs": [],
   "source": [
    "feat_info_all = pd.read_csv('feature_all.csv', sep=',')\n",
    "\n",
    "def is_valid_decimal(s):\n",
    "    try:\n",
    "        int(s)\n",
    "    except ValueError:\n",
    "        return False\n",
    "    else:\n",
    "        return True\n",
    "    \n",
    "def convert_to_types(source):\n",
    "    return list(map(lambda x: int(x) if is_valid_decimal(x) else x, source[1:-1].split(',')))\n",
    "\n",
    "\n",
    "def add_decade(x):\n",
    "    if x in (1,2):\n",
    "        return 1\n",
    "    if x in (3,4):\n",
    "        return 2\n",
    "    if x in (5,6,7):\n",
    "        return 3\n",
    "    if x in (8,9):\n",
    "        return 4\n",
    "    if x in (10,11,12,13):\n",
    "        return 5\n",
    "    if x in (14,15):\n",
    "        return 6\n",
    "    \n",
    "# make a binary variable for movement, 0 - mainstream, 1- avantgarde\n",
    "def add_movement(x):\n",
    "    if x in (1,3,5,8,10,12,14):\n",
    "        return 0\n",
    "    if x in (2,4,6,7,9,11,13,15): \n",
    "        return 1\n",
    "    \n",
    "    \n",
    "def add_wealth(x):\n",
    "    if pd.isnull(x):\n",
    "        return x\n",
    "    else:\n",
    "        return int(str(x)[0])\n",
    "\n",
    "def add_life_stage(x):\n",
    "    if pd.isnull(x):\n",
    "        return x\n",
    "    else:\n",
    "        return int(str(x)[1])\n",
    "    "
   ]
  },
  {
   "cell_type": "code",
   "execution_count": 100,
   "metadata": {},
   "outputs": [],
   "source": [
    "def clean_data_kaggle(df):\n",
    "    \"\"\"\n",
    "    Perform feature trimming, re-encoding, and engineering for demographics\n",
    "    data\n",
    "    \n",
    "    INPUT: Demographics DataFrame\n",
    "    OUTPUT: Trimmed and cleaned demographics DataFrame\n",
    "    \"\"\"\n",
    "    #feat_info_all.set_index('attribute', inplace=True)\n",
    "    # Put in code here to execute all main cleaning steps:\n",
    "    # convert missing value codes into NaNs, ...\n",
    "    \n",
    "    for column in df.columns:\n",
    "        if column in feat_info_all.index:\n",
    "            df[column] = df[column].replace(convert_to_types(feat_info_all.loc[column].missing_or_unknown), np.nan)\n",
    "        elif df[column].dtype == np.int64:\n",
    "            df[column]= df[column].astype(np.float64)\n",
    "        else:\n",
    "            continue  \n",
    "        \n",
    "    to_drop_no_info_columns = ['MOBI_RASTER', 'EINGEZOGENAM_HH_JAHR', 'EXTSEL992', 'STRUKTURTYP', 'UMFELD_ALT',\n",
    "                               'D19_KONSUMTYP_MAX', 'ANZ_STATISTISCHE_HAUSHALTE', 'ALTER_KIND3', 'GEMEINDETYP',\n",
    "                               'VHA', 'KBA13_GBZ', 'FIRMENDICHTE', 'RT_SCHNAEPPCHEN', 'D19_VERSI_ONLINE_QUOTE_12',\n",
    "                               'KBA13_CCM_1401_2500', 'DSL_FLAG', 'AKT_DAT_KL', 'KOMBIALTER', \n",
    "                               'D19_VERSI_ONLINE_DATUM', 'KBA13_BAUMAX', 'KBA13_ANTG2', 'D19_BUCH_CD',\n",
    "                               'ALTER_KIND1', 'D19_VERSI_DATUM', 'EINGEFUEGT_AM', 'KBA13_ANTG1',\n",
    "                               'RT_UEBERGROESSE', 'D19_TELKO_ONLINE_QUOTE_12', 'VERDICHTUNGSRAUM', 'LNR',\n",
    "                               'D19_SOZIALES', 'KBA13_ANTG3', 'VK_DHT4A', 'VK_ZG11', 'KBA13_ANTG4', 'VHN',\n",
    "                               'ALTER_KIND2', 'ANZ_KINDER', 'D19_VERSI_OFFLINE_DATUM', 'UNGLEICHENN_FLAG',\n",
    "                               'ALTERSKATEGORIE_FEIN', 'RT_KEIN_ANREIZ', 'KBA13_KMH_210', \n",
    "                               'D19_LETZTER_KAUF_BRANCHE', 'ALTER_KIND4', 'KONSUMZELLE', 'UMFELD_JUNG',\n",
    "                               'HH_DELTA_FLAG', 'VK_DISTANZ', 'KBA13_HHZ', 'CJT_KATALOGNUTZER']    \n",
    "            \n",
    "    to_drop_30 = ['AGER_TYP', 'ALTER_HH', 'D19_BANKEN_ANZ_12', 'D19_BANKEN_ANZ_24', 'D19_BANKEN_DIREKT',\n",
    "                  'D19_BANKEN_GROSS', 'D19_BANKEN_LOKAL', 'D19_BANKEN_ONLINE_QUOTE_12', 'D19_BANKEN_REST',\n",
    "                  'D19_BEKLEIDUNG_GEH', 'D19_BEKLEIDUNG_REST', 'D19_BILDUNG', 'D19_BIO_OEKO', 'D19_DIGIT_SERV',\n",
    "                  'D19_DROGERIEARTIKEL', 'D19_ENERGIE', 'D19_FREIZEIT', 'D19_GARTEN', 'D19_GESAMT_ANZ_12',\n",
    "                  'D19_GESAMT_ANZ_24', 'D19_GESAMT_ONLINE_QUOTE_12', 'D19_HANDWERK', 'D19_HAUS_DEKO',\n",
    "                  'D19_KINDERARTIKEL', 'D19_KOSMETIK', 'D19_LEBENSMITTEL', 'D19_LOTTO', 'D19_NAHRUNGSERGAENZUNG',\n",
    "                  'D19_RATGEBER', 'D19_REISEN', 'D19_SAMMELARTIKEL', 'D19_SCHUHE', 'D19_SONSTIGE', 'D19_TECHNIK',\n",
    "                  'D19_TELKO_ANZ_12', 'D19_TELKO_ANZ_24', 'D19_TELKO_MOBILE', 'D19_TELKO_REST', 'D19_TIERARTIKEL',\n",
    "                  'D19_VERSAND_ANZ_12', 'D19_VERSAND_ANZ_24', 'D19_VERSAND_ONLINE_QUOTE_12', 'D19_VERSAND_REST',\n",
    "                  'D19_VERSI_ANZ_12', 'D19_VERSI_ANZ_24', 'D19_VERSICHERUNGEN', 'D19_VOLLSORTIMENT',\n",
    "                  'D19_WEIN_FEINKOST', 'GEBURTSJAHR', 'KBA05_BAUMAX', 'KBA05_MAXVORB', 'KK_KUNDENTYP', 'TITEL_KZ']\n",
    "    \n",
    "    to_drop_multi = ['FINANZTYP', 'GEBAEUDETYP', 'LP_FAMILIE_FEIN', 'LP_STATUS_FEIN','CAMEO_DEU_2015']\n",
    "    \n",
    "    multi_to_dummies = ['CJT_GESAMTTYP', 'GFK_URLAUBERTYP', 'LP_FAMILIE_GROB', 'LP_STATUS_GROB', 'NATIONALITAET_KZ',\n",
    "                       'SHOPPER_TYP', 'ZABEOTYP', 'CAMEO_DEUG_2015']\n",
    "    \n",
    "\n",
    "    # remove selected columns and rows, ...\n",
    "    \n",
    "    df = df.drop(to_drop_no_info_columns, axis=1)\n",
    "    df = df.drop(to_drop_30, axis=1)\n",
    "              \n",
    "    #df = df[df.isnull().sum(axis=1) < 65]\n",
    "    df = df.drop(to_drop_multi, axis=1)\n",
    "    \n",
    "    # select, re-encode, and engineer column values.\n",
    "    df['OST_WEST_KZ'] = df['OST_WEST_KZ'].map({'W': 1, 'O': 0})\n",
    "    df = pd.get_dummies(df, columns=multi_to_dummies)\n",
    "    \n",
    "    df['DECADE'] = df['PRAEGENDE_JUGENDJAHRE'].apply(add_decade)\n",
    "    df['MOVEMENT'] = df['PRAEGENDE_JUGENDJAHRE'].apply(add_movement)\n",
    "\n",
    "    df['CAMEO_INTL_2015_WEALTH'] = df['CAMEO_INTL_2015'].apply(add_wealth)\n",
    "    df['CAMEO_INTL_2015_LIFE_STAGE'] = df['CAMEO_INTL_2015'].apply(add_life_stage)\n",
    "    \n",
    "    df = df.drop(['PRAEGENDE_JUGENDJAHRE','CAMEO_INTL_2015'], axis = 1)\n",
    "    \n",
    "    # Return the cleaned dataframe.\n",
    "    return df"
   ]
  },
  {
   "cell_type": "code",
   "execution_count": 60,
   "metadata": {},
   "outputs": [],
   "source": [
    "#Clean mailout_train data\n",
    "train = clean_data(mailout_train)"
   ]
  },
  {
   "cell_type": "code",
   "execution_count": 61,
   "metadata": {},
   "outputs": [
    {
     "data": {
      "text/html": [
       "<div>\n",
       "<style scoped>\n",
       "    .dataframe tbody tr th:only-of-type {\n",
       "        vertical-align: middle;\n",
       "    }\n",
       "\n",
       "    .dataframe tbody tr th {\n",
       "        vertical-align: top;\n",
       "    }\n",
       "\n",
       "    .dataframe thead th {\n",
       "        text-align: right;\n",
       "    }\n",
       "</style>\n",
       "<table border=\"1\" class=\"dataframe\">\n",
       "  <thead>\n",
       "    <tr style=\"text-align: right;\">\n",
       "      <th></th>\n",
       "      <th>ANZ_HAUSHALTE_AKTIV</th>\n",
       "      <th>ANZ_HH_TITEL</th>\n",
       "      <th>ANZ_PERSONEN</th>\n",
       "      <th>ANZ_TITEL</th>\n",
       "      <th>ARBEIT</th>\n",
       "      <th>BALLRAUM</th>\n",
       "      <th>CJT_TYP_1</th>\n",
       "      <th>CJT_TYP_2</th>\n",
       "      <th>CJT_TYP_3</th>\n",
       "      <th>CJT_TYP_4</th>\n",
       "      <th>...</th>\n",
       "      <th>CAMEO_DEUG_2015_4</th>\n",
       "      <th>CAMEO_DEUG_2015_5</th>\n",
       "      <th>CAMEO_DEUG_2015_6</th>\n",
       "      <th>CAMEO_DEUG_2015_7</th>\n",
       "      <th>CAMEO_DEUG_2015_8</th>\n",
       "      <th>CAMEO_DEUG_2015_9</th>\n",
       "      <th>DECADE</th>\n",
       "      <th>MOVEMENT</th>\n",
       "      <th>CAMEO_INTL_2015_WEALTH</th>\n",
       "      <th>CAMEO_INTL_2015_LIFE_STAGE</th>\n",
       "    </tr>\n",
       "  </thead>\n",
       "  <tbody>\n",
       "    <tr>\n",
       "      <th>0</th>\n",
       "      <td>15.0</td>\n",
       "      <td>0.0</td>\n",
       "      <td>1.0</td>\n",
       "      <td>0.0</td>\n",
       "      <td>3.0</td>\n",
       "      <td>5.0</td>\n",
       "      <td>2.0</td>\n",
       "      <td>2.0</td>\n",
       "      <td>5.0</td>\n",
       "      <td>5.0</td>\n",
       "      <td>...</td>\n",
       "      <td>0</td>\n",
       "      <td>1</td>\n",
       "      <td>0</td>\n",
       "      <td>0</td>\n",
       "      <td>0</td>\n",
       "      <td>0</td>\n",
       "      <td>1.0</td>\n",
       "      <td>0.0</td>\n",
       "      <td>3.0</td>\n",
       "      <td>4.0</td>\n",
       "    </tr>\n",
       "    <tr>\n",
       "      <th>1</th>\n",
       "      <td>1.0</td>\n",
       "      <td>0.0</td>\n",
       "      <td>2.0</td>\n",
       "      <td>0.0</td>\n",
       "      <td>2.0</td>\n",
       "      <td>5.0</td>\n",
       "      <td>2.0</td>\n",
       "      <td>2.0</td>\n",
       "      <td>4.0</td>\n",
       "      <td>3.0</td>\n",
       "      <td>...</td>\n",
       "      <td>0</td>\n",
       "      <td>1</td>\n",
       "      <td>0</td>\n",
       "      <td>0</td>\n",
       "      <td>0</td>\n",
       "      <td>0</td>\n",
       "      <td>4.0</td>\n",
       "      <td>0.0</td>\n",
       "      <td>3.0</td>\n",
       "      <td>2.0</td>\n",
       "    </tr>\n",
       "    <tr>\n",
       "      <th>2</th>\n",
       "      <td>NaN</td>\n",
       "      <td>NaN</td>\n",
       "      <td>0.0</td>\n",
       "      <td>0.0</td>\n",
       "      <td>4.0</td>\n",
       "      <td>1.0</td>\n",
       "      <td>1.0</td>\n",
       "      <td>1.0</td>\n",
       "      <td>5.0</td>\n",
       "      <td>5.0</td>\n",
       "      <td>...</td>\n",
       "      <td>0</td>\n",
       "      <td>0</td>\n",
       "      <td>0</td>\n",
       "      <td>0</td>\n",
       "      <td>0</td>\n",
       "      <td>0</td>\n",
       "      <td>1.0</td>\n",
       "      <td>1.0</td>\n",
       "      <td>1.0</td>\n",
       "      <td>4.0</td>\n",
       "    </tr>\n",
       "    <tr>\n",
       "      <th>3</th>\n",
       "      <td>4.0</td>\n",
       "      <td>0.0</td>\n",
       "      <td>2.0</td>\n",
       "      <td>0.0</td>\n",
       "      <td>4.0</td>\n",
       "      <td>2.0</td>\n",
       "      <td>2.0</td>\n",
       "      <td>2.0</td>\n",
       "      <td>5.0</td>\n",
       "      <td>5.0</td>\n",
       "      <td>...</td>\n",
       "      <td>0</td>\n",
       "      <td>0</td>\n",
       "      <td>0</td>\n",
       "      <td>0</td>\n",
       "      <td>0</td>\n",
       "      <td>0</td>\n",
       "      <td>1.0</td>\n",
       "      <td>1.0</td>\n",
       "      <td>1.0</td>\n",
       "      <td>4.0</td>\n",
       "    </tr>\n",
       "    <tr>\n",
       "      <th>4</th>\n",
       "      <td>53.0</td>\n",
       "      <td>0.0</td>\n",
       "      <td>1.0</td>\n",
       "      <td>0.0</td>\n",
       "      <td>3.0</td>\n",
       "      <td>4.0</td>\n",
       "      <td>1.0</td>\n",
       "      <td>2.0</td>\n",
       "      <td>5.0</td>\n",
       "      <td>5.0</td>\n",
       "      <td>...</td>\n",
       "      <td>0</td>\n",
       "      <td>0</td>\n",
       "      <td>0</td>\n",
       "      <td>1</td>\n",
       "      <td>0</td>\n",
       "      <td>0</td>\n",
       "      <td>2.0</td>\n",
       "      <td>0.0</td>\n",
       "      <td>4.0</td>\n",
       "      <td>1.0</td>\n",
       "    </tr>\n",
       "  </tbody>\n",
       "</table>\n",
       "<p>5 rows × 302 columns</p>\n",
       "</div>"
      ],
      "text/plain": [
       "   ANZ_HAUSHALTE_AKTIV  ANZ_HH_TITEL  ANZ_PERSONEN  ANZ_TITEL  ARBEIT  \\\n",
       "0                 15.0           0.0           1.0        0.0     3.0   \n",
       "1                  1.0           0.0           2.0        0.0     2.0   \n",
       "2                  NaN           NaN           0.0        0.0     4.0   \n",
       "3                  4.0           0.0           2.0        0.0     4.0   \n",
       "4                 53.0           0.0           1.0        0.0     3.0   \n",
       "\n",
       "   BALLRAUM  CJT_TYP_1  CJT_TYP_2  CJT_TYP_3  CJT_TYP_4  \\\n",
       "0       5.0        2.0        2.0        5.0        5.0   \n",
       "1       5.0        2.0        2.0        4.0        3.0   \n",
       "2       1.0        1.0        1.0        5.0        5.0   \n",
       "3       2.0        2.0        2.0        5.0        5.0   \n",
       "4       4.0        1.0        2.0        5.0        5.0   \n",
       "\n",
       "              ...              CAMEO_DEUG_2015_4  CAMEO_DEUG_2015_5  \\\n",
       "0             ...                              0                  1   \n",
       "1             ...                              0                  1   \n",
       "2             ...                              0                  0   \n",
       "3             ...                              0                  0   \n",
       "4             ...                              0                  0   \n",
       "\n",
       "   CAMEO_DEUG_2015_6  CAMEO_DEUG_2015_7  CAMEO_DEUG_2015_8  CAMEO_DEUG_2015_9  \\\n",
       "0                  0                  0                  0                  0   \n",
       "1                  0                  0                  0                  0   \n",
       "2                  0                  0                  0                  0   \n",
       "3                  0                  0                  0                  0   \n",
       "4                  0                  1                  0                  0   \n",
       "\n",
       "   DECADE  MOVEMENT  CAMEO_INTL_2015_WEALTH  CAMEO_INTL_2015_LIFE_STAGE  \n",
       "0     1.0       0.0                     3.0                         4.0  \n",
       "1     4.0       0.0                     3.0                         2.0  \n",
       "2     1.0       1.0                     1.0                         4.0  \n",
       "3     1.0       1.0                     1.0                         4.0  \n",
       "4     2.0       0.0                     4.0                         1.0  \n",
       "\n",
       "[5 rows x 302 columns]"
      ]
     },
     "execution_count": 61,
     "metadata": {},
     "output_type": "execute_result"
    }
   ],
   "source": [
    "train.head()"
   ]
  },
  {
   "cell_type": "code",
   "execution_count": 62,
   "metadata": {},
   "outputs": [
    {
     "data": {
      "text/plain": [
       "(34733,)"
      ]
     },
     "execution_count": 62,
     "metadata": {},
     "output_type": "execute_result"
    }
   ],
   "source": [
    "train['RESPONSE'].shape"
   ]
  },
  {
   "cell_type": "code",
   "execution_count": 63,
   "metadata": {},
   "outputs": [],
   "source": [
    "# Separate and keep 'Response' column as labels file and the rest as training data file \n",
    "y_response = train['RESPONSE']\n",
    "train_data = train.drop(['RESPONSE'], axis=1)"
   ]
  },
  {
   "cell_type": "code",
   "execution_count": 64,
   "metadata": {},
   "outputs": [
    {
     "data": {
      "text/plain": [
       "((34733,), (34733, 302))"
      ]
     },
     "execution_count": 64,
     "metadata": {},
     "output_type": "execute_result"
    }
   ],
   "source": [
    "y_response.shape, train.shape\n",
    "#train.head()"
   ]
  },
  {
   "cell_type": "code",
   "execution_count": 55,
   "metadata": {},
   "outputs": [
    {
     "data": {
      "text/html": [
       "<div>\n",
       "<style scoped>\n",
       "    .dataframe tbody tr th:only-of-type {\n",
       "        vertical-align: middle;\n",
       "    }\n",
       "\n",
       "    .dataframe tbody tr th {\n",
       "        vertical-align: top;\n",
       "    }\n",
       "\n",
       "    .dataframe thead th {\n",
       "        text-align: right;\n",
       "    }\n",
       "</style>\n",
       "<table border=\"1\" class=\"dataframe\">\n",
       "  <thead>\n",
       "    <tr style=\"text-align: right;\">\n",
       "      <th></th>\n",
       "      <th>0</th>\n",
       "      <th>1</th>\n",
       "      <th>2</th>\n",
       "      <th>3</th>\n",
       "      <th>4</th>\n",
       "      <th>5</th>\n",
       "      <th>6</th>\n",
       "      <th>7</th>\n",
       "      <th>8</th>\n",
       "      <th>9</th>\n",
       "      <th>...</th>\n",
       "      <th>288</th>\n",
       "      <th>289</th>\n",
       "      <th>290</th>\n",
       "      <th>291</th>\n",
       "      <th>292</th>\n",
       "      <th>293</th>\n",
       "      <th>294</th>\n",
       "      <th>295</th>\n",
       "      <th>296</th>\n",
       "      <th>297</th>\n",
       "    </tr>\n",
       "  </thead>\n",
       "  <tbody>\n",
       "    <tr>\n",
       "      <th>0</th>\n",
       "      <td>-0.939391</td>\n",
       "      <td>1.958001</td>\n",
       "      <td>-0.128754</td>\n",
       "      <td>-1.485619</td>\n",
       "      <td>-0.091669</td>\n",
       "      <td>-0.046364</td>\n",
       "      <td>-1.483349</td>\n",
       "      <td>0.441085</td>\n",
       "      <td>0.19825</td>\n",
       "      <td>0.342219</td>\n",
       "      <td>...</td>\n",
       "      <td>-0.411761</td>\n",
       "      <td>-0.276482</td>\n",
       "      <td>-0.426488</td>\n",
       "      <td>-0.308527</td>\n",
       "      <td>2.427173</td>\n",
       "      <td>-0.272351</td>\n",
       "      <td>-1.309790</td>\n",
       "      <td>-0.729448</td>\n",
       "      <td>1.398091</td>\n",
       "      <td>-1.601745</td>\n",
       "    </tr>\n",
       "    <tr>\n",
       "      <th>1</th>\n",
       "      <td>-0.450065</td>\n",
       "      <td>-0.380491</td>\n",
       "      <td>-0.128754</td>\n",
       "      <td>-1.485619</td>\n",
       "      <td>-0.091669</td>\n",
       "      <td>-1.016034</td>\n",
       "      <td>0.791915</td>\n",
       "      <td>0.441085</td>\n",
       "      <td>0.19825</td>\n",
       "      <td>0.342219</td>\n",
       "      <td>...</td>\n",
       "      <td>-0.411761</td>\n",
       "      <td>-0.276482</td>\n",
       "      <td>-0.426488</td>\n",
       "      <td>-0.308527</td>\n",
       "      <td>-0.412002</td>\n",
       "      <td>-0.272351</td>\n",
       "      <td>-0.577161</td>\n",
       "      <td>-0.729448</td>\n",
       "      <td>-1.346427</td>\n",
       "      <td>0.509725</td>\n",
       "    </tr>\n",
       "    <tr>\n",
       "      <th>2</th>\n",
       "      <td>-0.694728</td>\n",
       "      <td>-0.313677</td>\n",
       "      <td>-0.128754</td>\n",
       "      <td>-0.018930</td>\n",
       "      <td>-0.091669</td>\n",
       "      <td>-1.016034</td>\n",
       "      <td>0.791915</td>\n",
       "      <td>0.441085</td>\n",
       "      <td>0.19825</td>\n",
       "      <td>0.342219</td>\n",
       "      <td>...</td>\n",
       "      <td>2.428595</td>\n",
       "      <td>-0.276482</td>\n",
       "      <td>-0.426488</td>\n",
       "      <td>-0.308527</td>\n",
       "      <td>-0.412002</td>\n",
       "      <td>-0.272351</td>\n",
       "      <td>-0.577161</td>\n",
       "      <td>1.370899</td>\n",
       "      <td>-0.660297</td>\n",
       "      <td>-0.897921</td>\n",
       "    </tr>\n",
       "    <tr>\n",
       "      <th>3</th>\n",
       "      <td>-0.450065</td>\n",
       "      <td>-0.380491</td>\n",
       "      <td>-0.128754</td>\n",
       "      <td>0.714414</td>\n",
       "      <td>-0.091669</td>\n",
       "      <td>-1.985704</td>\n",
       "      <td>0.791915</td>\n",
       "      <td>0.441085</td>\n",
       "      <td>0.19825</td>\n",
       "      <td>0.342219</td>\n",
       "      <td>...</td>\n",
       "      <td>-0.411761</td>\n",
       "      <td>-0.276482</td>\n",
       "      <td>2.344730</td>\n",
       "      <td>-0.308527</td>\n",
       "      <td>-0.412002</td>\n",
       "      <td>-0.272351</td>\n",
       "      <td>-0.577161</td>\n",
       "      <td>-0.729448</td>\n",
       "      <td>0.711961</td>\n",
       "      <td>0.509725</td>\n",
       "    </tr>\n",
       "    <tr>\n",
       "      <th>4</th>\n",
       "      <td>-0.694728</td>\n",
       "      <td>-0.313677</td>\n",
       "      <td>-0.128754</td>\n",
       "      <td>-0.018930</td>\n",
       "      <td>-0.091669</td>\n",
       "      <td>-0.046364</td>\n",
       "      <td>-0.118191</td>\n",
       "      <td>0.441085</td>\n",
       "      <td>0.19825</td>\n",
       "      <td>0.342219</td>\n",
       "      <td>...</td>\n",
       "      <td>-0.411761</td>\n",
       "      <td>-0.276482</td>\n",
       "      <td>-0.426488</td>\n",
       "      <td>-0.308527</td>\n",
       "      <td>2.427173</td>\n",
       "      <td>-0.272351</td>\n",
       "      <td>-1.309790</td>\n",
       "      <td>-0.729448</td>\n",
       "      <td>1.398091</td>\n",
       "      <td>1.213548</td>\n",
       "    </tr>\n",
       "  </tbody>\n",
       "</table>\n",
       "<p>5 rows × 298 columns</p>\n",
       "</div>"
      ],
      "text/plain": [
       "        0         1         2         3         4         5         6    \\\n",
       "0 -0.939391  1.958001 -0.128754 -1.485619 -0.091669 -0.046364 -1.483349   \n",
       "1 -0.450065 -0.380491 -0.128754 -1.485619 -0.091669 -1.016034  0.791915   \n",
       "2 -0.694728 -0.313677 -0.128754 -0.018930 -0.091669 -1.016034  0.791915   \n",
       "3 -0.450065 -0.380491 -0.128754  0.714414 -0.091669 -1.985704  0.791915   \n",
       "4 -0.694728 -0.313677 -0.128754 -0.018930 -0.091669 -0.046364 -0.118191   \n",
       "\n",
       "        7        8         9      ...          288       289       290  \\\n",
       "0  0.441085  0.19825  0.342219    ...    -0.411761 -0.276482 -0.426488   \n",
       "1  0.441085  0.19825  0.342219    ...    -0.411761 -0.276482 -0.426488   \n",
       "2  0.441085  0.19825  0.342219    ...     2.428595 -0.276482 -0.426488   \n",
       "3  0.441085  0.19825  0.342219    ...    -0.411761 -0.276482  2.344730   \n",
       "4  0.441085  0.19825  0.342219    ...    -0.411761 -0.276482 -0.426488   \n",
       "\n",
       "        291       292       293       294       295       296       297  \n",
       "0 -0.308527  2.427173 -0.272351 -1.309790 -0.729448  1.398091 -1.601745  \n",
       "1 -0.308527 -0.412002 -0.272351 -0.577161 -0.729448 -1.346427  0.509725  \n",
       "2 -0.308527 -0.412002 -0.272351 -0.577161  1.370899 -0.660297 -0.897921  \n",
       "3 -0.308527 -0.412002 -0.272351 -0.577161 -0.729448  0.711961  0.509725  \n",
       "4 -0.308527  2.427173 -0.272351 -1.309790 -0.729448  1.398091  1.213548  \n",
       "\n",
       "[5 rows x 298 columns]"
      ]
     },
     "execution_count": 55,
     "metadata": {},
     "output_type": "execute_result"
    }
   ],
   "source": [
    "# test\n",
    "test = pd.DataFrame(X_train_scaled)\n",
    "test.head()"
   ]
  },
  {
   "cell_type": "code",
   "execution_count": 93,
   "metadata": {},
   "outputs": [],
   "source": [
    " \n",
    "params = {}\n",
    "\n",
    "def roc_score_and_best_model(clf, params, X=train_data, y=y_response):\n",
    "    \"\"\"\n",
    "    Build Pipeline for imputing, scaling data and classifier, perform a \n",
    "    Grid search using GridSearchCV on Pipeline with given parameters\n",
    "    \n",
    "    INPUT: classifier, parameters \n",
    "    OUTPUT: GridSearch best estimator \n",
    "    \"\"\"\n",
    "    pipeline = Pipeline([('imp', Imputer(strategy='most_frequent')),\n",
    "                         ('scaler', StandardScaler()),('clf', clf)])\n",
    "                            \n",
    "    grid = GridSearchCV(estimator=pipeline, param_grid=params, scoring='roc_auc', cv=5, n_jobs=-1)\n",
    "\n",
    "    grid.fit(train_data,y_response)\n",
    "    \n",
    "    \n",
    "    print(\"Best score is: {}\".format(round(grid.best_score_, 4)), grid.best_params_)\n",
    "    \n",
    "    return grid.best_estimator_   \n"
   ]
  },
  {
   "cell_type": "code",
   "execution_count": 83,
   "metadata": {},
   "outputs": [
    {
     "name": "stdout",
     "output_type": "stream",
     "text": [
      "Best score is: 0.5177\n",
      "CPU times: user 12.7 s, sys: 3.44 s, total: 16.1 s\n",
      "Wall time: 16.2 s\n"
     ]
    },
    {
     "data": {
      "text/plain": [
       "Pipeline(memory=None,\n",
       "     steps=[('imp', Imputer(axis=0, copy=True, missing_values='NaN', strategy='most_frequent',\n",
       "    verbose=0)), ('scaler', StandardScaler(copy=True, with_mean=True, with_std=True)), ('clf', RandomForestClassifier(bootstrap=True, class_weight=None, criterion='gini',\n",
       "            max_depth=None, max_feature...stimators=10, n_jobs=1,\n",
       "            oob_score=False, random_state=42, verbose=0, warm_start=False))])"
      ]
     },
     "execution_count": 83,
     "metadata": {},
     "output_type": "execute_result"
    }
   ],
   "source": [
    "%%time\n",
    "# RandomForestClassifier\n",
    "roc_score_and_best_model(RandomForestClassifier(random_state=42), params)"
   ]
  },
  {
   "cell_type": "code",
   "execution_count": 84,
   "metadata": {},
   "outputs": [
    {
     "name": "stdout",
     "output_type": "stream",
     "text": [
      "Best score is: 0.631\n",
      "CPU times: user 3min 29s, sys: 4.14 s, total: 3min 34s\n",
      "Wall time: 3min 34s\n"
     ]
    },
    {
     "data": {
      "text/plain": [
       "Pipeline(memory=None,\n",
       "     steps=[('imp', Imputer(axis=0, copy=True, missing_values='NaN', strategy='most_frequent',\n",
       "    verbose=0)), ('scaler', StandardScaler(copy=True, with_mean=True, with_std=True)), ('clf', GradientBoostingClassifier(criterion='friedman_mse', init=None,\n",
       "              learning_rate=0.1, loss='deviance', m...        presort='auto', random_state=42, subsample=1.0, verbose=0,\n",
       "              warm_start=False))])"
      ]
     },
     "execution_count": 84,
     "metadata": {},
     "output_type": "execute_result"
    }
   ],
   "source": [
    "%%time\n",
    "# GradientBoostingClassifier\n",
    "roc_score_and_best_model(GradientBoostingClassifier(random_state=42), params)"
   ]
  },
  {
   "cell_type": "code",
   "execution_count": 68,
   "metadata": {},
   "outputs": [
    {
     "name": "stdout",
     "output_type": "stream",
     "text": [
      "Best score is: 0.6161 {}\n",
      "CPU times: user 3min 28s, sys: 3.68 s, total: 3min 32s\n",
      "Wall time: 3min 33s\n"
     ]
    },
    {
     "data": {
      "text/plain": [
       "GridSearchCV(cv=5, error_score='raise',\n",
       "       estimator=Pipeline(memory=None,\n",
       "     steps=[('imp', Imputer(axis=0, copy=True, missing_values='NaN', strategy='most_frequent',\n",
       "    verbose=0)), ('scaler', StandardScaler(copy=True, with_mean=True, with_std=True)), ('clf', GradientBoostingRegressor(alpha=0.9, criterion='friedman_mse', init=None,\n",
       "             learning_rate=0.1, loss='ls'...ors=100, presort='auto', random_state=42,\n",
       "             subsample=1.0, verbose=0, warm_start=False))]),\n",
       "       fit_params=None, iid=True, n_jobs=-1, param_grid={},\n",
       "       pre_dispatch='2*n_jobs', refit=True, return_train_score='warn',\n",
       "       scoring='roc_auc', verbose=0)"
      ]
     },
     "execution_count": 68,
     "metadata": {},
     "output_type": "execute_result"
    }
   ],
   "source": [
    "%%time\n",
    "# GradientBoostingRegressor\n",
    "roc_score_and_best_model(GradientBoostingRegressor(random_state=42), params)"
   ]
  },
  {
   "cell_type": "code",
   "execution_count": 85,
   "metadata": {},
   "outputs": [
    {
     "name": "stdout",
     "output_type": "stream",
     "text": [
      "Best score is: 0.6115\n",
      "CPU times: user 1min 13s, sys: 3.68 s, total: 1min 16s\n",
      "Wall time: 1min 17s\n"
     ]
    },
    {
     "data": {
      "text/plain": [
       "Pipeline(memory=None,\n",
       "     steps=[('imp', Imputer(axis=0, copy=True, missing_values='NaN', strategy='most_frequent',\n",
       "    verbose=0)), ('scaler', StandardScaler(copy=True, with_mean=True, with_std=True)), ('clf', AdaBoostClassifier(algorithm='SAMME.R', base_estimator=None,\n",
       "          learning_rate=1.0, n_estimators=50, random_state=42))])"
      ]
     },
     "execution_count": 85,
     "metadata": {},
     "output_type": "execute_result"
    }
   ],
   "source": [
    "%%time\n",
    "# AdaBoostClassifier\n",
    "roc_score_and_best_model(AdaBoostClassifier(random_state=42), params)"
   ]
  },
  {
   "cell_type": "code",
   "execution_count": 96,
   "metadata": {},
   "outputs": [
    {
     "name": "stdout",
     "output_type": "stream",
     "text": [
      "Best score is: 0.6297 {'clf__learning_rate': 0.5, 'clf__n_estimators': 50}\n",
      "CPU times: user 8min 40s, sys: 19.6 s, total: 9min\n",
      "Wall time: 9min 2s\n"
     ]
    }
   ],
   "source": [
    "%%time\n",
    "params = {'clf__learning_rate' : [0.5, 0.1],\n",
    "          'clf__n_estimators' : [50, 70, 100]           \n",
    "         }\n",
    "\n",
    "AdaBoost_model = roc_score_and_best_model(AdaBoostClassifier(random_state=42), params)"
   ]
  },
  {
   "cell_type": "code",
   "execution_count": 119,
   "metadata": {},
   "outputs": [
    {
     "name": "stdout",
     "output_type": "stream",
     "text": [
      "Best score is: 0.6333 {'clf__learning_rate': 0.1, 'clf__max_depth': 3, 'clf__min_samples_split': 6, 'clf__n_estimators': 100}\n",
      "CPU times: user 11min 14s, sys: 7.13 s, total: 11min 21s\n",
      "Wall time: 11min 23s\n"
     ]
    }
   ],
   "source": [
    "%%time\n",
    "params = {'clf__learning_rate' : [0.1],\n",
    "          'clf__n_estimators' : [100],\n",
    "          'clf__min_samples_split': [6],\n",
    "          'clf__max_depth' : [3, 5]\n",
    "         }\n",
    "\n",
    "GradientBoost_model = roc_score_and_best_model(GradientBoostingClassifier(random_state=42), params)"
   ]
  },
  {
   "cell_type": "markdown",
   "metadata": {},
   "source": [
    "## Part 3: Kaggle Competition\n",
    "\n",
    "Now that you've created a model to predict which individuals are most likely to respond to a mailout campaign, it's time to test that model in competition through Kaggle. If you click on the link [here](http://www.kaggle.com/t/21e6d45d4c574c7fa2d868f0e8c83140), you'll be taken to the competition page where, if you have a Kaggle account, you can enter. If you're one of the top performers, you may have the chance to be contacted by a hiring manager from Arvato or Bertelsmann for an interview!\n",
    "\n",
    "Your entry to the competition should be a CSV file with two columns. The first column should be a copy of \"LNR\", which acts as an ID number for each individual in the \"TEST\" partition. The second column, \"RESPONSE\", should be some measure of how likely each individual became a customer – this might not be a straightforward probability. As you should have found in Part 2, there is a large output class imbalance, where most individuals did not respond to the mailout. Thus, predicting individual classes and using accuracy does not seem to be an appropriate performance evaluation method. Instead, the competition will be using AUC to evaluate performance. The exact values of the \"RESPONSE\" column do not matter as much: only that the higher values try to capture as many of the actual customers as possible, early in the ROC curve sweep."
   ]
  },
  {
   "cell_type": "code",
   "execution_count": 98,
   "metadata": {},
   "outputs": [],
   "source": [
    "mailout_test = pd.read_csv('../../data/Term2/capstone/arvato_data/Udacity_MAILOUT_052018_TEST.csv', sep=';', low_memory=False)"
   ]
  },
  {
   "cell_type": "code",
   "execution_count": 101,
   "metadata": {},
   "outputs": [],
   "source": [
    "# Save 'LNR' column to new dataframe and clean test data\n",
    "test_LNR = mailout_test['LNR']\n",
    "mailout_test_clean = clean_data_kaggle(mailout_test) \n"
   ]
  },
  {
   "cell_type": "code",
   "execution_count": 125,
   "metadata": {},
   "outputs": [
    {
     "data": {
      "text/plain": [
       "Pipeline(memory=None,\n",
       "     steps=[('imp', Imputer(axis=0, copy=True, missing_values='NaN', strategy='most_frequent',\n",
       "    verbose=0)), ('scaler', StandardScaler(copy=True, with_mean=True, with_std=True)), ('clf', AdaBoostClassifier(algorithm='SAMME.R', base_estimator=None,\n",
       "          learning_rate=0.5, n_estimators=50, random_state=42))])"
      ]
     },
     "execution_count": 125,
     "metadata": {},
     "output_type": "execute_result"
    }
   ],
   "source": [
    "# Fit AdaBoostClassifier model\n",
    "AdaBoost_model.fit(train_data, y_response)"
   ]
  },
  {
   "cell_type": "code",
   "execution_count": 120,
   "metadata": {},
   "outputs": [
    {
     "data": {
      "text/plain": [
       "Pipeline(memory=None,\n",
       "     steps=[('imp', Imputer(axis=0, copy=True, missing_values='NaN', strategy='most_frequent',\n",
       "    verbose=0)), ('scaler', StandardScaler(copy=True, with_mean=True, with_std=True)), ('clf', GradientBoostingClassifier(criterion='friedman_mse', init=None,\n",
       "              learning_rate=0.1, loss='deviance', m...        presort='auto', random_state=42, subsample=1.0, verbose=0,\n",
       "              warm_start=False))])"
      ]
     },
     "execution_count": 120,
     "metadata": {},
     "output_type": "execute_result"
    }
   ],
   "source": [
    "# Fit GradientBoostingClassifier model\n",
    "GradientBoost_model.fit(train_data, y_response)"
   ]
  },
  {
   "cell_type": "code",
   "execution_count": 124,
   "metadata": {},
   "outputs": [
    {
     "data": {
      "text/plain": [
       "array([[ 0.5387795 ,  0.4612205 ],\n",
       "       [ 0.53969185,  0.46030815],\n",
       "       [ 0.55735865,  0.44264135],\n",
       "       [ 0.56671511,  0.43328489],\n",
       "       [ 0.54780597,  0.45219403],\n",
       "       [ 0.56004536,  0.43995464],\n",
       "       [ 0.5381109 ,  0.4618891 ]])"
      ]
     },
     "execution_count": 124,
     "metadata": {},
     "output_type": "execute_result"
    }
   ],
   "source": [
    "# Predict on AdaBoostClassifier model\n",
    "predictions = AdaBoost_model.predict_proba(mailout_test_clean)\n",
    "predictions[:7]"
   ]
  },
  {
   "cell_type": "code",
   "execution_count": 123,
   "metadata": {},
   "outputs": [
    {
     "data": {
      "text/plain": [
       "array([[ 0.97721388,  0.02278612],\n",
       "       [ 0.97887382,  0.02112618],\n",
       "       [ 0.9950181 ,  0.0049819 ],\n",
       "       ..., \n",
       "       [ 0.99723175,  0.00276825],\n",
       "       [ 0.99415057,  0.00584943],\n",
       "       [ 0.9883441 ,  0.0116559 ]])"
      ]
     },
     "execution_count": 123,
     "metadata": {},
     "output_type": "execute_result"
    }
   ],
   "source": [
    "# Predict on GradientBoostingClassifier model\n",
    "predictions_1 = GradientBoost_model.predict_proba(mailout_test_clean)\n",
    "predictions[:-10]"
   ]
  },
  {
   "cell_type": "code",
   "execution_count": 126,
   "metadata": {},
   "outputs": [
    {
     "data": {
      "text/html": [
       "<div>\n",
       "<style scoped>\n",
       "    .dataframe tbody tr th:only-of-type {\n",
       "        vertical-align: middle;\n",
       "    }\n",
       "\n",
       "    .dataframe tbody tr th {\n",
       "        vertical-align: top;\n",
       "    }\n",
       "\n",
       "    .dataframe thead th {\n",
       "        text-align: right;\n",
       "    }\n",
       "</style>\n",
       "<table border=\"1\" class=\"dataframe\">\n",
       "  <thead>\n",
       "    <tr style=\"text-align: right;\">\n",
       "      <th></th>\n",
       "      <th>LNR</th>\n",
       "      <th>RESPONSE</th>\n",
       "    </tr>\n",
       "  </thead>\n",
       "  <tbody>\n",
       "    <tr>\n",
       "      <th>0</th>\n",
       "      <td>1754</td>\n",
       "      <td>0.461221</td>\n",
       "    </tr>\n",
       "    <tr>\n",
       "      <th>1</th>\n",
       "      <td>1770</td>\n",
       "      <td>0.460308</td>\n",
       "    </tr>\n",
       "    <tr>\n",
       "      <th>2</th>\n",
       "      <td>1465</td>\n",
       "      <td>0.442641</td>\n",
       "    </tr>\n",
       "    <tr>\n",
       "      <th>3</th>\n",
       "      <td>1470</td>\n",
       "      <td>0.433285</td>\n",
       "    </tr>\n",
       "    <tr>\n",
       "      <th>4</th>\n",
       "      <td>1478</td>\n",
       "      <td>0.452194</td>\n",
       "    </tr>\n",
       "  </tbody>\n",
       "</table>\n",
       "</div>"
      ],
      "text/plain": [
       "    LNR  RESPONSE\n",
       "0  1754  0.461221\n",
       "1  1770  0.460308\n",
       "2  1465  0.442641\n",
       "3  1470  0.433285\n",
       "4  1478  0.452194"
      ]
     },
     "execution_count": 126,
     "metadata": {},
     "output_type": "execute_result"
    }
   ],
   "source": [
    "submission = pd.DataFrame({'LNR': test_LNR, 'RESPONSE': predictions[:,1]})\n",
    "submission.to_csv('submission_kaggle.csv', sep=',')\n",
    "\n",
    "submission.head()"
   ]
  },
  {
   "cell_type": "code",
   "execution_count": 128,
   "metadata": {},
   "outputs": [
    {
     "data": {
      "text/html": [
       "<div>\n",
       "<style scoped>\n",
       "    .dataframe tbody tr th:only-of-type {\n",
       "        vertical-align: middle;\n",
       "    }\n",
       "\n",
       "    .dataframe tbody tr th {\n",
       "        vertical-align: top;\n",
       "    }\n",
       "\n",
       "    .dataframe thead th {\n",
       "        text-align: right;\n",
       "    }\n",
       "</style>\n",
       "<table border=\"1\" class=\"dataframe\">\n",
       "  <thead>\n",
       "    <tr style=\"text-align: right;\">\n",
       "      <th></th>\n",
       "      <th>LNR</th>\n",
       "      <th>RESPONSE</th>\n",
       "    </tr>\n",
       "  </thead>\n",
       "  <tbody>\n",
       "    <tr>\n",
       "      <th>0</th>\n",
       "      <td>1754</td>\n",
       "      <td>0.022786</td>\n",
       "    </tr>\n",
       "    <tr>\n",
       "      <th>1</th>\n",
       "      <td>1770</td>\n",
       "      <td>0.021126</td>\n",
       "    </tr>\n",
       "    <tr>\n",
       "      <th>2</th>\n",
       "      <td>1465</td>\n",
       "      <td>0.004982</td>\n",
       "    </tr>\n",
       "    <tr>\n",
       "      <th>3</th>\n",
       "      <td>1470</td>\n",
       "      <td>0.009077</td>\n",
       "    </tr>\n",
       "    <tr>\n",
       "      <th>4</th>\n",
       "      <td>1478</td>\n",
       "      <td>0.003420</td>\n",
       "    </tr>\n",
       "  </tbody>\n",
       "</table>\n",
       "</div>"
      ],
      "text/plain": [
       "    LNR  RESPONSE\n",
       "0  1754  0.022786\n",
       "1  1770  0.021126\n",
       "2  1465  0.004982\n",
       "3  1470  0.009077\n",
       "4  1478  0.003420"
      ]
     },
     "execution_count": 128,
     "metadata": {},
     "output_type": "execute_result"
    }
   ],
   "source": [
    "submission_GB = pd.DataFrame({'LNR': test_LNR, 'RESPONSE': predictions_1[:,1]})\n",
    "submission_GB.to_csv('submission_kaggle_1.csv', sep=',')\n",
    "\n",
    "submission_GB.head()"
   ]
  },
  {
   "cell_type": "markdown",
   "metadata": {},
   "source": [
    "**Predictions in GradientBoostingClassifier model look more close to reality to me than those with AdaBoost model. For that reason I decided to submit GradientBoostingClassifier model predictions.**\n",
    "\n",
    "**I think there is plenty of options for improvment - I could try to optimize GradientBoostingClassifier better or try another Classifier. Unfortunately, it was very time consuming to do so. I see a potential to improve Data cleaning, some columns like ANZ_TITEL might be dropped, may be combining columns for car types and etc. Overwise it was quite a challenging project for me but I was able to do it and this is the best part.**"
   ]
  }
 ],
 "metadata": {
  "kernelspec": {
   "display_name": "Python 3",
   "language": "python",
   "name": "python3"
  },
  "language_info": {
   "codemirror_mode": {
    "name": "ipython",
    "version": 3
   },
   "file_extension": ".py",
   "mimetype": "text/x-python",
   "name": "python",
   "nbconvert_exporter": "python",
   "pygments_lexer": "ipython3",
   "version": "3.6.3"
  }
 },
 "nbformat": 4,
 "nbformat_minor": 2
}
